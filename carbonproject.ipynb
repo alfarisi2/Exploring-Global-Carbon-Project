{
 "cells": [
  {
   "attachments": {},
   "cell_type": "markdown",
   "metadata": {},
   "source": [
    " # __Exploring Global Carbon Project__\n",
    "\n",
    "In this notebook, I will explore two datasets from the well-known __The Global Carbon Project__. The first data is called __Global Carbon Budget__ and <br>the second one is __National Carbon Emission__. I only take one sheet per file. Then I will try to derive some basic statistics and also visualize the data. <br>\n",
    "\n",
    "The datasets can be downloaded from this __[link](https://www.icos-cp.eu/science-and-impact/global-carbon-budget/2021)__. For full citation please the readme file on this github. "
   ]
  },
  {
   "attachments": {},
   "cell_type": "markdown",
   "metadata": {},
   "source": [
    "## __Global Carbon Budget__\n",
    "\n",
    "To read the data, this is the note from the authors. I directly quote it \"All values in billion tonnes of carbon per year (GtC/yr), for the globe. <br> For values in billion tonnes of carbon dioxide per year (GtCO2/yr) , multiply the numbers below by 3.664. 1 billion tonnes C = 1 petagram of carbon (10^15 gC) = 1 gigatonne C = 3.664 billion tonnes of CO2\""
   ]
  },
  {
   "cell_type": "code",
   "execution_count": 1,
   "metadata": {},
   "outputs": [],
   "source": [
    "import pandas as pd"
   ]
  },
  {
   "cell_type": "code",
   "execution_count": 2,
   "metadata": {},
   "outputs": [
    {
     "data": {
      "text/html": [
       "<div>\n",
       "<style scoped>\n",
       "    .dataframe tbody tr th:only-of-type {\n",
       "        vertical-align: middle;\n",
       "    }\n",
       "\n",
       "    .dataframe tbody tr th {\n",
       "        vertical-align: top;\n",
       "    }\n",
       "\n",
       "    .dataframe thead th {\n",
       "        text-align: right;\n",
       "    }\n",
       "</style>\n",
       "<table border=\"1\" class=\"dataframe\">\n",
       "  <thead>\n",
       "    <tr style=\"text-align: right;\">\n",
       "      <th></th>\n",
       "      <th>Year</th>\n",
       "      <th>fossil emissions excluding carbonation</th>\n",
       "      <th>land-use change emissions</th>\n",
       "      <th>atmospheric growth</th>\n",
       "      <th>ocean sink</th>\n",
       "      <th>land sink</th>\n",
       "      <th>cement carbonation sink</th>\n",
       "      <th>budget imbalance</th>\n",
       "    </tr>\n",
       "  </thead>\n",
       "  <tbody>\n",
       "    <tr>\n",
       "      <th>0</th>\n",
       "      <td>1959</td>\n",
       "      <td>2.417133</td>\n",
       "      <td>1.845519</td>\n",
       "      <td>2.03904</td>\n",
       "      <td>0.918022</td>\n",
       "      <td>0.395882</td>\n",
       "      <td>0.012684</td>\n",
       "      <td>0.897023</td>\n",
       "    </tr>\n",
       "    <tr>\n",
       "      <th>1</th>\n",
       "      <td>1960</td>\n",
       "      <td>2.562175</td>\n",
       "      <td>1.853712</td>\n",
       "      <td>1.50804</td>\n",
       "      <td>0.899129</td>\n",
       "      <td>1.156471</td>\n",
       "      <td>0.013839</td>\n",
       "      <td>0.838409</td>\n",
       "    </tr>\n",
       "    <tr>\n",
       "      <th>2</th>\n",
       "      <td>1961</td>\n",
       "      <td>2.570588</td>\n",
       "      <td>1.862120</td>\n",
       "      <td>1.65672</td>\n",
       "      <td>0.754060</td>\n",
       "      <td>0.611176</td>\n",
       "      <td>0.014726</td>\n",
       "      <td>1.396025</td>\n",
       "    </tr>\n",
       "    <tr>\n",
       "      <th>3</th>\n",
       "      <td>1962</td>\n",
       "      <td>2.661371</td>\n",
       "      <td>1.790599</td>\n",
       "      <td>1.18944</td>\n",
       "      <td>0.800369</td>\n",
       "      <td>1.155294</td>\n",
       "      <td>0.015871</td>\n",
       "      <td>1.290996</td>\n",
       "    </tr>\n",
       "    <tr>\n",
       "      <th>4</th>\n",
       "      <td>1963</td>\n",
       "      <td>2.803463</td>\n",
       "      <td>1.651862</td>\n",
       "      <td>1.21068</td>\n",
       "      <td>0.981130</td>\n",
       "      <td>1.060588</td>\n",
       "      <td>0.016863</td>\n",
       "      <td>1.186064</td>\n",
       "    </tr>\n",
       "  </tbody>\n",
       "</table>\n",
       "</div>"
      ],
      "text/plain": [
       "   Year  fossil emissions excluding carbonation  land-use change emissions  \\\n",
       "0  1959                                2.417133                   1.845519   \n",
       "1  1960                                2.562175                   1.853712   \n",
       "2  1961                                2.570588                   1.862120   \n",
       "3  1962                                2.661371                   1.790599   \n",
       "4  1963                                2.803463                   1.651862   \n",
       "\n",
       "   atmospheric growth  ocean sink  land sink  cement carbonation sink  \\\n",
       "0             2.03904    0.918022   0.395882                 0.012684   \n",
       "1             1.50804    0.899129   1.156471                 0.013839   \n",
       "2             1.65672    0.754060   0.611176                 0.014726   \n",
       "3             1.18944    0.800369   1.155294                 0.015871   \n",
       "4             1.21068    0.981130   1.060588                 0.016863   \n",
       "\n",
       "   budget imbalance  \n",
       "0          0.897023  \n",
       "1          0.838409  \n",
       "2          1.396025  \n",
       "3          1.290996  \n",
       "4          1.186064  "
      ]
     },
     "execution_count": 2,
     "metadata": {},
     "output_type": "execute_result"
    }
   ],
   "source": [
    "df = pd.read_excel(\"D:\\dataset\\Global Carbon Project\\Global_Carbon_Budget_2021v1.0.xlsx\", sheet_name=\"Global Carbon Budget\", skiprows=range(20))\n",
    "\n",
    "df.head()"
   ]
  },
  {
   "cell_type": "code",
   "execution_count": 3,
   "metadata": {},
   "outputs": [
    {
     "name": "stdout",
     "output_type": "stream",
     "text": [
      "<class 'pandas.core.frame.DataFrame'>\n",
      "RangeIndex: 62 entries, 0 to 61\n",
      "Data columns (total 8 columns):\n",
      " #   Column                                  Non-Null Count  Dtype  \n",
      "---  ------                                  --------------  -----  \n",
      " 0   Year                                    62 non-null     int64  \n",
      " 1   fossil emissions excluding carbonation  62 non-null     float64\n",
      " 2   land-use change emissions               62 non-null     float64\n",
      " 3   atmospheric growth                      62 non-null     float64\n",
      " 4   ocean sink                              62 non-null     float64\n",
      " 5   land sink                               62 non-null     float64\n",
      " 6   cement carbonation sink                 62 non-null     float64\n",
      " 7   budget imbalance                        62 non-null     float64\n",
      "dtypes: float64(7), int64(1)\n",
      "memory usage: 4.0 KB\n"
     ]
    }
   ],
   "source": [
    "df.info()"
   ]
  },
  {
   "cell_type": "code",
   "execution_count": 4,
   "metadata": {},
   "outputs": [
    {
     "data": {
      "text/html": [
       "<div>\n",
       "<style scoped>\n",
       "    .dataframe tbody tr th:only-of-type {\n",
       "        vertical-align: middle;\n",
       "    }\n",
       "\n",
       "    .dataframe tbody tr th {\n",
       "        vertical-align: top;\n",
       "    }\n",
       "\n",
       "    .dataframe thead th {\n",
       "        text-align: right;\n",
       "    }\n",
       "</style>\n",
       "<table border=\"1\" class=\"dataframe\">\n",
       "  <thead>\n",
       "    <tr style=\"text-align: right;\">\n",
       "      <th></th>\n",
       "      <th>Year</th>\n",
       "      <th>fossil emissions excluding carbonation</th>\n",
       "      <th>land-use change emissions</th>\n",
       "      <th>atmospheric growth</th>\n",
       "      <th>ocean sink</th>\n",
       "      <th>land sink</th>\n",
       "      <th>cement carbonation sink</th>\n",
       "      <th>budget imbalance</th>\n",
       "    </tr>\n",
       "  </thead>\n",
       "  <tbody>\n",
       "    <tr>\n",
       "      <th>count</th>\n",
       "      <td>62.000000</td>\n",
       "      <td>62.000000</td>\n",
       "      <td>62.000000</td>\n",
       "      <td>62.000000</td>\n",
       "      <td>62.000000</td>\n",
       "      <td>62.000000</td>\n",
       "      <td>62.000000</td>\n",
       "      <td>62.000000</td>\n",
       "    </tr>\n",
       "    <tr>\n",
       "      <th>mean</th>\n",
       "      <td>1989.500000</td>\n",
       "      <td>6.197474</td>\n",
       "      <td>1.295076</td>\n",
       "      <td>3.361401</td>\n",
       "      <td>1.850953</td>\n",
       "      <td>2.150436</td>\n",
       "      <td>0.081260</td>\n",
       "      <td>0.048500</td>\n",
       "    </tr>\n",
       "    <tr>\n",
       "      <th>std</th>\n",
       "      <td>18.041619</td>\n",
       "      <td>2.247664</td>\n",
       "      <td>0.205203</td>\n",
       "      <td>1.413126</td>\n",
       "      <td>0.599745</td>\n",
       "      <td>0.994261</td>\n",
       "      <td>0.062165</td>\n",
       "      <td>0.769339</td>\n",
       "    </tr>\n",
       "    <tr>\n",
       "      <th>min</th>\n",
       "      <td>1959.000000</td>\n",
       "      <td>2.417133</td>\n",
       "      <td>0.876090</td>\n",
       "      <td>1.040760</td>\n",
       "      <td>0.754060</td>\n",
       "      <td>0.286471</td>\n",
       "      <td>0.012684</td>\n",
       "      <td>-1.811479</td>\n",
       "    </tr>\n",
       "    <tr>\n",
       "      <th>25%</th>\n",
       "      <td>1974.250000</td>\n",
       "      <td>4.655142</td>\n",
       "      <td>1.172131</td>\n",
       "      <td>2.272680</td>\n",
       "      <td>1.332858</td>\n",
       "      <td>1.498529</td>\n",
       "      <td>0.033573</td>\n",
       "      <td>-0.502942</td>\n",
       "    </tr>\n",
       "    <tr>\n",
       "      <th>50%</th>\n",
       "      <td>1989.500000</td>\n",
       "      <td>6.137006</td>\n",
       "      <td>1.269722</td>\n",
       "      <td>3.217860</td>\n",
       "      <td>1.860698</td>\n",
       "      <td>2.233529</td>\n",
       "      <td>0.058057</td>\n",
       "      <td>-0.014754</td>\n",
       "    </tr>\n",
       "    <tr>\n",
       "      <th>75%</th>\n",
       "      <td>2004.750000</td>\n",
       "      <td>8.011827</td>\n",
       "      <td>1.346078</td>\n",
       "      <td>4.534740</td>\n",
       "      <td>2.260718</td>\n",
       "      <td>2.931765</td>\n",
       "      <td>0.114153</td>\n",
       "      <td>0.590341</td>\n",
       "    </tr>\n",
       "    <tr>\n",
       "      <th>max</th>\n",
       "      <td>2020.000000</td>\n",
       "      <td>10.016143</td>\n",
       "      <td>1.862120</td>\n",
       "      <td>6.265800</td>\n",
       "      <td>2.994931</td>\n",
       "      <td>3.941176</td>\n",
       "      <td>0.218796</td>\n",
       "      <td>1.808474</td>\n",
       "    </tr>\n",
       "  </tbody>\n",
       "</table>\n",
       "</div>"
      ],
      "text/plain": [
       "              Year  fossil emissions excluding carbonation  \\\n",
       "count    62.000000                               62.000000   \n",
       "mean   1989.500000                                6.197474   \n",
       "std      18.041619                                2.247664   \n",
       "min    1959.000000                                2.417133   \n",
       "25%    1974.250000                                4.655142   \n",
       "50%    1989.500000                                6.137006   \n",
       "75%    2004.750000                                8.011827   \n",
       "max    2020.000000                               10.016143   \n",
       "\n",
       "       land-use change emissions  atmospheric growth  ocean sink  land sink  \\\n",
       "count                  62.000000           62.000000   62.000000  62.000000   \n",
       "mean                    1.295076            3.361401    1.850953   2.150436   \n",
       "std                     0.205203            1.413126    0.599745   0.994261   \n",
       "min                     0.876090            1.040760    0.754060   0.286471   \n",
       "25%                     1.172131            2.272680    1.332858   1.498529   \n",
       "50%                     1.269722            3.217860    1.860698   2.233529   \n",
       "75%                     1.346078            4.534740    2.260718   2.931765   \n",
       "max                     1.862120            6.265800    2.994931   3.941176   \n",
       "\n",
       "       cement carbonation sink  budget imbalance  \n",
       "count                62.000000         62.000000  \n",
       "mean                  0.081260          0.048500  \n",
       "std                   0.062165          0.769339  \n",
       "min                   0.012684         -1.811479  \n",
       "25%                   0.033573         -0.502942  \n",
       "50%                   0.058057         -0.014754  \n",
       "75%                   0.114153          0.590341  \n",
       "max                   0.218796          1.808474  "
      ]
     },
     "execution_count": 4,
     "metadata": {},
     "output_type": "execute_result"
    }
   ],
   "source": [
    "df.describe()"
   ]
  },
  {
   "cell_type": "code",
   "execution_count": 5,
   "metadata": {},
   "outputs": [
    {
     "data": {
      "image/png": "[encoded data removed]",
      "text/plain": [
       "<Figure size 1500x1500 with 49 Axes>"
      ]
     },
     "metadata": {},
     "output_type": "display_data"
    }
   ],
   "source": [
    "import matplotlib.pyplot as plt\n",
    "pd.plotting.scatter_matrix(\n",
    "    df[[\"fossil emissions excluding carbonation\",\t\"land-use change emissions\",\n",
    "        \"atmospheric growth\",\t\"ocean sink\",\n",
    "        \"land sink\", \"cement carbonation sink\",\n",
    "        \"budget imbalance\"]],\n",
    "    figsize = (15, 15),\n",
    "    diagonal = \"kde\")\n",
    "plt.show()"
   ]
  },
  {
   "cell_type": "code",
   "execution_count": 6,
   "metadata": {},
   "outputs": [
    {
     "data": {
      "text/html": [
       "        <script type=\"text/javascript\">\n",
       "        window.PlotlyConfig = {MathJaxConfig: 'local'};\n",
       "        if (window.MathJax && window.MathJax.Hub && window.MathJax.Hub.Config) {window.MathJax.Hub.Config({SVG: {font: \"STIX-Web\"}});}\n",
       "        if (typeof require !== 'undefined') {\n",
       "        require.undef(\"plotly\");\n",
       "        requirejs.config({\n",
       "            paths: {\n",
       "                'plotly': ['https://cdn.plot.ly/plotly-2.18.0.min']\n",
       "            }\n",
       "        });\n",
       "        require(['plotly'], function(Plotly) {\n",
       "            window._Plotly = Plotly;\n",
       "        });\n",
       "        }\n",
       "        </script>\n",
       "        "
      ]
     },
     "metadata": {},
     "output_type": "display_data"
    },
    {
     "data": {
      "application/vnd.plotly.v1+json": {
       "config": {
        "linkText": "Export to plot.ly",
        "plotlyServerURL": "https://plot.ly",
        "showLink": false
       },
       "data": [
        {
         "name": "fossil emissions excluding carbonation",
         "type": "scatter",
         "x": [
          1959,
          1960,
          1961,
          1962,
          1963,
          1964,
          1965,
          1966,
          1967,
          1968,
          1969,
          1970,
          1971,
          1972,
          1973,
          1974,
          1975,
          1976,
          1977,
          1978,
          1979,
          1980,
          1981,
          1982,
          1983,
          1984,
          1985,
          1986,
          1987,
          1988,
          1989,
          1990,
          1991,
          1992,
          1993,
          1994,
          1995,
          1996,
          1997,
          1998,
          1999,
          2000,
          2001,
          2002,
          2003,
          2004,
          2005,
          2006,
          2007,
          2008,
          2009,
          2010,
          2011,
          2012,
          2013,
          2014,
          2015,
          2016,
          2017,
          2018,
          2019,
          2020
         ],
         "y": [
          2.41713282396274,
          2.56217532950871,
          2.57058768545191,
          2.66137089897385,
          2.80346344743521,
          2.95574985015674,
          3.08894179048108,
          3.2388800697062,
          3.34181051273785,
          3.5238302411595,
          3.75760827102091,
          4.06620508819402,
          4.2302557031101,
          4.42760351388648,
          4.66161075469646,
          4.64277952698094,
          4.65298553857673,
          4.90870669076019,
          5.04815256446881,
          5.20459322297066,
          5.35247711497914,
          5.3205381660755,
          5.19351315554345,
          5.1522626077705,
          5.18563927976013,
          5.3654555069036,
          5.54582696432764,
          5.62834390325099,
          5.80490354340745,
          6.0329836316422,
          6.11638451304683,
          6.20696711067073,
          6.34028687877195,
          6.15762759204954,
          6.22137946392934,
          6.26540619010604,
          6.3989097255219,
          6.59007794545551,
          6.63069886312397,
          6.60535866998798,
          6.69073763473793,
          6.88596068149415,
          6.94518271965216,
          7.10585523388138,
          7.46820556744195,
          7.81229339496453,
          8.0783377088779,
          8.34599644639191,
          8.59439010501234,
          8.75157598366536,
          8.62537996156615,
          9.09937607538723,
          9.4064170703451,
          9.54438999526921,
          9.62874025421371,
          9.69748695528872,
          9.68713736354912,
          9.67521246881669,
          9.80433475202988,
          10.0008134526483,
          10.0161429679209,
          9.49995777827836
         ]
        },
        {
         "name": "land-use change emissions",
         "type": "scatter",
         "x": [
          1959,
          1960,
          1961,
          1962,
          1963,
          1964,
          1965,
          1966,
          1967,
          1968,
          1969,
          1970,
          1971,
          1972,
          1973,
          1974,
          1975,
          1976,
          1977,
          1978,
          1979,
          1980,
          1981,
          1982,
          1983,
          1984,
          1985,
          1986,
          1987,
          1988,
          1989,
          1990,
          1991,
          1992,
          1993,
          1994,
          1995,
          1996,
          1997,
          1998,
          1999,
          2000,
          2001,
          2002,
          2003,
          2004,
          2005,
          2006,
          2007,
          2008,
          2009,
          2010,
          2011,
          2012,
          2013,
          2014,
          2015,
          2016,
          2017,
          2018,
          2019,
          2020
         ],
         "y": [
          1.84551880806033,
          1.85371155937901,
          1.86212030778633,
          1.7905989263756,
          1.65186198395652,
          1.56411121199796,
          1.41717257083713,
          1.34886568040862,
          1.3722228350952,
          1.37953231304461,
          1.29242437566456,
          1.28651434647713,
          1.27313438447573,
          1.27630156830798,
          1.23863708479883,
          1.19226582411145,
          1.4170177831211,
          1.30192804195087,
          1.26728447012803,
          1.15395507543187,
          1.16074176263712,
          1.13097333121806,
          1.17764639764236,
          1.15548182084022,
          1.27215874987299,
          1.4118114260781,
          1.33771324161347,
          1.31774665109921,
          1.26366566551294,
          1.22925724110767,
          1.18824099964344,
          1.17335641256856,
          1.14958675520657,
          1.19857984873555,
          1.17172268991389,
          1.3141153459946,
          1.30082121460812,
          1.32123841059034,
          1.82059021301644,
          1.40131494564395,
          1.38455844223987,
          1.23834240280816,
          1.13671228370396,
          1.287697919452,
          1.39010841002953,
          1.24898859149629,
          1.1189718644073,
          1.26637114567502,
          1.10442030385473,
          1.12960455427765,
          1.23614657040923,
          1.16781151784345,
          1.31854201345431,
          1.27632091081112,
          1.17816299027291,
          1.24554989124692,
          1.30101140685154,
          1.01080090606935,
          0.999694136552438,
          1.0528216985603,
          1.04405312953735,
          0.876089781820727
         ]
        },
        {
         "name": "atmospheric growth",
         "type": "scatter",
         "x": [
          1959,
          1960,
          1961,
          1962,
          1963,
          1964,
          1965,
          1966,
          1967,
          1968,
          1969,
          1970,
          1971,
          1972,
          1973,
          1974,
          1975,
          1976,
          1977,
          1978,
          1979,
          1980,
          1981,
          1982,
          1983,
          1984,
          1985,
          1986,
          1987,
          1988,
          1989,
          1990,
          1991,
          1992,
          1993,
          1994,
          1995,
          1996,
          1997,
          1998,
          1999,
          2000,
          2001,
          2002,
          2003,
          2004,
          2005,
          2006,
          2007,
          2008,
          2009,
          2010,
          2011,
          2012,
          2013,
          2014,
          2015,
          2016,
          2017,
          2018,
          2019,
          2020
         ],
         "y": [
          2.03904,
          1.50804,
          1.65672,
          1.18944,
          1.21068,
          1.04076,
          2.3364,
          2.3364,
          1.29564,
          2.10276,
          2.80368,
          2.40012,
          1.55052,
          3.12228,
          3.10104,
          1.44432,
          2.61252,
          2.06028,
          4.07808,
          2.73996,
          4.54536,
          3.63204,
          2.46384,
          2.08152,
          3.9294,
          2.61252,
          3.48336,
          2.124,
          5.64984,
          4.63032,
          3.14352,
          2.5488,
          1.593,
          1.50804,
          2.63376,
          3.52584,
          4.22676,
          2.25144,
          4.20552,
          6.03216,
          2.84616,
          2.63376,
          3.90816,
          5.05512,
          4.86396,
          3.2922,
          5.22504,
          3.78072,
          4.50288,
          3.75948,
          3.35592,
          5.11884,
          3.58956,
          5.11884,
          5.18256,
          4.3542,
          6.2658,
          6.01092,
          4.5666,
          5.11884,
          5.39496,
          5.01264
         ]
        },
        {
         "name": "ocean sink",
         "type": "scatter",
         "x": [
          1959,
          1960,
          1961,
          1962,
          1963,
          1964,
          1965,
          1966,
          1967,
          1968,
          1969,
          1970,
          1971,
          1972,
          1973,
          1974,
          1975,
          1976,
          1977,
          1978,
          1979,
          1980,
          1981,
          1982,
          1983,
          1984,
          1985,
          1986,
          1987,
          1988,
          1989,
          1990,
          1991,
          1992,
          1993,
          1994,
          1995,
          1996,
          1997,
          1998,
          1999,
          2000,
          2001,
          2002,
          2003,
          2004,
          2005,
          2006,
          2007,
          2008,
          2009,
          2010,
          2011,
          2012,
          2013,
          2014,
          2015,
          2016,
          2017,
          2018,
          2019,
          2020
         ],
         "y": [
          0.918022208427885,
          0.899128547540474,
          0.754059886653062,
          0.80036872576565,
          0.981130064878238,
          1.17631640399083,
          1.27094149310341,
          1.239891582216,
          1.10546542132859,
          1.11327176044118,
          1.19702184955377,
          1.09204943866636,
          1.14687952777895,
          1.38610586689153,
          1.34027720600412,
          1.26237479511671,
          1.2059523842293,
          1.33038497334188,
          1.44834006245447,
          1.49429640156706,
          1.40661399067965,
          1.66682532979224,
          1.66685666890483,
          1.81580800801741,
          1.95488059713,
          1.84039068624259,
          1.72341202535518,
          1.75404961446777,
          1.85004345358036,
          1.76801729269295,
          1.73823738180553,
          1.91760695497571,
          2.00381680093504,
          2.16758613083247,
          2.1183108052831,
          1.97648956197977,
          1.95080234180965,
          1.95211299873096,
          2.06894179294512,
          2.13553097600774,
          1.947954784743,
          1.87135287191846,
          1.79157201228728,
          2.12974396124003,
          2.26583269229208,
          2.21097463002915,
          2.24537540974972,
          2.34609634258292,
          2.31720572035197,
          2.30711431741797,
          2.44843024614837,
          2.44060221824959,
          2.49019030632401,
          2.55022674728146,
          2.60180019139055,
          2.72097986232684,
          2.78505357089279,
          2.9341546904458,
          2.83921986914142,
          2.90769144579828,
          2.97397467975046,
          2.99493093066565
         ]
        },
        {
         "name": "land sink",
         "type": "scatter",
         "x": [
          1959,
          1960,
          1961,
          1962,
          1963,
          1964,
          1965,
          1966,
          1967,
          1968,
          1969,
          1970,
          1971,
          1972,
          1973,
          1974,
          1975,
          1976,
          1977,
          1978,
          1979,
          1980,
          1981,
          1982,
          1983,
          1984,
          1985,
          1986,
          1987,
          1988,
          1989,
          1990,
          1991,
          1992,
          1993,
          1994,
          1995,
          1996,
          1997,
          1998,
          1999,
          2000,
          2001,
          2002,
          2003,
          2004,
          2005,
          2006,
          2007,
          2008,
          2009,
          2010,
          2011,
          2012,
          2013,
          2014,
          2015,
          2016,
          2017,
          2018,
          2019,
          2020
         ],
         "y": [
          0.395882352941176,
          1.15647058823529,
          0.611176470588235,
          1.15529411764706,
          1.06058823529412,
          1.55117647058824,
          0.286470588235294,
          1.34705882352941,
          1.63411764705882,
          2.40411764705882,
          0.581176470588235,
          0.511764705882353,
          2.42176470588235,
          1.13470588235294,
          1.61647058823529,
          3.77058823529412,
          2.44823529411765,
          2.93411764705882,
          1.60823529411765,
          2.65470588235294,
          1.36411764705882,
          0.454117647058824,
          2.24117647058824,
          1.54,
          0.291176470588235,
          2.67,
          2.54764705882353,
          2.16117647058824,
          0.381176470588235,
          2.07176470588235,
          3.41235294117647,
          2.22588235294118,
          2.02352941176471,
          2.12352941176471,
          2.81647058823529,
          1.48470588235294,
          1.59,
          3.06176470588235,
          3.05823529411765,
          1.57,
          3.38117647058824,
          3.51647058823529,
          2.40294117647059,
          1.02058823529412,
          2.16411764705882,
          3.25764705882353,
          1.87588235294118,
          2.93941176470588,
          2.63,
          3.35823529411765,
          2.67176470588235,
          3.10705882352941,
          3.94117647058823,
          2.39117647058824,
          3.25764705882353,
          3.60411764705882,
          2.14647058823529,
          2.8,
          3.52470588235294,
          3.34647058823529,
          2.69235294117647,
          2.92470588235294
         ]
        },
        {
         "name": "cement carbonation sink",
         "type": "scatter",
         "x": [
          1959,
          1960,
          1961,
          1962,
          1963,
          1964,
          1965,
          1966,
          1967,
          1968,
          1969,
          1970,
          1971,
          1972,
          1973,
          1974,
          1975,
          1976,
          1977,
          1978,
          1979,
          1980,
          1981,
          1982,
          1983,
          1984,
          1985,
          1986,
          1987,
          1988,
          1989,
          1990,
          1991,
          1992,
          1993,
          1994,
          1995,
          1996,
          1997,
          1998,
          1999,
          2000,
          2001,
          2002,
          2003,
          2004,
          2005,
          2006,
          2007,
          2008,
          2009,
          2010,
          2011,
          2012,
          2013,
          2014,
          2015,
          2016,
          2017,
          2018,
          2019,
          2020
         ],
         "y": [
          0.0126837301378357,
          0.0138387995254386,
          0.0147264637111403,
          0.0158710071181957,
          0.0168627079956106,
          0.0184512290990677,
          0.0194859725483232,
          0.0209148424347867,
          0.0219524771980331,
          0.0235326428885216,
          0.0249665223810647,
          0.0264898232089375,
          0.027991509696747,
          0.0304854505014787,
          0.0326104410468147,
          0.0333958109118536,
          0.0341044321565963,
          0.0360669675458305,
          0.0384652779258891,
          0.0411112910442051,
          0.0425988902389194,
          0.0438607267004346,
          0.0447408261951896,
          0.0455861879670138,
          0.0471071275776114,
          0.0485571168058633,
          0.0499606388511533,
          0.0523364165130143,
          0.0547980239891535,
          0.0580766256672561,
          0.058036534021283,
          0.057503869518047,
          0.0610532172702873,
          0.0619162187354599,
          0.0661676053503425,
          0.0698137094516146,
          0.0736642866869839,
          0.0765779754230881,
          0.0794865619598565,
          0.0804618685032916,
          0.0834296144298803,
          0.0867727764415889,
          0.0896170119789968,
          0.0943944314091902,
          0.101384393124372,
          0.108448523298262,
          0.116054763367503,
          0.126380983764943,
          0.136211088072389,
          0.140967478224439,
          0.148333776024126,
          0.15759733268681,
          0.170529020996376,
          0.177551054778079,
          0.18599576542334,
          0.194189292805804,
          0.196215146360142,
          0.199106369274045,
          0.203693613107036,
          0.210855607159481,
          0.215297541757623,
          0.218796423611496
         ]
        },
        {
         "name": "budget imbalance",
         "type": "scatter",
         "x": [
          1959,
          1960,
          1961,
          1962,
          1963,
          1964,
          1965,
          1966,
          1967,
          1968,
          1969,
          1970,
          1971,
          1972,
          1973,
          1974,
          1975,
          1976,
          1977,
          1978,
          1979,
          1980,
          1981,
          1982,
          1983,
          1984,
          1985,
          1986,
          1987,
          1988,
          1989,
          1990,
          1991,
          1992,
          1993,
          1994,
          1995,
          1996,
          1997,
          1998,
          1999,
          2000,
          2001,
          2002,
          2003,
          2004,
          2005,
          2006,
          2007,
          2008,
          2009,
          2010,
          2011,
          2012,
          2013,
          2014,
          2015,
          2016,
          2017,
          2018,
          2019,
          2020
         ],
         "y": [
          0.897023340524901,
          0.838408953483272,
          1.39602517244077,
          1.29099597405566,
          1.1860644235396,
          0.733156958057677,
          0.592816307732758,
          -0.356519498728584,
          0.656857802539817,
          -0.740319495729017,
          0.443187804039843,
          1.32229546608508,
          0.356234343413354,
          0.0303278823850055,
          -0.190150395350354,
          -0.675633489930914,
          -0.230808788579863,
          -0.150214854785642,
          -0.857683599457082,
          -0.57152527707355,
          -0.845471650259781,
          0.654667793275063,
          -0.0454544126517394,
          0.824830232803491,
          0.235233834582514,
          -0.394200869902263,
          -0.920839516523512,
          0.854528052737972,
          -0.867288739181709,
          -1.26593775202505,
          -1.04752134397445,
          0.630530346152684,
          1.80847420350166,
          1.49513567931408,
          -0.241606844421007,
          0.522672382654429,
          -0.141495688165083,
          0.569420676032425,
          -0.960894572835886,
          -1.81147922851531,
          -0.183424793691948,
          0.0159468480525657,
          -0.110395196326842,
          0.0937065254721932,
          -0.536980754682424,
          0.19201177366627,
          -0.265042953489607,
          0.419758500626961,
          0.112513600939955,
          0.315383448440921,
          1.23707780354202,
          -0.556910781299579,
          0.533503285348723,
          0.582916633491131,
          -0.421099771209629,
          0.0695500444829198,
          -0.405390534811025,
          -1.25816768445736,
          -0.330190475477152,
          -0.530222489511171,
          -0.21638906483673,
          -0.775025676533141
         ]
        }
       ],
       "layout": {
        "template": {
         "data": {
          "bar": [
           {
            "error_x": {
             "color": "#2a3f5f"
            },
            "error_y": {
             "color": "#2a3f5f"
            },
            "marker": {
             "line": {
              "color": "#E5ECF6",
              "width": 0.5
             },
             "pattern": {
              "fillmode": "overlay",
              "size": 10,
              "solidity": 0.2
             }
            },
            "type": "bar"
           }
          ],
          "barpolar": [
           {
            "marker": {
             "line": {
              "color": "#E5ECF6",
              "width": 0.5
             },
             "pattern": {
              "fillmode": "overlay",
              "size": 10,
              "solidity": 0.2
             }
            },
            "type": "barpolar"
           }
          ],
          "carpet": [
           {
            "aaxis": {
             "endlinecolor": "#2a3f5f",
             "gridcolor": "white",
             "linecolor": "white",
             "minorgridcolor": "white",
             "startlinecolor": "#2a3f5f"
            },
            "baxis": {
             "endlinecolor": "#2a3f5f",
             "gridcolor": "white",
             "linecolor": "white",
             "minorgridcolor": "white",
             "startlinecolor": "#2a3f5f"
            },
            "type": "carpet"
           }
          ],
          "choropleth": [
           {
            "colorbar": {
             "outlinewidth": 0,
             "ticks": ""
            },
            "type": "choropleth"
           }
          ],
          "contour": [
           {
            "colorbar": {
             "outlinewidth": 0,
             "ticks": ""
            },
            "colorscale": [
             [
              0,
              "#0d0887"
             ],
             [
              0.1111111111111111,
              "#46039f"
             ],
             [
              0.2222222222222222,
              "#7201a8"
             ],
             [
              0.3333333333333333,
              "#9c179e"
             ],
             [
              0.4444444444444444,
              "#bd3786"
             ],
             [
              0.5555555555555556,
              "#d8576b"
             ],
             [
              0.6666666666666666,
              "#ed7953"
             ],
             [
              0.7777777777777778,
              "#fb9f3a"
             ],
             [
              0.8888888888888888,
              "#fdca26"
             ],
             [
              1,
              "#f0f921"
             ]
            ],
            "type": "contour"
           }
          ],
          "contourcarpet": [
           {
            "colorbar": {
             "outlinewidth": 0,
             "ticks": ""
            },
            "type": "contourcarpet"
           }
          ],
          "heatmap": [
           {
            "colorbar": {
             "outlinewidth": 0,
             "ticks": ""
            },
            "colorscale": [
             [
              0,
              "#0d0887"
             ],
             [
              0.1111111111111111,
              "#46039f"
             ],
             [
              0.2222222222222222,
              "#7201a8"
             ],
             [
              0.3333333333333333,
              "#9c179e"
             ],
             [
              0.4444444444444444,
              "#bd3786"
             ],
             [
              0.5555555555555556,
              "#d8576b"
             ],
             [
              0.6666666666666666,
              "#ed7953"
             ],
             [
              0.7777777777777778,
              "#fb9f3a"
             ],
             [
              0.8888888888888888,
              "#fdca26"
             ],
             [
              1,
              "#f0f921"
             ]
            ],
            "type": "heatmap"
           }
          ],
          "heatmapgl": [
           {
            "colorbar": {
             "outlinewidth": 0,
             "ticks": ""
            },
            "colorscale": [
             [
              0,
              "#0d0887"
             ],
             [
              0.1111111111111111,
              "#46039f"
             ],
             [
              0.2222222222222222,
              "#7201a8"
             ],
             [
              0.3333333333333333,
              "#9c179e"
             ],
             [
              0.4444444444444444,
              "#bd3786"
             ],
             [
              0.5555555555555556,
              "#d8576b"
             ],
             [
              0.6666666666666666,
              "#ed7953"
             ],
             [
              0.7777777777777778,
              "#fb9f3a"
             ],
             [
              0.8888888888888888,
              "#fdca26"
             ],
             [
              1,
              "#f0f921"
             ]
            ],
            "type": "heatmapgl"
           }
          ],
          "histogram": [
           {
            "marker": {
             "pattern": {
              "fillmode": "overlay",
              "size": 10,
              "solidity": 0.2
             }
            },
            "type": "histogram"
           }
          ],
          "histogram2d": [
           {
            "colorbar": {
             "outlinewidth": 0,
             "ticks": ""
            },
            "colorscale": [
             [
              0,
              "#0d0887"
             ],
             [
              0.1111111111111111,
              "#46039f"
             ],
             [
              0.2222222222222222,
              "#7201a8"
             ],
             [
              0.3333333333333333,
              "#9c179e"
             ],
             [
              0.4444444444444444,
              "#bd3786"
             ],
             [
              0.5555555555555556,
              "#d8576b"
             ],
             [
              0.6666666666666666,
              "#ed7953"
             ],
             [
              0.7777777777777778,
              "#fb9f3a"
             ],
             [
              0.8888888888888888,
              "#fdca26"
             ],
             [
              1,
              "#f0f921"
             ]
            ],
            "type": "histogram2d"
           }
          ],
          "histogram2dcontour": [
           {
            "colorbar": {
             "outlinewidth": 0,
             "ticks": ""
            },
            "colorscale": [
             [
              0,
              "#0d0887"
             ],
             [
              0.1111111111111111,
              "#46039f"
             ],
             [
              0.2222222222222222,
              "#7201a8"
             ],
             [
              0.3333333333333333,
              "#9c179e"
             ],
             [
              0.4444444444444444,
              "#bd3786"
             ],
             [
              0.5555555555555556,
              "#d8576b"
             ],
             [
              0.6666666666666666,
              "#ed7953"
             ],
             [
              0.7777777777777778,
              "#fb9f3a"
             ],
             [
              0.8888888888888888,
              "#fdca26"
             ],
             [
              1,
              "#f0f921"
             ]
            ],
            "type": "histogram2dcontour"
           }
          ],
          "mesh3d": [
           {
            "colorbar": {
             "outlinewidth": 0,
             "ticks": ""
            },
            "type": "mesh3d"
           }
          ],
          "parcoords": [
           {
            "line": {
             "colorbar": {
              "outlinewidth": 0,
              "ticks": ""
             }
            },
            "type": "parcoords"
           }
          ],
          "pie": [
           {
            "automargin": true,
            "type": "pie"
           }
          ],
          "scatter": [
           {
            "fillpattern": {
             "fillmode": "overlay",
             "size": 10,
             "solidity": 0.2
            },
            "type": "scatter"
           }
          ],
          "scatter3d": [
           {
            "line": {
             "colorbar": {
              "outlinewidth": 0,
              "ticks": ""
             }
            },
            "marker": {
             "colorbar": {
              "outlinewidth": 0,
              "ticks": ""
             }
            },
            "type": "scatter3d"
           }
          ],
          "scattercarpet": [
           {
            "marker": {
             "colorbar": {
              "outlinewidth": 0,
              "ticks": ""
             }
            },
            "type": "scattercarpet"
           }
          ],
          "scattergeo": [
           {
            "marker": {
             "colorbar": {
              "outlinewidth": 0,
              "ticks": ""
             }
            },
            "type": "scattergeo"
           }
          ],
          "scattergl": [
           {
            "marker": {
             "colorbar": {
              "outlinewidth": 0,
              "ticks": ""
             }
            },
            "type": "scattergl"
           }
          ],
          "scattermapbox": [
           {
            "marker": {
             "colorbar": {
              "outlinewidth": 0,
              "ticks": ""
             }
            },
            "type": "scattermapbox"
           }
          ],
          "scatterpolar": [
           {
            "marker": {
             "colorbar": {
              "outlinewidth": 0,
              "ticks": ""
             }
            },
            "type": "scatterpolar"
           }
          ],
          "scatterpolargl": [
           {
            "marker": {
             "colorbar": {
              "outlinewidth": 0,
              "ticks": ""
             }
            },
            "type": "scatterpolargl"
           }
          ],
          "scatterternary": [
           {
            "marker": {
             "colorbar": {
              "outlinewidth": 0,
              "ticks": ""
             }
            },
            "type": "scatterternary"
           }
          ],
          "surface": [
           {
            "colorbar": {
             "outlinewidth": 0,
             "ticks": ""
            },
            "colorscale": [
             [
              0,
              "#0d0887"
             ],
             [
              0.1111111111111111,
              "#46039f"
             ],
             [
              0.2222222222222222,
              "#7201a8"
             ],
             [
              0.3333333333333333,
              "#9c179e"
             ],
             [
              0.4444444444444444,
              "#bd3786"
             ],
             [
              0.5555555555555556,
              "#d8576b"
             ],
             [
              0.6666666666666666,
              "#ed7953"
             ],
             [
              0.7777777777777778,
              "#fb9f3a"
             ],
             [
              0.8888888888888888,
              "#fdca26"
             ],
             [
              1,
              "#f0f921"
             ]
            ],
            "type": "surface"
           }
          ],
          "table": [
           {
            "cells": {
             "fill": {
              "color": "#EBF0F8"
             },
             "line": {
              "color": "white"
             }
            },
            "header": {
             "fill": {
              "color": "#C8D4E3"
             },
             "line": {
              "color": "white"
             }
            },
            "type": "table"
           }
          ]
         },
         "layout": {
          "annotationdefaults": {
           "arrowcolor": "#2a3f5f",
           "arrowhead": 0,
           "arrowwidth": 1
          },
          "autotypenumbers": "strict",
          "coloraxis": {
           "colorbar": {
            "outlinewidth": 0,
            "ticks": ""
           }
          },
          "colorscale": {
           "diverging": [
            [
             0,
             "#8e0152"
            ],
            [
             0.1,
             "#c51b7d"
            ],
            [
             0.2,
             "#de77ae"
            ],
            [
             0.3,
             "#f1b6da"
            ],
            [
             0.4,
             "#fde0ef"
            ],
            [
             0.5,
             "#f7f7f7"
            ],
            [
             0.6,
             "#e6f5d0"
            ],
            [
             0.7,
             "#b8e186"
            ],
            [
             0.8,
             "#7fbc41"
            ],
            [
             0.9,
             "#4d9221"
            ],
            [
             1,
             "#276419"
            ]
           ],
           "sequential": [
            [
             0,
             "#0d0887"
            ],
            [
             0.1111111111111111,
             "#46039f"
            ],
            [
             0.2222222222222222,
             "#7201a8"
            ],
            [
             0.3333333333333333,
             "#9c179e"
            ],
            [
             0.4444444444444444,
             "#bd3786"
            ],
            [
             0.5555555555555556,
             "#d8576b"
            ],
            [
             0.6666666666666666,
             "#ed7953"
            ],
            [
             0.7777777777777778,
             "#fb9f3a"
            ],
            [
             0.8888888888888888,
             "#fdca26"
            ],
            [
             1,
             "#f0f921"
            ]
           ],
           "sequentialminus": [
            [
             0,
             "#0d0887"
            ],
            [
             0.1111111111111111,
             "#46039f"
            ],
            [
             0.2222222222222222,
             "#7201a8"
            ],
            [
             0.3333333333333333,
             "#9c179e"
            ],
            [
             0.4444444444444444,
             "#bd3786"
            ],
            [
             0.5555555555555556,
             "#d8576b"
            ],
            [
             0.6666666666666666,
             "#ed7953"
            ],
            [
             0.7777777777777778,
             "#fb9f3a"
            ],
            [
             0.8888888888888888,
             "#fdca26"
            ],
            [
             1,
             "#f0f921"
            ]
           ]
          },
          "colorway": [
           "#636efa",
           "#EF553B",
           "#00cc96",
           "#ab63fa",
           "#FFA15A",
           "#19d3f3",
           "#FF6692",
           "#B6E880",
           "#FF97FF",
           "#FECB52"
          ],
          "font": {
           "color": "#2a3f5f"
          },
          "geo": {
           "bgcolor": "white",
           "lakecolor": "white",
           "landcolor": "#E5ECF6",
           "showlakes": true,
           "showland": true,
           "subunitcolor": "white"
          },
          "hoverlabel": {
           "align": "left"
          },
          "hovermode": "closest",
          "mapbox": {
           "style": "light"
          },
          "paper_bgcolor": "white",
          "plot_bgcolor": "#E5ECF6",
          "polar": {
           "angularaxis": {
            "gridcolor": "white",
            "linecolor": "white",
            "ticks": ""
           },
           "bgcolor": "#E5ECF6",
           "radialaxis": {
            "gridcolor": "white",
            "linecolor": "white",
            "ticks": ""
           }
          },
          "scene": {
           "xaxis": {
            "backgroundcolor": "#E5ECF6",
            "gridcolor": "white",
            "gridwidth": 2,
            "linecolor": "white",
            "showbackground": true,
            "ticks": "",
            "zerolinecolor": "white"
           },
           "yaxis": {
            "backgroundcolor": "#E5ECF6",
            "gridcolor": "white",
            "gridwidth": 2,
            "linecolor": "white",
            "showbackground": true,
            "ticks": "",
            "zerolinecolor": "white"
           },
           "zaxis": {
            "backgroundcolor": "#E5ECF6",
            "gridcolor": "white",
            "gridwidth": 2,
            "linecolor": "white",
            "showbackground": true,
            "ticks": "",
            "zerolinecolor": "white"
           }
          },
          "shapedefaults": {
           "line": {
            "color": "#2a3f5f"
           }
          },
          "ternary": {
           "aaxis": {
            "gridcolor": "white",
            "linecolor": "white",
            "ticks": ""
           },
           "baxis": {
            "gridcolor": "white",
            "linecolor": "white",
            "ticks": ""
           },
           "bgcolor": "#E5ECF6",
           "caxis": {
            "gridcolor": "white",
            "linecolor": "white",
            "ticks": ""
           }
          },
          "title": {
           "x": 0.05
          },
          "xaxis": {
           "automargin": true,
           "gridcolor": "white",
           "linecolor": "white",
           "ticks": "",
           "title": {
            "standoff": 15
           },
           "zerolinecolor": "white",
           "zerolinewidth": 2
          },
          "yaxis": {
           "automargin": true,
           "gridcolor": "white",
           "linecolor": "white",
           "ticks": "",
           "title": {
            "standoff": 15
           },
           "zerolinecolor": "white",
           "zerolinewidth": 2
          }
         }
        },
        "title": {
         "text": "Change and Sink of Emission Over Years"
        }
       }
      },
      "text/html": [
       "<div>                            <div id=\"da9dccaa-7460-4313-a710-139ec15a3bae\" class=\"plotly-graph-div\" style=\"height:525px; width:100%;\"></div>            <script type=\"text/javascript\">                require([\"plotly\"], function(Plotly) {                    window.PLOTLYENV=window.PLOTLYENV || {};                                    if (document.getElementById(\"da9dccaa-7460-4313-a710-139ec15a3bae\")) {                    Plotly.newPlot(                        \"da9dccaa-7460-4313-a710-139ec15a3bae\",                        [{\"name\":\"fossil emissions excluding carbonation\",\"x\":[1959,1960,1961,1962,1963,1964,1965,1966,1967,1968,1969,1970,1971,1972,1973,1974,1975,1976,1977,1978,1979,1980,1981,1982,1983,1984,1985,1986,1987,1988,1989,1990,1991,1992,1993,1994,1995,1996,1997,1998,1999,2000,2001,2002,2003,2004,2005,2006,2007,2008,2009,2010,2011,2012,2013,2014,2015,2016,2017,2018,2019,2020],\"y\":[2.41713282396274,2.56217532950871,2.57058768545191,2.66137089897385,2.80346344743521,2.95574985015674,3.08894179048108,3.2388800697062,3.34181051273785,3.5238302411595,3.75760827102091,4.06620508819402,4.2302557031101,4.42760351388648,4.66161075469646,4.64277952698094,4.65298553857673,4.90870669076019,5.04815256446881,5.20459322297066,5.35247711497914,5.3205381660755,5.19351315554345,5.1522626077705,5.18563927976013,5.3654555069036,5.54582696432764,5.62834390325099,5.80490354340745,6.0329836316422,6.11638451304683,6.20696711067073,6.34028687877195,6.15762759204954,6.22137946392934,6.26540619010604,6.3989097255219,6.59007794545551,6.63069886312397,6.60535866998798,6.69073763473793,6.88596068149415,6.94518271965216,7.10585523388138,7.46820556744195,7.81229339496453,8.0783377088779,8.34599644639191,8.59439010501234,8.75157598366536,8.62537996156615,9.09937607538723,9.4064170703451,9.54438999526921,9.62874025421371,9.69748695528872,9.68713736354912,9.67521246881669,9.80433475202988,10.0008134526483,10.0161429679209,9.49995777827836],\"type\":\"scatter\"},{\"name\":\"land-use change emissions\",\"x\":[1959,1960,1961,1962,1963,1964,1965,1966,1967,1968,1969,1970,1971,1972,1973,1974,1975,1976,1977,1978,1979,1980,1981,1982,1983,1984,1985,1986,1987,1988,1989,1990,1991,1992,1993,1994,1995,1996,1997,1998,1999,2000,2001,2002,2003,2004,2005,2006,2007,2008,2009,2010,2011,2012,2013,2014,2015,2016,2017,2018,2019,2020],\"y\":[1.84551880806033,1.85371155937901,1.86212030778633,1.7905989263756,1.65186198395652,1.56411121199796,1.41717257083713,1.34886568040862,1.3722228350952,1.37953231304461,1.29242437566456,1.28651434647713,1.27313438447573,1.27630156830798,1.23863708479883,1.19226582411145,1.4170177831211,1.30192804195087,1.26728447012803,1.15395507543187,1.16074176263712,1.13097333121806,1.17764639764236,1.15548182084022,1.27215874987299,1.4118114260781,1.33771324161347,1.31774665109921,1.26366566551294,1.22925724110767,1.18824099964344,1.17335641256856,1.14958675520657,1.19857984873555,1.17172268991389,1.3141153459946,1.30082121460812,1.32123841059034,1.82059021301644,1.40131494564395,1.38455844223987,1.23834240280816,1.13671228370396,1.287697919452,1.39010841002953,1.24898859149629,1.1189718644073,1.26637114567502,1.10442030385473,1.12960455427765,1.23614657040923,1.16781151784345,1.31854201345431,1.27632091081112,1.17816299027291,1.24554989124692,1.30101140685154,1.01080090606935,0.999694136552438,1.0528216985603,1.04405312953735,0.876089781820727],\"type\":\"scatter\"},{\"name\":\"atmospheric growth\",\"x\":[1959,1960,1961,1962,1963,1964,1965,1966,1967,1968,1969,1970,1971,1972,1973,1974,1975,1976,1977,1978,1979,1980,1981,1982,1983,1984,1985,1986,1987,1988,1989,1990,1991,1992,1993,1994,1995,1996,1997,1998,1999,2000,2001,2002,2003,2004,2005,2006,2007,2008,2009,2010,2011,2012,2013,2014,2015,2016,2017,2018,2019,2020],\"y\":[2.03904,1.50804,1.65672,1.18944,1.21068,1.04076,2.3364,2.3364,1.29564,2.10276,2.80368,2.40012,1.55052,3.12228,3.10104,1.44432,2.61252,2.06028,4.07808,2.73996,4.54536,3.63204,2.46384,2.08152,3.9294,2.61252,3.48336,2.124,5.64984,4.63032,3.14352,2.5488,1.593,1.50804,2.63376,3.52584,4.22676,2.25144,4.20552,6.03216,2.84616,2.63376,3.90816,5.05512,4.86396,3.2922,5.22504,3.78072,4.50288,3.75948,3.35592,5.11884,3.58956,5.11884,5.18256,4.3542,6.2658,6.01092,4.5666,5.11884,5.39496,5.01264],\"type\":\"scatter\"},{\"name\":\"ocean sink\",\"x\":[1959,1960,1961,1962,1963,1964,1965,1966,1967,1968,1969,1970,1971,1972,1973,1974,1975,1976,1977,1978,1979,1980,1981,1982,1983,1984,1985,1986,1987,1988,1989,1990,1991,1992,1993,1994,1995,1996,1997,1998,1999,2000,2001,2002,2003,2004,2005,2006,2007,2008,2009,2010,2011,2012,2013,2014,2015,2016,2017,2018,2019,2020],\"y\":[0.918022208427885,0.899128547540474,0.754059886653062,0.80036872576565,0.981130064878238,1.17631640399083,1.27094149310341,1.239891582216,1.10546542132859,1.11327176044118,1.19702184955377,1.09204943866636,1.14687952777895,1.38610586689153,1.34027720600412,1.26237479511671,1.2059523842293,1.33038497334188,1.44834006245447,1.49429640156706,1.40661399067965,1.66682532979224,1.66685666890483,1.81580800801741,1.95488059713,1.84039068624259,1.72341202535518,1.75404961446777,1.85004345358036,1.76801729269295,1.73823738180553,1.91760695497571,2.00381680093504,2.16758613083247,2.1183108052831,1.97648956197977,1.95080234180965,1.95211299873096,2.06894179294512,2.13553097600774,1.947954784743,1.87135287191846,1.79157201228728,2.12974396124003,2.26583269229208,2.21097463002915,2.24537540974972,2.34609634258292,2.31720572035197,2.30711431741797,2.44843024614837,2.44060221824959,2.49019030632401,2.55022674728146,2.60180019139055,2.72097986232684,2.78505357089279,2.9341546904458,2.83921986914142,2.90769144579828,2.97397467975046,2.99493093066565],\"type\":\"scatter\"},{\"name\":\"land sink\",\"x\":[1959,1960,1961,1962,1963,1964,1965,1966,1967,1968,1969,1970,1971,1972,1973,1974,1975,1976,1977,1978,1979,1980,1981,1982,1983,1984,1985,1986,1987,1988,1989,1990,1991,1992,1993,1994,1995,1996,1997,1998,1999,2000,2001,2002,2003,2004,2005,2006,2007,2008,2009,2010,2011,2012,2013,2014,2015,2016,2017,2018,2019,2020],\"y\":[0.395882352941176,1.15647058823529,0.611176470588235,1.15529411764706,1.06058823529412,1.55117647058824,0.286470588235294,1.34705882352941,1.63411764705882,2.40411764705882,0.581176470588235,0.511764705882353,2.42176470588235,1.13470588235294,1.61647058823529,3.77058823529412,2.44823529411765,2.93411764705882,1.60823529411765,2.65470588235294,1.36411764705882,0.454117647058824,2.24117647058824,1.54,0.291176470588235,2.67,2.54764705882353,2.16117647058824,0.381176470588235,2.07176470588235,3.41235294117647,2.22588235294118,2.02352941176471,2.12352941176471,2.81647058823529,1.48470588235294,1.59,3.06176470588235,3.05823529411765,1.57,3.38117647058824,3.51647058823529,2.40294117647059,1.02058823529412,2.16411764705882,3.25764705882353,1.87588235294118,2.93941176470588,2.63,3.35823529411765,2.67176470588235,3.10705882352941,3.94117647058823,2.39117647058824,3.25764705882353,3.60411764705882,2.14647058823529,2.8,3.52470588235294,3.34647058823529,2.69235294117647,2.92470588235294],\"type\":\"scatter\"},{\"name\":\"cement carbonation sink\",\"x\":[1959,1960,1961,1962,1963,1964,1965,1966,1967,1968,1969,1970,1971,1972,1973,1974,1975,1976,1977,1978,1979,1980,1981,1982,1983,1984,1985,1986,1987,1988,1989,1990,1991,1992,1993,1994,1995,1996,1997,1998,1999,2000,2001,2002,2003,2004,2005,2006,2007,2008,2009,2010,2011,2012,2013,2014,2015,2016,2017,2018,2019,2020],\"y\":[0.0126837301378357,0.0138387995254386,0.0147264637111403,0.0158710071181957,0.0168627079956106,0.0184512290990677,0.0194859725483232,0.0209148424347867,0.0219524771980331,0.0235326428885216,0.0249665223810647,0.0264898232089375,0.027991509696747,0.0304854505014787,0.0326104410468147,0.0333958109118536,0.0341044321565963,0.0360669675458305,0.0384652779258891,0.0411112910442051,0.0425988902389194,0.0438607267004346,0.0447408261951896,0.0455861879670138,0.0471071275776114,0.0485571168058633,0.0499606388511533,0.0523364165130143,0.0547980239891535,0.0580766256672561,0.058036534021283,0.057503869518047,0.0610532172702873,0.0619162187354599,0.0661676053503425,0.0698137094516146,0.0736642866869839,0.0765779754230881,0.0794865619598565,0.0804618685032916,0.0834296144298803,0.0867727764415889,0.0896170119789968,0.0943944314091902,0.101384393124372,0.108448523298262,0.116054763367503,0.126380983764943,0.136211088072389,0.140967478224439,0.148333776024126,0.15759733268681,0.170529020996376,0.177551054778079,0.18599576542334,0.194189292805804,0.196215146360142,0.199106369274045,0.203693613107036,0.210855607159481,0.215297541757623,0.218796423611496],\"type\":\"scatter\"},{\"name\":\"budget imbalance\",\"x\":[1959,1960,1961,1962,1963,1964,1965,1966,1967,1968,1969,1970,1971,1972,1973,1974,1975,1976,1977,1978,1979,1980,1981,1982,1983,1984,1985,1986,1987,1988,1989,1990,1991,1992,1993,1994,1995,1996,1997,1998,1999,2000,2001,2002,2003,2004,2005,2006,2007,2008,2009,2010,2011,2012,2013,2014,2015,2016,2017,2018,2019,2020],\"y\":[0.897023340524901,0.838408953483272,1.39602517244077,1.29099597405566,1.1860644235396,0.733156958057677,0.592816307732758,-0.356519498728584,0.656857802539817,-0.740319495729017,0.443187804039843,1.32229546608508,0.356234343413354,0.0303278823850055,-0.190150395350354,-0.675633489930914,-0.230808788579863,-0.150214854785642,-0.857683599457082,-0.57152527707355,-0.845471650259781,0.654667793275063,-0.0454544126517394,0.824830232803491,0.235233834582514,-0.394200869902263,-0.920839516523512,0.854528052737972,-0.867288739181709,-1.26593775202505,-1.04752134397445,0.630530346152684,1.80847420350166,1.49513567931408,-0.241606844421007,0.522672382654429,-0.141495688165083,0.569420676032425,-0.960894572835886,-1.81147922851531,-0.183424793691948,0.0159468480525657,-0.110395196326842,0.0937065254721932,-0.536980754682424,0.19201177366627,-0.265042953489607,0.419758500626961,0.112513600939955,0.315383448440921,1.23707780354202,-0.556910781299579,0.533503285348723,0.582916633491131,-0.421099771209629,0.0695500444829198,-0.405390534811025,-1.25816768445736,-0.330190475477152,-0.530222489511171,-0.21638906483673,-0.775025676533141],\"type\":\"scatter\"}],                        {\"template\":{\"data\":{\"barpolar\":[{\"marker\":{\"line\":{\"color\":\"#E5ECF6\",\"width\":0.5},\"pattern\":{\"fillmode\":\"overlay\",\"size\":10,\"solidity\":0.2}},\"type\":\"barpolar\"}],\"bar\":[{\"error_x\":{\"color\":\"#2a3f5f\"},\"error_y\":{\"color\":\"#2a3f5f\"},\"marker\":{\"line\":{\"color\":\"#E5ECF6\",\"width\":0.5},\"pattern\":{\"fillmode\":\"overlay\",\"size\":10,\"solidity\":0.2}},\"type\":\"bar\"}],\"carpet\":[{\"aaxis\":{\"endlinecolor\":\"#2a3f5f\",\"gridcolor\":\"white\",\"linecolor\":\"white\",\"minorgridcolor\":\"white\",\"startlinecolor\":\"#2a3f5f\"},\"baxis\":{\"endlinecolor\":\"#2a3f5f\",\"gridcolor\":\"white\",\"linecolor\":\"white\",\"minorgridcolor\":\"white\",\"startlinecolor\":\"#2a3f5f\"},\"type\":\"carpet\"}],\"choropleth\":[{\"colorbar\":{\"outlinewidth\":0,\"ticks\":\"\"},\"type\":\"choropleth\"}],\"contourcarpet\":[{\"colorbar\":{\"outlinewidth\":0,\"ticks\":\"\"},\"type\":\"contourcarpet\"}],\"contour\":[{\"colorbar\":{\"outlinewidth\":0,\"ticks\":\"\"},\"colorscale\":[[0.0,\"#0d0887\"],[0.1111111111111111,\"#46039f\"],[0.2222222222222222,\"#7201a8\"],[0.3333333333333333,\"#9c179e\"],[0.4444444444444444,\"#bd3786\"],[0.5555555555555556,\"#d8576b\"],[0.6666666666666666,\"#ed7953\"],[0.7777777777777778,\"#fb9f3a\"],[0.8888888888888888,\"#fdca26\"],[1.0,\"#f0f921\"]],\"type\":\"contour\"}],\"heatmapgl\":[{\"colorbar\":{\"outlinewidth\":0,\"ticks\":\"\"},\"colorscale\":[[0.0,\"#0d0887\"],[0.1111111111111111,\"#46039f\"],[0.2222222222222222,\"#7201a8\"],[0.3333333333333333,\"#9c179e\"],[0.4444444444444444,\"#bd3786\"],[0.5555555555555556,\"#d8576b\"],[0.6666666666666666,\"#ed7953\"],[0.7777777777777778,\"#fb9f3a\"],[0.8888888888888888,\"#fdca26\"],[1.0,\"#f0f921\"]],\"type\":\"heatmapgl\"}],\"heatmap\":[{\"colorbar\":{\"outlinewidth\":0,\"ticks\":\"\"},\"colorscale\":[[0.0,\"#0d0887\"],[0.1111111111111111,\"#46039f\"],[0.2222222222222222,\"#7201a8\"],[0.3333333333333333,\"#9c179e\"],[0.4444444444444444,\"#bd3786\"],[0.5555555555555556,\"#d8576b\"],[0.6666666666666666,\"#ed7953\"],[0.7777777777777778,\"#fb9f3a\"],[0.8888888888888888,\"#fdca26\"],[1.0,\"#f0f921\"]],\"type\":\"heatmap\"}],\"histogram2dcontour\":[{\"colorbar\":{\"outlinewidth\":0,\"ticks\":\"\"},\"colorscale\":[[0.0,\"#0d0887\"],[0.1111111111111111,\"#46039f\"],[0.2222222222222222,\"#7201a8\"],[0.3333333333333333,\"#9c179e\"],[0.4444444444444444,\"#bd3786\"],[0.5555555555555556,\"#d8576b\"],[0.6666666666666666,\"#ed7953\"],[0.7777777777777778,\"#fb9f3a\"],[0.8888888888888888,\"#fdca26\"],[1.0,\"#f0f921\"]],\"type\":\"histogram2dcontour\"}],\"histogram2d\":[{\"colorbar\":{\"outlinewidth\":0,\"ticks\":\"\"},\"colorscale\":[[0.0,\"#0d0887\"],[0.1111111111111111,\"#46039f\"],[0.2222222222222222,\"#7201a8\"],[0.3333333333333333,\"#9c179e\"],[0.4444444444444444,\"#bd3786\"],[0.5555555555555556,\"#d8576b\"],[0.6666666666666666,\"#ed7953\"],[0.7777777777777778,\"#fb9f3a\"],[0.8888888888888888,\"#fdca26\"],[1.0,\"#f0f921\"]],\"type\":\"histogram2d\"}],\"histogram\":[{\"marker\":{\"pattern\":{\"fillmode\":\"overlay\",\"size\":10,\"solidity\":0.2}},\"type\":\"histogram\"}],\"mesh3d\":[{\"colorbar\":{\"outlinewidth\":0,\"ticks\":\"\"},\"type\":\"mesh3d\"}],\"parcoords\":[{\"line\":{\"colorbar\":{\"outlinewidth\":0,\"ticks\":\"\"}},\"type\":\"parcoords\"}],\"pie\":[{\"automargin\":true,\"type\":\"pie\"}],\"scatter3d\":[{\"line\":{\"colorbar\":{\"outlinewidth\":0,\"ticks\":\"\"}},\"marker\":{\"colorbar\":{\"outlinewidth\":0,\"ticks\":\"\"}},\"type\":\"scatter3d\"}],\"scattercarpet\":[{\"marker\":{\"colorbar\":{\"outlinewidth\":0,\"ticks\":\"\"}},\"type\":\"scattercarpet\"}],\"scattergeo\":[{\"marker\":{\"colorbar\":{\"outlinewidth\":0,\"ticks\":\"\"}},\"type\":\"scattergeo\"}],\"scattergl\":[{\"marker\":{\"colorbar\":{\"outlinewidth\":0,\"ticks\":\"\"}},\"type\":\"scattergl\"}],\"scattermapbox\":[{\"marker\":{\"colorbar\":{\"outlinewidth\":0,\"ticks\":\"\"}},\"type\":\"scattermapbox\"}],\"scatterpolargl\":[{\"marker\":{\"colorbar\":{\"outlinewidth\":0,\"ticks\":\"\"}},\"type\":\"scatterpolargl\"}],\"scatterpolar\":[{\"marker\":{\"colorbar\":{\"outlinewidth\":0,\"ticks\":\"\"}},\"type\":\"scatterpolar\"}],\"scatter\":[{\"fillpattern\":{\"fillmode\":\"overlay\",\"size\":10,\"solidity\":0.2},\"type\":\"scatter\"}],\"scatterternary\":[{\"marker\":{\"colorbar\":{\"outlinewidth\":0,\"ticks\":\"\"}},\"type\":\"scatterternary\"}],\"surface\":[{\"colorbar\":{\"outlinewidth\":0,\"ticks\":\"\"},\"colorscale\":[[0.0,\"#0d0887\"],[0.1111111111111111,\"#46039f\"],[0.2222222222222222,\"#7201a8\"],[0.3333333333333333,\"#9c179e\"],[0.4444444444444444,\"#bd3786\"],[0.5555555555555556,\"#d8576b\"],[0.6666666666666666,\"#ed7953\"],[0.7777777777777778,\"#fb9f3a\"],[0.8888888888888888,\"#fdca26\"],[1.0,\"#f0f921\"]],\"type\":\"surface\"}],\"table\":[{\"cells\":{\"fill\":{\"color\":\"#EBF0F8\"},\"line\":{\"color\":\"white\"}},\"header\":{\"fill\":{\"color\":\"#C8D4E3\"},\"line\":{\"color\":\"white\"}},\"type\":\"table\"}]},\"layout\":{\"annotationdefaults\":{\"arrowcolor\":\"#2a3f5f\",\"arrowhead\":0,\"arrowwidth\":1},\"autotypenumbers\":\"strict\",\"coloraxis\":{\"colorbar\":{\"outlinewidth\":0,\"ticks\":\"\"}},\"colorscale\":{\"diverging\":[[0,\"#8e0152\"],[0.1,\"#c51b7d\"],[0.2,\"#de77ae\"],[0.3,\"#f1b6da\"],[0.4,\"#fde0ef\"],[0.5,\"#f7f7f7\"],[0.6,\"#e6f5d0\"],[0.7,\"#b8e186\"],[0.8,\"#7fbc41\"],[0.9,\"#4d9221\"],[1,\"#276419\"]],\"sequential\":[[0.0,\"#0d0887\"],[0.1111111111111111,\"#46039f\"],[0.2222222222222222,\"#7201a8\"],[0.3333333333333333,\"#9c179e\"],[0.4444444444444444,\"#bd3786\"],[0.5555555555555556,\"#d8576b\"],[0.6666666666666666,\"#ed7953\"],[0.7777777777777778,\"#fb9f3a\"],[0.8888888888888888,\"#fdca26\"],[1.0,\"#f0f921\"]],\"sequentialminus\":[[0.0,\"#0d0887\"],[0.1111111111111111,\"#46039f\"],[0.2222222222222222,\"#7201a8\"],[0.3333333333333333,\"#9c179e\"],[0.4444444444444444,\"#bd3786\"],[0.5555555555555556,\"#d8576b\"],[0.6666666666666666,\"#ed7953\"],[0.7777777777777778,\"#fb9f3a\"],[0.8888888888888888,\"#fdca26\"],[1.0,\"#f0f921\"]]},\"colorway\":[\"#636efa\",\"#EF553B\",\"#00cc96\",\"#ab63fa\",\"#FFA15A\",\"#19d3f3\",\"#FF6692\",\"#B6E880\",\"#FF97FF\",\"#FECB52\"],\"font\":{\"color\":\"#2a3f5f\"},\"geo\":{\"bgcolor\":\"white\",\"lakecolor\":\"white\",\"landcolor\":\"#E5ECF6\",\"showlakes\":true,\"showland\":true,\"subunitcolor\":\"white\"},\"hoverlabel\":{\"align\":\"left\"},\"hovermode\":\"closest\",\"mapbox\":{\"style\":\"light\"},\"paper_bgcolor\":\"white\",\"plot_bgcolor\":\"#E5ECF6\",\"polar\":{\"angularaxis\":{\"gridcolor\":\"white\",\"linecolor\":\"white\",\"ticks\":\"\"},\"bgcolor\":\"#E5ECF6\",\"radialaxis\":{\"gridcolor\":\"white\",\"linecolor\":\"white\",\"ticks\":\"\"}},\"scene\":{\"xaxis\":{\"backgroundcolor\":\"#E5ECF6\",\"gridcolor\":\"white\",\"gridwidth\":2,\"linecolor\":\"white\",\"showbackground\":true,\"ticks\":\"\",\"zerolinecolor\":\"white\"},\"yaxis\":{\"backgroundcolor\":\"#E5ECF6\",\"gridcolor\":\"white\",\"gridwidth\":2,\"linecolor\":\"white\",\"showbackground\":true,\"ticks\":\"\",\"zerolinecolor\":\"white\"},\"zaxis\":{\"backgroundcolor\":\"#E5ECF6\",\"gridcolor\":\"white\",\"gridwidth\":2,\"linecolor\":\"white\",\"showbackground\":true,\"ticks\":\"\",\"zerolinecolor\":\"white\"}},\"shapedefaults\":{\"line\":{\"color\":\"#2a3f5f\"}},\"ternary\":{\"aaxis\":{\"gridcolor\":\"white\",\"linecolor\":\"white\",\"ticks\":\"\"},\"baxis\":{\"gridcolor\":\"white\",\"linecolor\":\"white\",\"ticks\":\"\"},\"bgcolor\":\"#E5ECF6\",\"caxis\":{\"gridcolor\":\"white\",\"linecolor\":\"white\",\"ticks\":\"\"}},\"title\":{\"x\":0.05},\"xaxis\":{\"automargin\":true,\"gridcolor\":\"white\",\"linecolor\":\"white\",\"ticks\":\"\",\"title\":{\"standoff\":15},\"zerolinecolor\":\"white\",\"zerolinewidth\":2},\"yaxis\":{\"automargin\":true,\"gridcolor\":\"white\",\"linecolor\":\"white\",\"ticks\":\"\",\"title\":{\"standoff\":15},\"zerolinecolor\":\"white\",\"zerolinewidth\":2}}},\"title\":{\"text\":\"Change and Sink of Emission Over Years\"}},                        {\"responsive\": true}                    ).then(function(){\n",
       "                            \n",
       "var gd = document.getElementById('da9dccaa-7460-4313-a710-139ec15a3bae');\n",
       "var x = new MutationObserver(function (mutations, observer) {{\n",
       "        var display = window.getComputedStyle(gd).display;\n",
       "        if (!display || display === 'none') {{\n",
       "            console.log([gd, 'removed!']);\n",
       "            Plotly.purge(gd);\n",
       "            observer.disconnect();\n",
       "        }}\n",
       "}});\n",
       "\n",
       "// Listen for the removal of the full notebook cells\n",
       "var notebookContainer = gd.closest('#notebook-container');\n",
       "if (notebookContainer) {{\n",
       "    x.observe(notebookContainer, {childList: true});\n",
       "}}\n",
       "\n",
       "// Listen for the clearing of the current output cell\n",
       "var outputEl = gd.closest('.output');\n",
       "if (outputEl) {{\n",
       "    x.observe(outputEl, {childList: true});\n",
       "}}\n",
       "\n",
       "                        })                };                });            </script>        </div>"
      ]
     },
     "metadata": {},
     "output_type": "display_data"
    }
   ],
   "source": [
    "import plotly\n",
    "import plotly.graph_objs as go\n",
    "from plotly.offline import download_plotlyjs, init_notebook_mode, iplot, plot\n",
    "init_notebook_mode(connected=True)\n",
    "\n",
    "trace0 = go.Scatter(x=df.Year, y=df[\"fossil emissions excluding carbonation\"], name=\"fossil emissions excluding carbonation\")\n",
    "trace1 = go.Scatter(x=df.Year, y=df[\"land-use change emissions\"], name=\"land-use change emissions\")\n",
    "trace2 = go.Scatter(x=df.Year, y=df[\"atmospheric growth\"], name=\"atmospheric growth\")\n",
    "trace3 = go.Scatter(x=df.Year, y=df[\"ocean sink\"], name=\"ocean sink\")\n",
    "trace4 = go.Scatter(x=df.Year, y=df[\"land sink\"], name=\"land sink\")\n",
    "trace5 = go.Scatter(x=df.Year, y=df[\"cement carbonation sink\"], name=\"cement carbonation sink\")\n",
    "trace6 = go.Scatter(x=df.Year, y=df[\"budget imbalance\"], name=\"budget imbalance\")\n",
    "\n",
    "\n",
    "data = [trace0, trace1, trace2, trace3, trace4, trace5, trace6]\n",
    "layout = {\"title\": \"Change and Sink of Emission Over Years\"}\n",
    "\n",
    "fig = go.Figure(data=data, layout=layout)\n",
    "\n",
    "iplot(fig, show_link=False)"
   ]
  },
  {
   "attachments": {},
   "cell_type": "markdown",
   "metadata": {},
   "source": [
    "## __National Carbon Emission__\n",
    "\n",
    "To read the data below, this is what the authors say \"All values in million tonnes of carbon per year. For values  <br> in million tonnes of CO2 per year, multiply the values below by 3.664. 1MtC = 1 million tonne of carbon = 3.664 million tonnes of CO2\""
   ]
  },
  {
   "cell_type": "code",
   "execution_count": 7,
   "metadata": {},
   "outputs": [
    {
     "data": {
      "text/html": [
       "<div>\n",
       "<style scoped>\n",
       "    .dataframe tbody tr th:only-of-type {\n",
       "        vertical-align: middle;\n",
       "    }\n",
       "\n",
       "    .dataframe tbody tr th {\n",
       "        vertical-align: top;\n",
       "    }\n",
       "\n",
       "    .dataframe thead th {\n",
       "        text-align: right;\n",
       "    }\n",
       "</style>\n",
       "<table border=\"1\" class=\"dataframe\">\n",
       "  <thead>\n",
       "    <tr style=\"text-align: right;\">\n",
       "      <th></th>\n",
       "      <th>Unnamed: 0</th>\n",
       "      <th>Afghanistan</th>\n",
       "      <th>Albania</th>\n",
       "      <th>Algeria</th>\n",
       "      <th>Andorra</th>\n",
       "      <th>Angola</th>\n",
       "      <th>Anguilla</th>\n",
       "      <th>Antigua and Barbuda</th>\n",
       "      <th>Argentina</th>\n",
       "      <th>Armenia</th>\n",
       "      <th>...</th>\n",
       "      <th>Asia</th>\n",
       "      <th>Central America</th>\n",
       "      <th>Europe</th>\n",
       "      <th>Middle East</th>\n",
       "      <th>North America</th>\n",
       "      <th>Oceania</th>\n",
       "      <th>South America</th>\n",
       "      <th>Bunkers</th>\n",
       "      <th>Statistical Difference</th>\n",
       "      <th>World</th>\n",
       "    </tr>\n",
       "  </thead>\n",
       "  <tbody>\n",
       "    <tr>\n",
       "      <th>0</th>\n",
       "      <td>1959</td>\n",
       "      <td>0.104959</td>\n",
       "      <td>0.394</td>\n",
       "      <td>1.543946</td>\n",
       "      <td>NaN</td>\n",
       "      <td>0.168830</td>\n",
       "      <td>NaN</td>\n",
       "      <td>0.008</td>\n",
       "      <td>13.359389</td>\n",
       "      <td>0.858819</td>\n",
       "      <td>...</td>\n",
       "      <td>356.227009</td>\n",
       "      <td>11.035273</td>\n",
       "      <td>1013.054177</td>\n",
       "      <td>19.314339</td>\n",
       "      <td>839.235511</td>\n",
       "      <td>25.898496</td>\n",
       "      <td>53.765340</td>\n",
       "      <td>58.234000</td>\n",
       "      <td>3.552714e-13</td>\n",
       "      <td>2417.132824</td>\n",
       "    </tr>\n",
       "    <tr>\n",
       "      <th>1</th>\n",
       "      <td>1960</td>\n",
       "      <td>0.112960</td>\n",
       "      <td>0.552</td>\n",
       "      <td>1.678832</td>\n",
       "      <td>NaN</td>\n",
       "      <td>0.149823</td>\n",
       "      <td>NaN</td>\n",
       "      <td>0.010</td>\n",
       "      <td>13.309088</td>\n",
       "      <td>0.894362</td>\n",
       "      <td>...</td>\n",
       "      <td>395.913772</td>\n",
       "      <td>9.886475</td>\n",
       "      <td>1081.501751</td>\n",
       "      <td>24.638551</td>\n",
       "      <td>860.628784</td>\n",
       "      <td>27.509237</td>\n",
       "      <td>54.356586</td>\n",
       "      <td>64.988958</td>\n",
       "      <td>-6.821210e-13</td>\n",
       "      <td>2562.175330</td>\n",
       "    </tr>\n",
       "    <tr>\n",
       "      <th>2</th>\n",
       "      <td>1961</td>\n",
       "      <td>0.133951</td>\n",
       "      <td>0.622</td>\n",
       "      <td>1.652817</td>\n",
       "      <td>NaN</td>\n",
       "      <td>0.123828</td>\n",
       "      <td>NaN</td>\n",
       "      <td>0.013</td>\n",
       "      <td>13.953796</td>\n",
       "      <td>0.923353</td>\n",
       "      <td>...</td>\n",
       "      <td>355.177453</td>\n",
       "      <td>10.462966</td>\n",
       "      <td>1121.014044</td>\n",
       "      <td>25.787066</td>\n",
       "      <td>858.748376</td>\n",
       "      <td>28.241123</td>\n",
       "      <td>55.073799</td>\n",
       "      <td>71.847433</td>\n",
       "      <td>5.684342e-14</td>\n",
       "      <td>2570.587685</td>\n",
       "    </tr>\n",
       "    <tr>\n",
       "      <th>3</th>\n",
       "      <td>1962</td>\n",
       "      <td>0.187935</td>\n",
       "      <td>0.672</td>\n",
       "      <td>1.545036</td>\n",
       "      <td>NaN</td>\n",
       "      <td>0.321814</td>\n",
       "      <td>NaN</td>\n",
       "      <td>0.028</td>\n",
       "      <td>14.639772</td>\n",
       "      <td>0.970543</td>\n",
       "      <td>...</td>\n",
       "      <td>337.271308</td>\n",
       "      <td>12.257956</td>\n",
       "      <td>1182.944420</td>\n",
       "      <td>29.829499</td>\n",
       "      <td>891.084416</td>\n",
       "      <td>29.206067</td>\n",
       "      <td>58.861940</td>\n",
       "      <td>74.493219</td>\n",
       "      <td>1.705303e-12</td>\n",
       "      <td>2661.370899</td>\n",
       "    </tr>\n",
       "    <tr>\n",
       "      <th>4</th>\n",
       "      <td>1963</td>\n",
       "      <td>0.192886</td>\n",
       "      <td>0.568</td>\n",
       "      <td>1.479027</td>\n",
       "      <td>NaN</td>\n",
       "      <td>0.313789</td>\n",
       "      <td>NaN</td>\n",
       "      <td>0.023</td>\n",
       "      <td>13.655202</td>\n",
       "      <td>1.042160</td>\n",
       "      <td>...</td>\n",
       "      <td>355.406750</td>\n",
       "      <td>10.644867</td>\n",
       "      <td>1257.417562</td>\n",
       "      <td>33.731761</td>\n",
       "      <td>929.054815</td>\n",
       "      <td>31.176766</td>\n",
       "      <td>59.888851</td>\n",
       "      <td>77.984751</td>\n",
       "      <td>6.963319e-13</td>\n",
       "      <td>2803.463447</td>\n",
       "    </tr>\n",
       "  </tbody>\n",
       "</table>\n",
       "<p>5 rows × 236 columns</p>\n",
       "</div>"
      ],
      "text/plain": [
       "   Unnamed: 0  Afghanistan  Albania   Algeria  Andorra    Angola  Anguilla  \\\n",
       "0        1959     0.104959    0.394  1.543946      NaN  0.168830       NaN   \n",
       "1        1960     0.112960    0.552  1.678832      NaN  0.149823       NaN   \n",
       "2        1961     0.133951    0.622  1.652817      NaN  0.123828       NaN   \n",
       "3        1962     0.187935    0.672  1.545036      NaN  0.321814       NaN   \n",
       "4        1963     0.192886    0.568  1.479027      NaN  0.313789       NaN   \n",
       "\n",
       "   Antigua and Barbuda  Argentina   Armenia  ...        Asia  Central America  \\\n",
       "0                0.008  13.359389  0.858819  ...  356.227009        11.035273   \n",
       "1                0.010  13.309088  0.894362  ...  395.913772         9.886475   \n",
       "2                0.013  13.953796  0.923353  ...  355.177453        10.462966   \n",
       "3                0.028  14.639772  0.970543  ...  337.271308        12.257956   \n",
       "4                0.023  13.655202  1.042160  ...  355.406750        10.644867   \n",
       "\n",
       "        Europe  Middle East  North America    Oceania  South America  \\\n",
       "0  1013.054177    19.314339     839.235511  25.898496      53.765340   \n",
       "1  1081.501751    24.638551     860.628784  27.509237      54.356586   \n",
       "2  1121.014044    25.787066     858.748376  28.241123      55.073799   \n",
       "3  1182.944420    29.829499     891.084416  29.206067      58.861940   \n",
       "4  1257.417562    33.731761     929.054815  31.176766      59.888851   \n",
       "\n",
       "     Bunkers  Statistical Difference        World  \n",
       "0  58.234000            3.552714e-13  2417.132824  \n",
       "1  64.988958           -6.821210e-13  2562.175330  \n",
       "2  71.847433            5.684342e-14  2570.587685  \n",
       "3  74.493219            1.705303e-12  2661.370899  \n",
       "4  77.984751            6.963319e-13  2803.463447  \n",
       "\n",
       "[5 rows x 236 columns]"
      ]
     },
     "execution_count": 7,
     "metadata": {},
     "output_type": "execute_result"
    }
   ],
   "source": [
    "df2 = pd.read_excel(\"D:\\\\dataset\\\\Global Carbon Project\\\\National_Carbon_Emissions_2021v1.0.xlsx\", sheet_name=\"Territorial Emissions\", skiprows=range(11))\n",
    "df2.head()"
   ]
  },
  {
   "cell_type": "code",
   "execution_count": 8,
   "metadata": {},
   "outputs": [
    {
     "data": {
      "text/plain": [
       "Index(['Unnamed: 0', 'Afghanistan', 'Albania', 'Algeria', 'Andorra', 'Angola',\n",
       "       'Anguilla', 'Antigua and Barbuda', 'Argentina', 'Armenia',\n",
       "       ...\n",
       "       'Asia', 'Central America', 'Europe', 'Middle East', 'North America',\n",
       "       'Oceania', 'South America', 'Bunkers', 'Statistical Difference',\n",
       "       'World'],\n",
       "      dtype='object', length=236)"
      ]
     },
     "execution_count": 8,
     "metadata": {},
     "output_type": "execute_result"
    }
   ],
   "source": [
    "df2.columns"
   ]
  },
  {
   "cell_type": "code",
   "execution_count": 9,
   "metadata": {},
   "outputs": [
    {
     "data": {
      "text/html": [
       "<div>\n",
       "<style scoped>\n",
       "    .dataframe tbody tr th:only-of-type {\n",
       "        vertical-align: middle;\n",
       "    }\n",
       "\n",
       "    .dataframe tbody tr th {\n",
       "        vertical-align: top;\n",
       "    }\n",
       "\n",
       "    .dataframe thead th {\n",
       "        text-align: right;\n",
       "    }\n",
       "</style>\n",
       "<table border=\"1\" class=\"dataframe\">\n",
       "  <thead>\n",
       "    <tr style=\"text-align: right;\">\n",
       "      <th></th>\n",
       "      <th>Year</th>\n",
       "      <th>Afghanistan</th>\n",
       "      <th>Albania</th>\n",
       "      <th>Algeria</th>\n",
       "      <th>Andorra</th>\n",
       "      <th>Angola</th>\n",
       "      <th>Anguilla</th>\n",
       "      <th>Antigua and Barbuda</th>\n",
       "      <th>Argentina</th>\n",
       "      <th>Armenia</th>\n",
       "      <th>...</th>\n",
       "      <th>Asia</th>\n",
       "      <th>Central America</th>\n",
       "      <th>Europe</th>\n",
       "      <th>Middle East</th>\n",
       "      <th>North America</th>\n",
       "      <th>Oceania</th>\n",
       "      <th>South America</th>\n",
       "      <th>Bunkers</th>\n",
       "      <th>Statistical Difference</th>\n",
       "      <th>World</th>\n",
       "    </tr>\n",
       "  </thead>\n",
       "  <tbody>\n",
       "    <tr>\n",
       "      <th>0</th>\n",
       "      <td>1959</td>\n",
       "      <td>0.104959</td>\n",
       "      <td>0.394</td>\n",
       "      <td>1.543946</td>\n",
       "      <td>NaN</td>\n",
       "      <td>0.168830</td>\n",
       "      <td>NaN</td>\n",
       "      <td>0.008</td>\n",
       "      <td>13.359389</td>\n",
       "      <td>0.858819</td>\n",
       "      <td>...</td>\n",
       "      <td>356.227009</td>\n",
       "      <td>11.035273</td>\n",
       "      <td>1013.054177</td>\n",
       "      <td>19.314339</td>\n",
       "      <td>839.235511</td>\n",
       "      <td>25.898496</td>\n",
       "      <td>53.765340</td>\n",
       "      <td>58.234000</td>\n",
       "      <td>3.552714e-13</td>\n",
       "      <td>2417.132824</td>\n",
       "    </tr>\n",
       "    <tr>\n",
       "      <th>1</th>\n",
       "      <td>1960</td>\n",
       "      <td>0.112960</td>\n",
       "      <td>0.552</td>\n",
       "      <td>1.678832</td>\n",
       "      <td>NaN</td>\n",
       "      <td>0.149823</td>\n",
       "      <td>NaN</td>\n",
       "      <td>0.010</td>\n",
       "      <td>13.309088</td>\n",
       "      <td>0.894362</td>\n",
       "      <td>...</td>\n",
       "      <td>395.913772</td>\n",
       "      <td>9.886475</td>\n",
       "      <td>1081.501751</td>\n",
       "      <td>24.638551</td>\n",
       "      <td>860.628784</td>\n",
       "      <td>27.509237</td>\n",
       "      <td>54.356586</td>\n",
       "      <td>64.988958</td>\n",
       "      <td>-6.821210e-13</td>\n",
       "      <td>2562.175330</td>\n",
       "    </tr>\n",
       "    <tr>\n",
       "      <th>2</th>\n",
       "      <td>1961</td>\n",
       "      <td>0.133951</td>\n",
       "      <td>0.622</td>\n",
       "      <td>1.652817</td>\n",
       "      <td>NaN</td>\n",
       "      <td>0.123828</td>\n",
       "      <td>NaN</td>\n",
       "      <td>0.013</td>\n",
       "      <td>13.953796</td>\n",
       "      <td>0.923353</td>\n",
       "      <td>...</td>\n",
       "      <td>355.177453</td>\n",
       "      <td>10.462966</td>\n",
       "      <td>1121.014044</td>\n",
       "      <td>25.787066</td>\n",
       "      <td>858.748376</td>\n",
       "      <td>28.241123</td>\n",
       "      <td>55.073799</td>\n",
       "      <td>71.847433</td>\n",
       "      <td>5.684342e-14</td>\n",
       "      <td>2570.587685</td>\n",
       "    </tr>\n",
       "    <tr>\n",
       "      <th>3</th>\n",
       "      <td>1962</td>\n",
       "      <td>0.187935</td>\n",
       "      <td>0.672</td>\n",
       "      <td>1.545036</td>\n",
       "      <td>NaN</td>\n",
       "      <td>0.321814</td>\n",
       "      <td>NaN</td>\n",
       "      <td>0.028</td>\n",
       "      <td>14.639772</td>\n",
       "      <td>0.970543</td>\n",
       "      <td>...</td>\n",
       "      <td>337.271308</td>\n",
       "      <td>12.257956</td>\n",
       "      <td>1182.944420</td>\n",
       "      <td>29.829499</td>\n",
       "      <td>891.084416</td>\n",
       "      <td>29.206067</td>\n",
       "      <td>58.861940</td>\n",
       "      <td>74.493219</td>\n",
       "      <td>1.705303e-12</td>\n",
       "      <td>2661.370899</td>\n",
       "    </tr>\n",
       "    <tr>\n",
       "      <th>4</th>\n",
       "      <td>1963</td>\n",
       "      <td>0.192886</td>\n",
       "      <td>0.568</td>\n",
       "      <td>1.479027</td>\n",
       "      <td>NaN</td>\n",
       "      <td>0.313789</td>\n",
       "      <td>NaN</td>\n",
       "      <td>0.023</td>\n",
       "      <td>13.655202</td>\n",
       "      <td>1.042160</td>\n",
       "      <td>...</td>\n",
       "      <td>355.406750</td>\n",
       "      <td>10.644867</td>\n",
       "      <td>1257.417562</td>\n",
       "      <td>33.731761</td>\n",
       "      <td>929.054815</td>\n",
       "      <td>31.176766</td>\n",
       "      <td>59.888851</td>\n",
       "      <td>77.984751</td>\n",
       "      <td>6.963319e-13</td>\n",
       "      <td>2803.463447</td>\n",
       "    </tr>\n",
       "  </tbody>\n",
       "</table>\n",
       "<p>5 rows × 236 columns</p>\n",
       "</div>"
      ],
      "text/plain": [
       "   Year  Afghanistan  Albania   Algeria  Andorra    Angola  Anguilla  \\\n",
       "0  1959     0.104959    0.394  1.543946      NaN  0.168830       NaN   \n",
       "1  1960     0.112960    0.552  1.678832      NaN  0.149823       NaN   \n",
       "2  1961     0.133951    0.622  1.652817      NaN  0.123828       NaN   \n",
       "3  1962     0.187935    0.672  1.545036      NaN  0.321814       NaN   \n",
       "4  1963     0.192886    0.568  1.479027      NaN  0.313789       NaN   \n",
       "\n",
       "   Antigua and Barbuda  Argentina   Armenia  ...        Asia  Central America  \\\n",
       "0                0.008  13.359389  0.858819  ...  356.227009        11.035273   \n",
       "1                0.010  13.309088  0.894362  ...  395.913772         9.886475   \n",
       "2                0.013  13.953796  0.923353  ...  355.177453        10.462966   \n",
       "3                0.028  14.639772  0.970543  ...  337.271308        12.257956   \n",
       "4                0.023  13.655202  1.042160  ...  355.406750        10.644867   \n",
       "\n",
       "        Europe  Middle East  North America    Oceania  South America  \\\n",
       "0  1013.054177    19.314339     839.235511  25.898496      53.765340   \n",
       "1  1081.501751    24.638551     860.628784  27.509237      54.356586   \n",
       "2  1121.014044    25.787066     858.748376  28.241123      55.073799   \n",
       "3  1182.944420    29.829499     891.084416  29.206067      58.861940   \n",
       "4  1257.417562    33.731761     929.054815  31.176766      59.888851   \n",
       "\n",
       "     Bunkers  Statistical Difference        World  \n",
       "0  58.234000            3.552714e-13  2417.132824  \n",
       "1  64.988958           -6.821210e-13  2562.175330  \n",
       "2  71.847433            5.684342e-14  2570.587685  \n",
       "3  74.493219            1.705303e-12  2661.370899  \n",
       "4  77.984751            6.963319e-13  2803.463447  \n",
       "\n",
       "[5 rows x 236 columns]"
      ]
     },
     "execution_count": 9,
     "metadata": {},
     "output_type": "execute_result"
    }
   ],
   "source": [
    "df2.rename(columns={\"Unnamed: 0\" : \"Year\"}, inplace=True)\n",
    "df2.head()"
   ]
  },
  {
   "cell_type": "code",
   "execution_count": 10,
   "metadata": {},
   "outputs": [
    {
     "data": {
      "text/html": [
       "<div>\n",
       "<style scoped>\n",
       "    .dataframe tbody tr th:only-of-type {\n",
       "        vertical-align: middle;\n",
       "    }\n",
       "\n",
       "    .dataframe tbody tr th {\n",
       "        vertical-align: top;\n",
       "    }\n",
       "\n",
       "    .dataframe thead th {\n",
       "        text-align: right;\n",
       "    }\n",
       "</style>\n",
       "<table border=\"1\" class=\"dataframe\">\n",
       "  <thead>\n",
       "    <tr style=\"text-align: right;\">\n",
       "      <th></th>\n",
       "      <th>Year</th>\n",
       "      <th>China</th>\n",
       "      <th>India</th>\n",
       "      <th>USA</th>\n",
       "      <th>Indonesia</th>\n",
       "      <th>Pakistan</th>\n",
       "    </tr>\n",
       "  </thead>\n",
       "  <tbody>\n",
       "    <tr>\n",
       "      <th>0</th>\n",
       "      <td>1959</td>\n",
       "      <td>196.547914</td>\n",
       "      <td>27.718474</td>\n",
       "      <td>772.904781</td>\n",
       "      <td>6.512619</td>\n",
       "      <td>2.707706</td>\n",
       "    </tr>\n",
       "    <tr>\n",
       "      <th>1</th>\n",
       "      <td>1960</td>\n",
       "      <td>218.013079</td>\n",
       "      <td>30.417626</td>\n",
       "      <td>790.751981</td>\n",
       "      <td>5.836570</td>\n",
       "      <td>3.255032</td>\n",
       "    </tr>\n",
       "    <tr>\n",
       "      <th>2</th>\n",
       "      <td>1961</td>\n",
       "      <td>155.739680</td>\n",
       "      <td>32.898303</td>\n",
       "      <td>787.901938</td>\n",
       "      <td>7.096505</td>\n",
       "      <td>3.370516</td>\n",
       "    </tr>\n",
       "    <tr>\n",
       "      <th>3</th>\n",
       "      <td>1962</td>\n",
       "      <td>125.441614</td>\n",
       "      <td>36.225046</td>\n",
       "      <td>817.113000</td>\n",
       "      <td>6.270440</td>\n",
       "      <td>3.703570</td>\n",
       "    </tr>\n",
       "    <tr>\n",
       "      <th>4</th>\n",
       "      <td>1963</td>\n",
       "      <td>124.666880</td>\n",
       "      <td>38.919587</td>\n",
       "      <td>853.298982</td>\n",
       "      <td>6.212635</td>\n",
       "      <td>4.257701</td>\n",
       "    </tr>\n",
       "  </tbody>\n",
       "</table>\n",
       "</div>"
      ],
      "text/plain": [
       "   Year       China      India         USA  Indonesia  Pakistan\n",
       "0  1959  196.547914  27.718474  772.904781   6.512619  2.707706\n",
       "1  1960  218.013079  30.417626  790.751981   5.836570  3.255032\n",
       "2  1961  155.739680  32.898303  787.901938   7.096505  3.370516\n",
       "3  1962  125.441614  36.225046  817.113000   6.270440  3.703570\n",
       "4  1963  124.666880  38.919587  853.298982   6.212635  4.257701"
      ]
     },
     "execution_count": 10,
     "metadata": {},
     "output_type": "execute_result"
    }
   ],
   "source": [
    "top5_country = df2[[\"Year\",\"China\", \"India\",\"USA\",\"Indonesia\",\"Pakistan\"]]\n",
    "top5_country.head()"
   ]
  },
  {
   "cell_type": "code",
   "execution_count": 11,
   "metadata": {},
   "outputs": [
    {
     "data": {
      "text/html": [
       "<div>\n",
       "<style scoped>\n",
       "    .dataframe tbody tr th:only-of-type {\n",
       "        vertical-align: middle;\n",
       "    }\n",
       "\n",
       "    .dataframe tbody tr th {\n",
       "        vertical-align: top;\n",
       "    }\n",
       "\n",
       "    .dataframe thead th {\n",
       "        text-align: right;\n",
       "    }\n",
       "</style>\n",
       "<table border=\"1\" class=\"dataframe\">\n",
       "  <thead>\n",
       "    <tr style=\"text-align: right;\">\n",
       "      <th></th>\n",
       "      <th>Year</th>\n",
       "      <th>China</th>\n",
       "      <th>India</th>\n",
       "      <th>USA</th>\n",
       "      <th>Indonesia</th>\n",
       "      <th>Pakistan</th>\n",
       "    </tr>\n",
       "  </thead>\n",
       "  <tbody>\n",
       "    <tr>\n",
       "      <th>count</th>\n",
       "      <td>62.000000</td>\n",
       "      <td>62.000000</td>\n",
       "      <td>62.000000</td>\n",
       "      <td>62.000000</td>\n",
       "      <td>62.000000</td>\n",
       "      <td>62.000000</td>\n",
       "    </tr>\n",
       "    <tr>\n",
       "      <th>mean</th>\n",
       "      <td>1989.500000</td>\n",
       "      <td>1021.187646</td>\n",
       "      <td>228.007831</td>\n",
       "      <td>1335.145199</td>\n",
       "      <td>60.219168</td>\n",
       "      <td>22.407950</td>\n",
       "    </tr>\n",
       "    <tr>\n",
       "      <th>std</th>\n",
       "      <td>18.041619</td>\n",
       "      <td>921.103480</td>\n",
       "      <td>206.773480</td>\n",
       "      <td>244.033975</td>\n",
       "      <td>51.643327</td>\n",
       "      <td>18.201397</td>\n",
       "    </tr>\n",
       "    <tr>\n",
       "      <th>min</th>\n",
       "      <td>1959.000000</td>\n",
       "      <td>124.666880</td>\n",
       "      <td>27.718474</td>\n",
       "      <td>772.904781</td>\n",
       "      <td>5.836570</td>\n",
       "      <td>2.707706</td>\n",
       "    </tr>\n",
       "    <tr>\n",
       "      <th>25%</th>\n",
       "      <td>1974.250000</td>\n",
       "      <td>291.178668</td>\n",
       "      <td>60.222470</td>\n",
       "      <td>1228.690859</td>\n",
       "      <td>14.165669</td>\n",
       "      <td>5.932773</td>\n",
       "    </tr>\n",
       "    <tr>\n",
       "      <th>50%</th>\n",
       "      <td>1989.500000</td>\n",
       "      <td>675.287826</td>\n",
       "      <td>152.791014</td>\n",
       "      <td>1379.421851</td>\n",
       "      <td>38.619794</td>\n",
       "      <td>17.439100</td>\n",
       "    </tr>\n",
       "    <tr>\n",
       "      <th>75%</th>\n",
       "      <td>2004.750000</td>\n",
       "      <td>1559.321826</td>\n",
       "      <td>319.550304</td>\n",
       "      <td>1504.273423</td>\n",
       "      <td>94.467140</td>\n",
       "      <td>36.451252</td>\n",
       "    </tr>\n",
       "    <tr>\n",
       "      <th>max</th>\n",
       "      <td>2020.000000</td>\n",
       "      <td>2911.389425</td>\n",
       "      <td>716.694364</td>\n",
       "      <td>1674.268961</td>\n",
       "      <td>180.293118</td>\n",
       "      <td>65.039810</td>\n",
       "    </tr>\n",
       "  </tbody>\n",
       "</table>\n",
       "</div>"
      ],
      "text/plain": [
       "              Year        China       India          USA   Indonesia  \\\n",
       "count    62.000000    62.000000   62.000000    62.000000   62.000000   \n",
       "mean   1989.500000  1021.187646  228.007831  1335.145199   60.219168   \n",
       "std      18.041619   921.103480  206.773480   244.033975   51.643327   \n",
       "min    1959.000000   124.666880   27.718474   772.904781    5.836570   \n",
       "25%    1974.250000   291.178668   60.222470  1228.690859   14.165669   \n",
       "50%    1989.500000   675.287826  152.791014  1379.421851   38.619794   \n",
       "75%    2004.750000  1559.321826  319.550304  1504.273423   94.467140   \n",
       "max    2020.000000  2911.389425  716.694364  1674.268961  180.293118   \n",
       "\n",
       "        Pakistan  \n",
       "count  62.000000  \n",
       "mean   22.407950  \n",
       "std    18.201397  \n",
       "min     2.707706  \n",
       "25%     5.932773  \n",
       "50%    17.439100  \n",
       "75%    36.451252  \n",
       "max    65.039810  "
      ]
     },
     "execution_count": 11,
     "metadata": {},
     "output_type": "execute_result"
    }
   ],
   "source": [
    "top5_country.describe()"
   ]
  },
  {
   "cell_type": "code",
   "execution_count": 12,
   "metadata": {},
   "outputs": [
    {
     "data": {
      "application/vnd.plotly.v1+json": {
       "config": {
        "linkText": "Export to plot.ly",
        "plotlyServerURL": "https://plot.ly",
        "showLink": false
       },
       "data": [
        {
         "name": "China",
         "type": "scatter",
         "x": [
          1959,
          1960,
          1961,
          1962,
          1963,
          1964,
          1965,
          1966,
          1967,
          1968,
          1969,
          1970,
          1971,
          1972,
          1973,
          1974,
          1975,
          1976,
          1977,
          1978,
          1979,
          1980,
          1981,
          1982,
          1983,
          1984,
          1985,
          1986,
          1987,
          1988,
          1989,
          1990,
          1991,
          1992,
          1993,
          1994,
          1995,
          1996,
          1997,
          1998,
          1999,
          2000,
          2001,
          2002,
          2003,
          2004,
          2005,
          2006,
          2007,
          2008,
          2009,
          2010,
          2011,
          2012,
          2013,
          2014,
          2015,
          2016,
          2017,
          2018,
          2019,
          2020
         ],
         "y": [
          196.547913989451,
          218.013078805909,
          155.739679798544,
          125.441614102051,
          124.666880307032,
          125.71973094008,
          136.541038194337,
          149.961604123184,
          125.607504217923,
          135.236508197564,
          165.852446968949,
          220.511088041603,
          248.146752254064,
          264.368339485436,
          275.189021783194,
          280.594941908827,
          322.929845979307,
          334.721964223432,
          365.947356640011,
          407.417534239407,
          416.392234757189,
          407.886431264374,
          402.971575970848,
          438.478442529673,
          462.395417861393,
          503.501095088538,
          545.32830353285,
          574.294037628536,
          616.195016227435,
          662.088851751083,
          672.394750921966,
          678.180900655022,
          711.270792078832,
          745.3022891272,
          797.39381991178,
          846.070427165796,
          916.459849427986,
          956.122735662689,
          958.015634929039,
          917.154867087882,
          914.394139996643,
          938.633244999425,
          959.315992168873,
          1056.93103096015,
          1240.45138816509,
          1425.69723156386,
          1603.8633569869,
          1770.96174017467,
          1904.643,
          2046.07865911572,
          2152.43798253275,
          2351.70652156114,
          2600.58835534935,
          2668.01905103712,
          2716.36019521998,
          2725.32297553267,
          2687.88748364441,
          2652.95963050237,
          2707.54890529208,
          2808.40325468656,
          2862.98814269042,
          2911.38942473779
         ]
        },
        {
         "name": "India",
         "type": "scatter",
         "x": [
          1959,
          1960,
          1961,
          1962,
          1963,
          1964,
          1965,
          1966,
          1967,
          1968,
          1969,
          1970,
          1971,
          1972,
          1973,
          1974,
          1975,
          1976,
          1977,
          1978,
          1979,
          1980,
          1981,
          1982,
          1983,
          1984,
          1985,
          1986,
          1987,
          1988,
          1989,
          1990,
          1991,
          1992,
          1993,
          1994,
          1995,
          1996,
          1997,
          1998,
          1999,
          2000,
          2001,
          2002,
          2003,
          2004,
          2005,
          2006,
          2007,
          2008,
          2009,
          2010,
          2011,
          2012,
          2013,
          2014,
          2015,
          2016,
          2017,
          2018,
          2019,
          2020
         ],
         "y": [
          27.7184740382401,
          30.4176264247354,
          32.8983031721312,
          36.2250459611487,
          38.9195874634899,
          38.1111046321138,
          41.9944763069166,
          43.5425697284852,
          43.5931819405283,
          47.5561274645737,
          48.4686189371297,
          49.6448058603147,
          52.4411768348478,
          55.4659720483376,
          57.1209788499331,
          58.9684922223271,
          63.9844027500485,
          66.8640534743383,
          70.7463123211011,
          71.8881804764775,
          75.4754167379814,
          79.6921632383012,
          86.0441156127859,
          88.8874110533122,
          96.2145000926461,
          98.7688465268708,
          108.61156444392,
          116.456974654319,
          124.388270991017,
          134.318719917491,
          147.68958189609,
          157.892446342447,
          168.101700864161,
          179.048260659498,
          185.020729913641,
          195.665181566992,
          208.002263151347,
          225.414432890276,
          234.630416861213,
          239.546309813359,
          259.756620884361,
          267.172158922273,
          270.895115901612,
          279.210360109888,
          289.196424760988,
          307.169969640301,
          323.67708225923,
          343.816512961818,
          370.674561751609,
          399.239607959044,
          440.179003750379,
          457.938696107926,
          485.84352180807,
          535.913116328829,
          555.93238726704,
          596.571222536561,
          619.150512564152,
          650.170092791052,
          664.261941552251,
          709.553962154776,
          716.694363660724,
          667.029508684263
         ]
        },
        {
         "name": "USA",
         "type": "scatter",
         "x": [
          1959,
          1960,
          1961,
          1962,
          1963,
          1964,
          1965,
          1966,
          1967,
          1968,
          1969,
          1970,
          1971,
          1972,
          1973,
          1974,
          1975,
          1976,
          1977,
          1978,
          1979,
          1980,
          1981,
          1982,
          1983,
          1984,
          1985,
          1986,
          1987,
          1988,
          1989,
          1990,
          1991,
          1992,
          1993,
          1994,
          1995,
          1996,
          1997,
          1998,
          1999,
          2000,
          2001,
          2002,
          2003,
          2004,
          2005,
          2006,
          2007,
          2008,
          2009,
          2010,
          2011,
          2012,
          2013,
          2014,
          2015,
          2016,
          2017,
          2018,
          2019,
          2020
         ],
         "y": [
          772.904780926673,
          790.751981491601,
          787.901937819563,
          817.112999843882,
          853.298982106789,
          890.915339668487,
          927.823896170687,
          974.732891425041,
          1011.31576227397,
          1048.28590509177,
          1101.29512566032,
          1184.41211979682,
          1191.44794053902,
          1248.09371705827,
          1305.96342612296,
          1261.20272141263,
          1222.22323930678,
          1295.78668476579,
          1334.4998091649,
          1348.62490836868,
          1366.97046379271,
          1312.36308853861,
          1279.03062172545,
          1213.7704526253,
          1208.89029763785,
          1272.41361646082,
          1269.80840303974,
          1272.75317825478,
          1317.04357273562,
          1378.40403418441,
          1400.69085113546,
          1395.5935248639,
          1380.43966707247,
          1410.33865909646,
          1437.59363003706,
          1462.56114836689,
          1479.66770339427,
          1531.27226772684,
          1551.98280439765,
          1564.151090299,
          1584.24370066263,
          1640.42258555076,
          1611.59432189864,
          1623.02690127814,
          1640.78534264233,
          1668.66999999202,
          1674.26896105261,
          1651.6561259806,
          1673.30899520988,
          1614.1041937499,
          1495.14456487835,
          1549.06835021751,
          1512.05608037425,
          1457.06832543679,
          1494.06571243041,
          1507.31637611703,
          1466.09458430567,
          1432.32094193226,
          1421.32949727239,
          1467.10988366239,
          1434.44765469557,
          1286.56600026602
         ]
        },
        {
         "name": "Indonesia",
         "type": "scatter",
         "x": [
          1959,
          1960,
          1961,
          1962,
          1963,
          1964,
          1965,
          1966,
          1967,
          1968,
          1969,
          1970,
          1971,
          1972,
          1973,
          1974,
          1975,
          1976,
          1977,
          1978,
          1979,
          1980,
          1981,
          1982,
          1983,
          1984,
          1985,
          1986,
          1987,
          1988,
          1989,
          1990,
          1991,
          1992,
          1993,
          1994,
          1995,
          1996,
          1997,
          1998,
          1999,
          2000,
          2001,
          2002,
          2003,
          2004,
          2005,
          2006,
          2007,
          2008,
          2009,
          2010,
          2011,
          2012,
          2013,
          2014,
          2015,
          2016,
          2017,
          2018,
          2019,
          2020
         ],
         "y": [
          6.51261881889764,
          5.8365702311087,
          7.09650527559055,
          6.27044039370079,
          6.21263503937008,
          6.10651338582677,
          6.73259448818898,
          6.37962692913386,
          6.69761070866142,
          7.52254582677165,
          9.1054078877315,
          9.76839173228346,
          10.6318953463315,
          11.8194000519477,
          13.4001348852636,
          13.981032651016,
          14.7195788449532,
          16.8636045679035,
          22.493559804681,
          25.6381313529194,
          25.9653391404221,
          25.893251323565,
          27.3736494988288,
          28.8165883518803,
          28.707380359677,
          30.693296738472,
          33.1870587423222,
          33.3422690400384,
          33.8096278563489,
          36.2230379567722,
          35.9370972569914,
          41.0165509408145,
          49.2961621625806,
          55.5614511385222,
          59.978756502754,
          60.8229038311628,
          61.8293063385549,
          69.6144805926114,
          76.6194957806893,
          58.9439958249223,
          66.58027209035,
          74.9799912833165,
          82.7896781774841,
          84.8303184575643,
          92.9152529012218,
          93.9939216871752,
          95.2480068604378,
          94.6248789483584,
          105.9648548988,
          99.9708768010174,
          109.704513747691,
          123.34374127149,
          137.762546339772,
          142.33838863096,
          135.391477891623,
          136.182633046925,
          150.511828574126,
          153.069318201902,
          156.980292673559,
          167.817761108446,
          180.29311825234,
          160.874229398515
         ]
        },
        {
         "name": "Pakistan",
         "type": "scatter",
         "x": [
          1959,
          1960,
          1961,
          1962,
          1963,
          1964,
          1965,
          1966,
          1967,
          1968,
          1969,
          1970,
          1971,
          1972,
          1973,
          1974,
          1975,
          1976,
          1977,
          1978,
          1979,
          1980,
          1981,
          1982,
          1983,
          1984,
          1985,
          1986,
          1987,
          1988,
          1989,
          1990,
          1991,
          1992,
          1993,
          1994,
          1995,
          1996,
          1997,
          1998,
          1999,
          2000,
          2001,
          2002,
          2003,
          2004,
          2005,
          2006,
          2007,
          2008,
          2009,
          2010,
          2011,
          2012,
          2013,
          2014,
          2015,
          2016,
          2017,
          2018,
          2019,
          2020
         ],
         "y": [
          2.7077055923278,
          3.25503191964049,
          3.37051625115186,
          3.70357042755755,
          4.25770095043851,
          4.37744566605408,
          4.59322883972397,
          4.6740571496957,
          4.96067250343204,
          5.68826134529331,
          5.5167606847265,
          5.59618084747001,
          5.3058693825107,
          5.15912897637795,
          5.4608294778944,
          5.83717196850394,
          6.32856125984252,
          6.2195756325544,
          6.63752029149702,
          7.10986787499976,
          7.67861747168492,
          8.71494291005014,
          9.34302188532244,
          10.1500057742213,
          10.9230863839972,
          11.6149907497305,
          12.7766228054666,
          13.3893617238086,
          14.4619280181193,
          15.7225374505671,
          16.4619585169351,
          18.5118364916561,
          18.4162405360423,
          19.6547272253063,
          21.0632426604727,
          22.930757660511,
          22.8205127944454,
          25.5291932241094,
          25.5972048334052,
          26.4030389948684,
          27.1259075189446,
          28.771770736436,
          29.2375607975562,
          30.8143763324058,
          32.0663176613017,
          35.469373730143,
          36.7785445389295,
          39.2266392281371,
          42.5342766554901,
          42.4007364981183,
          42.3637468062166,
          42.070225826974,
          42.2105865637844,
          41.99677424416,
          41.0618738862447,
          42.6427750400171,
          46.1931739624504,
          56.5007011341452,
          63.858506594226,
          65.0398102751631,
          63.9434926562173,
          64.0622578920189
         ]
        }
       ],
       "layout": {
        "template": {
         "data": {
          "bar": [
           {
            "error_x": {
             "color": "#2a3f5f"
            },
            "error_y": {
             "color": "#2a3f5f"
            },
            "marker": {
             "line": {
              "color": "#E5ECF6",
              "width": 0.5
             },
             "pattern": {
              "fillmode": "overlay",
              "size": 10,
              "solidity": 0.2
             }
            },
            "type": "bar"
           }
          ],
          "barpolar": [
           {
            "marker": {
             "line": {
              "color": "#E5ECF6",
              "width": 0.5
             },
             "pattern": {
              "fillmode": "overlay",
              "size": 10,
              "solidity": 0.2
             }
            },
            "type": "barpolar"
           }
          ],
          "carpet": [
           {
            "aaxis": {
             "endlinecolor": "#2a3f5f",
             "gridcolor": "white",
             "linecolor": "white",
             "minorgridcolor": "white",
             "startlinecolor": "#2a3f5f"
            },
            "baxis": {
             "endlinecolor": "#2a3f5f",
             "gridcolor": "white",
             "linecolor": "white",
             "minorgridcolor": "white",
             "startlinecolor": "#2a3f5f"
            },
            "type": "carpet"
           }
          ],
          "choropleth": [
           {
            "colorbar": {
             "outlinewidth": 0,
             "ticks": ""
            },
            "type": "choropleth"
           }
          ],
          "contour": [
           {
            "colorbar": {
             "outlinewidth": 0,
             "ticks": ""
            },
            "colorscale": [
             [
              0,
              "#0d0887"
             ],
             [
              0.1111111111111111,
              "#46039f"
             ],
             [
              0.2222222222222222,
              "#7201a8"
             ],
             [
              0.3333333333333333,
              "#9c179e"
             ],
             [
              0.4444444444444444,
              "#bd3786"
             ],
             [
              0.5555555555555556,
              "#d8576b"
             ],
             [
              0.6666666666666666,
              "#ed7953"
             ],
             [
              0.7777777777777778,
              "#fb9f3a"
             ],
             [
              0.8888888888888888,
              "#fdca26"
             ],
             [
              1,
              "#f0f921"
             ]
            ],
            "type": "contour"
           }
          ],
          "contourcarpet": [
           {
            "colorbar": {
             "outlinewidth": 0,
             "ticks": ""
            },
            "type": "contourcarpet"
           }
          ],
          "heatmap": [
           {
            "colorbar": {
             "outlinewidth": 0,
             "ticks": ""
            },
            "colorscale": [
             [
              0,
              "#0d0887"
             ],
             [
              0.1111111111111111,
              "#46039f"
             ],
             [
              0.2222222222222222,
              "#7201a8"
             ],
             [
              0.3333333333333333,
              "#9c179e"
             ],
             [
              0.4444444444444444,
              "#bd3786"
             ],
             [
              0.5555555555555556,
              "#d8576b"
             ],
             [
              0.6666666666666666,
              "#ed7953"
             ],
             [
              0.7777777777777778,
              "#fb9f3a"
             ],
             [
              0.8888888888888888,
              "#fdca26"
             ],
             [
              1,
              "#f0f921"
             ]
            ],
            "type": "heatmap"
           }
          ],
          "heatmapgl": [
           {
            "colorbar": {
             "outlinewidth": 0,
             "ticks": ""
            },
            "colorscale": [
             [
              0,
              "#0d0887"
             ],
             [
              0.1111111111111111,
              "#46039f"
             ],
             [
              0.2222222222222222,
              "#7201a8"
             ],
             [
              0.3333333333333333,
              "#9c179e"
             ],
             [
              0.4444444444444444,
              "#bd3786"
             ],
             [
              0.5555555555555556,
              "#d8576b"
             ],
             [
              0.6666666666666666,
              "#ed7953"
             ],
             [
              0.7777777777777778,
              "#fb9f3a"
             ],
             [
              0.8888888888888888,
              "#fdca26"
             ],
             [
              1,
              "#f0f921"
             ]
            ],
            "type": "heatmapgl"
           }
          ],
          "histogram": [
           {
            "marker": {
             "pattern": {
              "fillmode": "overlay",
              "size": 10,
              "solidity": 0.2
             }
            },
            "type": "histogram"
           }
          ],
          "histogram2d": [
           {
            "colorbar": {
             "outlinewidth": 0,
             "ticks": ""
            },
            "colorscale": [
             [
              0,
              "#0d0887"
             ],
             [
              0.1111111111111111,
              "#46039f"
             ],
             [
              0.2222222222222222,
              "#7201a8"
             ],
             [
              0.3333333333333333,
              "#9c179e"
             ],
             [
              0.4444444444444444,
              "#bd3786"
             ],
             [
              0.5555555555555556,
              "#d8576b"
             ],
             [
              0.6666666666666666,
              "#ed7953"
             ],
             [
              0.7777777777777778,
              "#fb9f3a"
             ],
             [
              0.8888888888888888,
              "#fdca26"
             ],
             [
              1,
              "#f0f921"
             ]
            ],
            "type": "histogram2d"
           }
          ],
          "histogram2dcontour": [
           {
            "colorbar": {
             "outlinewidth": 0,
             "ticks": ""
            },
            "colorscale": [
             [
              0,
              "#0d0887"
             ],
             [
              0.1111111111111111,
              "#46039f"
             ],
             [
              0.2222222222222222,
              "#7201a8"
             ],
             [
              0.3333333333333333,
              "#9c179e"
             ],
             [
              0.4444444444444444,
              "#bd3786"
             ],
             [
              0.5555555555555556,
              "#d8576b"
             ],
             [
              0.6666666666666666,
              "#ed7953"
             ],
             [
              0.7777777777777778,
              "#fb9f3a"
             ],
             [
              0.8888888888888888,
              "#fdca26"
             ],
             [
              1,
              "#f0f921"
             ]
            ],
            "type": "histogram2dcontour"
           }
          ],
          "mesh3d": [
           {
            "colorbar": {
             "outlinewidth": 0,
             "ticks": ""
            },
            "type": "mesh3d"
           }
          ],
          "parcoords": [
           {
            "line": {
             "colorbar": {
              "outlinewidth": 0,
              "ticks": ""
             }
            },
            "type": "parcoords"
           }
          ],
          "pie": [
           {
            "automargin": true,
            "type": "pie"
           }
          ],
          "scatter": [
           {
            "fillpattern": {
             "fillmode": "overlay",
             "size": 10,
             "solidity": 0.2
            },
            "type": "scatter"
           }
          ],
          "scatter3d": [
           {
            "line": {
             "colorbar": {
              "outlinewidth": 0,
              "ticks": ""
             }
            },
            "marker": {
             "colorbar": {
              "outlinewidth": 0,
              "ticks": ""
             }
            },
            "type": "scatter3d"
           }
          ],
          "scattercarpet": [
           {
            "marker": {
             "colorbar": {
              "outlinewidth": 0,
              "ticks": ""
             }
            },
            "type": "scattercarpet"
           }
          ],
          "scattergeo": [
           {
            "marker": {
             "colorbar": {
              "outlinewidth": 0,
              "ticks": ""
             }
            },
            "type": "scattergeo"
           }
          ],
          "scattergl": [
           {
            "marker": {
             "colorbar": {
              "outlinewidth": 0,
              "ticks": ""
             }
            },
            "type": "scattergl"
           }
          ],
          "scattermapbox": [
           {
            "marker": {
             "colorbar": {
              "outlinewidth": 0,
              "ticks": ""
             }
            },
            "type": "scattermapbox"
           }
          ],
          "scatterpolar": [
           {
            "marker": {
             "colorbar": {
              "outlinewidth": 0,
              "ticks": ""
             }
            },
            "type": "scatterpolar"
           }
          ],
          "scatterpolargl": [
           {
            "marker": {
             "colorbar": {
              "outlinewidth": 0,
              "ticks": ""
             }
            },
            "type": "scatterpolargl"
           }
          ],
          "scatterternary": [
           {
            "marker": {
             "colorbar": {
              "outlinewidth": 0,
              "ticks": ""
             }
            },
            "type": "scatterternary"
           }
          ],
          "surface": [
           {
            "colorbar": {
             "outlinewidth": 0,
             "ticks": ""
            },
            "colorscale": [
             [
              0,
              "#0d0887"
             ],
             [
              0.1111111111111111,
              "#46039f"
             ],
             [
              0.2222222222222222,
              "#7201a8"
             ],
             [
              0.3333333333333333,
              "#9c179e"
             ],
             [
              0.4444444444444444,
              "#bd3786"
             ],
             [
              0.5555555555555556,
              "#d8576b"
             ],
             [
              0.6666666666666666,
              "#ed7953"
             ],
             [
              0.7777777777777778,
              "#fb9f3a"
             ],
             [
              0.8888888888888888,
              "#fdca26"
             ],
             [
              1,
              "#f0f921"
             ]
            ],
            "type": "surface"
           }
          ],
          "table": [
           {
            "cells": {
             "fill": {
              "color": "#EBF0F8"
             },
             "line": {
              "color": "white"
             }
            },
            "header": {
             "fill": {
              "color": "#C8D4E3"
             },
             "line": {
              "color": "white"
             }
            },
            "type": "table"
           }
          ]
         },
         "layout": {
          "annotationdefaults": {
           "arrowcolor": "#2a3f5f",
           "arrowhead": 0,
           "arrowwidth": 1
          },
          "autotypenumbers": "strict",
          "coloraxis": {
           "colorbar": {
            "outlinewidth": 0,
            "ticks": ""
           }
          },
          "colorscale": {
           "diverging": [
            [
             0,
             "#8e0152"
            ],
            [
             0.1,
             "#c51b7d"
            ],
            [
             0.2,
             "#de77ae"
            ],
            [
             0.3,
             "#f1b6da"
            ],
            [
             0.4,
             "#fde0ef"
            ],
            [
             0.5,
             "#f7f7f7"
            ],
            [
             0.6,
             "#e6f5d0"
            ],
            [
             0.7,
             "#b8e186"
            ],
            [
             0.8,
             "#7fbc41"
            ],
            [
             0.9,
             "#4d9221"
            ],
            [
             1,
             "#276419"
            ]
           ],
           "sequential": [
            [
             0,
             "#0d0887"
            ],
            [
             0.1111111111111111,
             "#46039f"
            ],
            [
             0.2222222222222222,
             "#7201a8"
            ],
            [
             0.3333333333333333,
             "#9c179e"
            ],
            [
             0.4444444444444444,
             "#bd3786"
            ],
            [
             0.5555555555555556,
             "#d8576b"
            ],
            [
             0.6666666666666666,
             "#ed7953"
            ],
            [
             0.7777777777777778,
             "#fb9f3a"
            ],
            [
             0.8888888888888888,
             "#fdca26"
            ],
            [
             1,
             "#f0f921"
            ]
           ],
           "sequentialminus": [
            [
             0,
             "#0d0887"
            ],
            [
             0.1111111111111111,
             "#46039f"
            ],
            [
             0.2222222222222222,
             "#7201a8"
            ],
            [
             0.3333333333333333,
             "#9c179e"
            ],
            [
             0.4444444444444444,
             "#bd3786"
            ],
            [
             0.5555555555555556,
             "#d8576b"
            ],
            [
             0.6666666666666666,
             "#ed7953"
            ],
            [
             0.7777777777777778,
             "#fb9f3a"
            ],
            [
             0.8888888888888888,
             "#fdca26"
            ],
            [
             1,
             "#f0f921"
            ]
           ]
          },
          "colorway": [
           "#636efa",
           "#EF553B",
           "#00cc96",
           "#ab63fa",
           "#FFA15A",
           "#19d3f3",
           "#FF6692",
           "#B6E880",
           "#FF97FF",
           "#FECB52"
          ],
          "font": {
           "color": "#2a3f5f"
          },
          "geo": {
           "bgcolor": "white",
           "lakecolor": "white",
           "landcolor": "#E5ECF6",
           "showlakes": true,
           "showland": true,
           "subunitcolor": "white"
          },
          "hoverlabel": {
           "align": "left"
          },
          "hovermode": "closest",
          "mapbox": {
           "style": "light"
          },
          "paper_bgcolor": "white",
          "plot_bgcolor": "#E5ECF6",
          "polar": {
           "angularaxis": {
            "gridcolor": "white",
            "linecolor": "white",
            "ticks": ""
           },
           "bgcolor": "#E5ECF6",
           "radialaxis": {
            "gridcolor": "white",
            "linecolor": "white",
            "ticks": ""
           }
          },
          "scene": {
           "xaxis": {
            "backgroundcolor": "#E5ECF6",
            "gridcolor": "white",
            "gridwidth": 2,
            "linecolor": "white",
            "showbackground": true,
            "ticks": "",
            "zerolinecolor": "white"
           },
           "yaxis": {
            "backgroundcolor": "#E5ECF6",
            "gridcolor": "white",
            "gridwidth": 2,
            "linecolor": "white",
            "showbackground": true,
            "ticks": "",
            "zerolinecolor": "white"
           },
           "zaxis": {
            "backgroundcolor": "#E5ECF6",
            "gridcolor": "white",
            "gridwidth": 2,
            "linecolor": "white",
            "showbackground": true,
            "ticks": "",
            "zerolinecolor": "white"
           }
          },
          "shapedefaults": {
           "line": {
            "color": "#2a3f5f"
           }
          },
          "ternary": {
           "aaxis": {
            "gridcolor": "white",
            "linecolor": "white",
            "ticks": ""
           },
           "baxis": {
            "gridcolor": "white",
            "linecolor": "white",
            "ticks": ""
           },
           "bgcolor": "#E5ECF6",
           "caxis": {
            "gridcolor": "white",
            "linecolor": "white",
            "ticks": ""
           }
          },
          "title": {
           "x": 0.05
          },
          "xaxis": {
           "automargin": true,
           "gridcolor": "white",
           "linecolor": "white",
           "ticks": "",
           "title": {
            "standoff": 15
           },
           "zerolinecolor": "white",
           "zerolinewidth": 2
          },
          "yaxis": {
           "automargin": true,
           "gridcolor": "white",
           "linecolor": "white",
           "ticks": "",
           "title": {
            "standoff": 15
           },
           "zerolinecolor": "white",
           "zerolinewidth": 2
          }
         }
        },
        "title": {
         "text": "Emission by Top Five Most Populated Countries"
        }
       }
      },
      "text/html": [
       "<div>                            <div id=\"66509212-5d51-4771-937f-39a8484cd12b\" class=\"plotly-graph-div\" style=\"height:525px; width:100%;\"></div>            <script type=\"text/javascript\">                require([\"plotly\"], function(Plotly) {                    window.PLOTLYENV=window.PLOTLYENV || {};                                    if (document.getElementById(\"66509212-5d51-4771-937f-39a8484cd12b\")) {                    Plotly.newPlot(                        \"66509212-5d51-4771-937f-39a8484cd12b\",                        [{\"name\":\"China\",\"x\":[1959,1960,1961,1962,1963,1964,1965,1966,1967,1968,1969,1970,1971,1972,1973,1974,1975,1976,1977,1978,1979,1980,1981,1982,1983,1984,1985,1986,1987,1988,1989,1990,1991,1992,1993,1994,1995,1996,1997,1998,1999,2000,2001,2002,2003,2004,2005,2006,2007,2008,2009,2010,2011,2012,2013,2014,2015,2016,2017,2018,2019,2020],\"y\":[196.547913989451,218.013078805909,155.739679798544,125.441614102051,124.666880307032,125.71973094008,136.541038194337,149.961604123184,125.607504217923,135.236508197564,165.852446968949,220.511088041603,248.146752254064,264.368339485436,275.189021783194,280.594941908827,322.929845979307,334.721964223432,365.947356640011,407.417534239407,416.392234757189,407.886431264374,402.971575970848,438.478442529673,462.395417861393,503.501095088538,545.32830353285,574.294037628536,616.195016227435,662.088851751083,672.394750921966,678.180900655022,711.270792078832,745.3022891272,797.39381991178,846.070427165796,916.459849427986,956.122735662689,958.015634929039,917.154867087882,914.394139996643,938.633244999425,959.315992168873,1056.93103096015,1240.45138816509,1425.69723156386,1603.8633569869,1770.96174017467,1904.643,2046.07865911572,2152.43798253275,2351.70652156114,2600.58835534935,2668.01905103712,2716.36019521998,2725.32297553267,2687.88748364441,2652.95963050237,2707.54890529208,2808.40325468656,2862.98814269042,2911.38942473779],\"type\":\"scatter\"},{\"name\":\"India\",\"x\":[1959,1960,1961,1962,1963,1964,1965,1966,1967,1968,1969,1970,1971,1972,1973,1974,1975,1976,1977,1978,1979,1980,1981,1982,1983,1984,1985,1986,1987,1988,1989,1990,1991,1992,1993,1994,1995,1996,1997,1998,1999,2000,2001,2002,2003,2004,2005,2006,2007,2008,2009,2010,2011,2012,2013,2014,2015,2016,2017,2018,2019,2020],\"y\":[27.7184740382401,30.4176264247354,32.8983031721312,36.2250459611487,38.9195874634899,38.1111046321138,41.9944763069166,43.5425697284852,43.5931819405283,47.5561274645737,48.4686189371297,49.6448058603147,52.4411768348478,55.4659720483376,57.1209788499331,58.9684922223271,63.9844027500485,66.8640534743383,70.7463123211011,71.8881804764775,75.4754167379814,79.6921632383012,86.0441156127859,88.8874110533122,96.2145000926461,98.7688465268708,108.61156444392,116.456974654319,124.388270991017,134.318719917491,147.68958189609,157.892446342447,168.101700864161,179.048260659498,185.020729913641,195.665181566992,208.002263151347,225.414432890276,234.630416861213,239.546309813359,259.756620884361,267.172158922273,270.895115901612,279.210360109888,289.196424760988,307.169969640301,323.67708225923,343.816512961818,370.674561751609,399.239607959044,440.179003750379,457.938696107926,485.84352180807,535.913116328829,555.93238726704,596.571222536561,619.150512564152,650.170092791052,664.261941552251,709.553962154776,716.694363660724,667.029508684263],\"type\":\"scatter\"},{\"name\":\"USA\",\"x\":[1959,1960,1961,1962,1963,1964,1965,1966,1967,1968,1969,1970,1971,1972,1973,1974,1975,1976,1977,1978,1979,1980,1981,1982,1983,1984,1985,1986,1987,1988,1989,1990,1991,1992,1993,1994,1995,1996,1997,1998,1999,2000,2001,2002,2003,2004,2005,2006,2007,2008,2009,2010,2011,2012,2013,2014,2015,2016,2017,2018,2019,2020],\"y\":[772.904780926673,790.751981491601,787.901937819563,817.112999843882,853.298982106789,890.915339668487,927.823896170687,974.732891425041,1011.31576227397,1048.28590509177,1101.29512566032,1184.41211979682,1191.44794053902,1248.09371705827,1305.96342612296,1261.20272141263,1222.22323930678,1295.78668476579,1334.4998091649,1348.62490836868,1366.97046379271,1312.36308853861,1279.03062172545,1213.7704526253,1208.89029763785,1272.41361646082,1269.80840303974,1272.75317825478,1317.04357273562,1378.40403418441,1400.69085113546,1395.5935248639,1380.43966707247,1410.33865909646,1437.59363003706,1462.56114836689,1479.66770339427,1531.27226772684,1551.98280439765,1564.151090299,1584.24370066263,1640.42258555076,1611.59432189864,1623.02690127814,1640.78534264233,1668.66999999202,1674.26896105261,1651.6561259806,1673.30899520988,1614.1041937499,1495.14456487835,1549.06835021751,1512.05608037425,1457.06832543679,1494.06571243041,1507.31637611703,1466.09458430567,1432.32094193226,1421.32949727239,1467.10988366239,1434.44765469557,1286.56600026602],\"type\":\"scatter\"},{\"name\":\"Indonesia\",\"x\":[1959,1960,1961,1962,1963,1964,1965,1966,1967,1968,1969,1970,1971,1972,1973,1974,1975,1976,1977,1978,1979,1980,1981,1982,1983,1984,1985,1986,1987,1988,1989,1990,1991,1992,1993,1994,1995,1996,1997,1998,1999,2000,2001,2002,2003,2004,2005,2006,2007,2008,2009,2010,2011,2012,2013,2014,2015,2016,2017,2018,2019,2020],\"y\":[6.51261881889764,5.8365702311087,7.09650527559055,6.27044039370079,6.21263503937008,6.10651338582677,6.73259448818898,6.37962692913386,6.69761070866142,7.52254582677165,9.1054078877315,9.76839173228346,10.6318953463315,11.8194000519477,13.4001348852636,13.981032651016,14.7195788449532,16.8636045679035,22.493559804681,25.6381313529194,25.9653391404221,25.893251323565,27.3736494988288,28.8165883518803,28.707380359677,30.693296738472,33.1870587423222,33.3422690400384,33.8096278563489,36.2230379567722,35.9370972569914,41.0165509408145,49.2961621625806,55.5614511385222,59.978756502754,60.8229038311628,61.8293063385549,69.6144805926114,76.6194957806893,58.9439958249223,66.58027209035,74.9799912833165,82.7896781774841,84.8303184575643,92.9152529012218,93.9939216871752,95.2480068604378,94.6248789483584,105.9648548988,99.9708768010174,109.704513747691,123.34374127149,137.762546339772,142.33838863096,135.391477891623,136.182633046925,150.511828574126,153.069318201902,156.980292673559,167.817761108446,180.29311825234,160.874229398515],\"type\":\"scatter\"},{\"name\":\"Pakistan\",\"x\":[1959,1960,1961,1962,1963,1964,1965,1966,1967,1968,1969,1970,1971,1972,1973,1974,1975,1976,1977,1978,1979,1980,1981,1982,1983,1984,1985,1986,1987,1988,1989,1990,1991,1992,1993,1994,1995,1996,1997,1998,1999,2000,2001,2002,2003,2004,2005,2006,2007,2008,2009,2010,2011,2012,2013,2014,2015,2016,2017,2018,2019,2020],\"y\":[2.7077055923278,3.25503191964049,3.37051625115186,3.70357042755755,4.25770095043851,4.37744566605408,4.59322883972397,4.6740571496957,4.96067250343204,5.68826134529331,5.5167606847265,5.59618084747001,5.3058693825107,5.15912897637795,5.4608294778944,5.83717196850394,6.32856125984252,6.2195756325544,6.63752029149702,7.10986787499976,7.67861747168492,8.71494291005014,9.34302188532244,10.1500057742213,10.9230863839972,11.6149907497305,12.7766228054666,13.3893617238086,14.4619280181193,15.7225374505671,16.4619585169351,18.5118364916561,18.4162405360423,19.6547272253063,21.0632426604727,22.930757660511,22.8205127944454,25.5291932241094,25.5972048334052,26.4030389948684,27.1259075189446,28.771770736436,29.2375607975562,30.8143763324058,32.0663176613017,35.469373730143,36.7785445389295,39.2266392281371,42.5342766554901,42.4007364981183,42.3637468062166,42.070225826974,42.2105865637844,41.99677424416,41.0618738862447,42.6427750400171,46.1931739624504,56.5007011341452,63.858506594226,65.0398102751631,63.9434926562173,64.0622578920189],\"type\":\"scatter\"}],                        {\"template\":{\"data\":{\"barpolar\":[{\"marker\":{\"line\":{\"color\":\"#E5ECF6\",\"width\":0.5},\"pattern\":{\"fillmode\":\"overlay\",\"size\":10,\"solidity\":0.2}},\"type\":\"barpolar\"}],\"bar\":[{\"error_x\":{\"color\":\"#2a3f5f\"},\"error_y\":{\"color\":\"#2a3f5f\"},\"marker\":{\"line\":{\"color\":\"#E5ECF6\",\"width\":0.5},\"pattern\":{\"fillmode\":\"overlay\",\"size\":10,\"solidity\":0.2}},\"type\":\"bar\"}],\"carpet\":[{\"aaxis\":{\"endlinecolor\":\"#2a3f5f\",\"gridcolor\":\"white\",\"linecolor\":\"white\",\"minorgridcolor\":\"white\",\"startlinecolor\":\"#2a3f5f\"},\"baxis\":{\"endlinecolor\":\"#2a3f5f\",\"gridcolor\":\"white\",\"linecolor\":\"white\",\"minorgridcolor\":\"white\",\"startlinecolor\":\"#2a3f5f\"},\"type\":\"carpet\"}],\"choropleth\":[{\"colorbar\":{\"outlinewidth\":0,\"ticks\":\"\"},\"type\":\"choropleth\"}],\"contourcarpet\":[{\"colorbar\":{\"outlinewidth\":0,\"ticks\":\"\"},\"type\":\"contourcarpet\"}],\"contour\":[{\"colorbar\":{\"outlinewidth\":0,\"ticks\":\"\"},\"colorscale\":[[0.0,\"#0d0887\"],[0.1111111111111111,\"#46039f\"],[0.2222222222222222,\"#7201a8\"],[0.3333333333333333,\"#9c179e\"],[0.4444444444444444,\"#bd3786\"],[0.5555555555555556,\"#d8576b\"],[0.6666666666666666,\"#ed7953\"],[0.7777777777777778,\"#fb9f3a\"],[0.8888888888888888,\"#fdca26\"],[1.0,\"#f0f921\"]],\"type\":\"contour\"}],\"heatmapgl\":[{\"colorbar\":{\"outlinewidth\":0,\"ticks\":\"\"},\"colorscale\":[[0.0,\"#0d0887\"],[0.1111111111111111,\"#46039f\"],[0.2222222222222222,\"#7201a8\"],[0.3333333333333333,\"#9c179e\"],[0.4444444444444444,\"#bd3786\"],[0.5555555555555556,\"#d8576b\"],[0.6666666666666666,\"#ed7953\"],[0.7777777777777778,\"#fb9f3a\"],[0.8888888888888888,\"#fdca26\"],[1.0,\"#f0f921\"]],\"type\":\"heatmapgl\"}],\"heatmap\":[{\"colorbar\":{\"outlinewidth\":0,\"ticks\":\"\"},\"colorscale\":[[0.0,\"#0d0887\"],[0.1111111111111111,\"#46039f\"],[0.2222222222222222,\"#7201a8\"],[0.3333333333333333,\"#9c179e\"],[0.4444444444444444,\"#bd3786\"],[0.5555555555555556,\"#d8576b\"],[0.6666666666666666,\"#ed7953\"],[0.7777777777777778,\"#fb9f3a\"],[0.8888888888888888,\"#fdca26\"],[1.0,\"#f0f921\"]],\"type\":\"heatmap\"}],\"histogram2dcontour\":[{\"colorbar\":{\"outlinewidth\":0,\"ticks\":\"\"},\"colorscale\":[[0.0,\"#0d0887\"],[0.1111111111111111,\"#46039f\"],[0.2222222222222222,\"#7201a8\"],[0.3333333333333333,\"#9c179e\"],[0.4444444444444444,\"#bd3786\"],[0.5555555555555556,\"#d8576b\"],[0.6666666666666666,\"#ed7953\"],[0.7777777777777778,\"#fb9f3a\"],[0.8888888888888888,\"#fdca26\"],[1.0,\"#f0f921\"]],\"type\":\"histogram2dcontour\"}],\"histogram2d\":[{\"colorbar\":{\"outlinewidth\":0,\"ticks\":\"\"},\"colorscale\":[[0.0,\"#0d0887\"],[0.1111111111111111,\"#46039f\"],[0.2222222222222222,\"#7201a8\"],[0.3333333333333333,\"#9c179e\"],[0.4444444444444444,\"#bd3786\"],[0.5555555555555556,\"#d8576b\"],[0.6666666666666666,\"#ed7953\"],[0.7777777777777778,\"#fb9f3a\"],[0.8888888888888888,\"#fdca26\"],[1.0,\"#f0f921\"]],\"type\":\"histogram2d\"}],\"histogram\":[{\"marker\":{\"pattern\":{\"fillmode\":\"overlay\",\"size\":10,\"solidity\":0.2}},\"type\":\"histogram\"}],\"mesh3d\":[{\"colorbar\":{\"outlinewidth\":0,\"ticks\":\"\"},\"type\":\"mesh3d\"}],\"parcoords\":[{\"line\":{\"colorbar\":{\"outlinewidth\":0,\"ticks\":\"\"}},\"type\":\"parcoords\"}],\"pie\":[{\"automargin\":true,\"type\":\"pie\"}],\"scatter3d\":[{\"line\":{\"colorbar\":{\"outlinewidth\":0,\"ticks\":\"\"}},\"marker\":{\"colorbar\":{\"outlinewidth\":0,\"ticks\":\"\"}},\"type\":\"scatter3d\"}],\"scattercarpet\":[{\"marker\":{\"colorbar\":{\"outlinewidth\":0,\"ticks\":\"\"}},\"type\":\"scattercarpet\"}],\"scattergeo\":[{\"marker\":{\"colorbar\":{\"outlinewidth\":0,\"ticks\":\"\"}},\"type\":\"scattergeo\"}],\"scattergl\":[{\"marker\":{\"colorbar\":{\"outlinewidth\":0,\"ticks\":\"\"}},\"type\":\"scattergl\"}],\"scattermapbox\":[{\"marker\":{\"colorbar\":{\"outlinewidth\":0,\"ticks\":\"\"}},\"type\":\"scattermapbox\"}],\"scatterpolargl\":[{\"marker\":{\"colorbar\":{\"outlinewidth\":0,\"ticks\":\"\"}},\"type\":\"scatterpolargl\"}],\"scatterpolar\":[{\"marker\":{\"colorbar\":{\"outlinewidth\":0,\"ticks\":\"\"}},\"type\":\"scatterpolar\"}],\"scatter\":[{\"fillpattern\":{\"fillmode\":\"overlay\",\"size\":10,\"solidity\":0.2},\"type\":\"scatter\"}],\"scatterternary\":[{\"marker\":{\"colorbar\":{\"outlinewidth\":0,\"ticks\":\"\"}},\"type\":\"scatterternary\"}],\"surface\":[{\"colorbar\":{\"outlinewidth\":0,\"ticks\":\"\"},\"colorscale\":[[0.0,\"#0d0887\"],[0.1111111111111111,\"#46039f\"],[0.2222222222222222,\"#7201a8\"],[0.3333333333333333,\"#9c179e\"],[0.4444444444444444,\"#bd3786\"],[0.5555555555555556,\"#d8576b\"],[0.6666666666666666,\"#ed7953\"],[0.7777777777777778,\"#fb9f3a\"],[0.8888888888888888,\"#fdca26\"],[1.0,\"#f0f921\"]],\"type\":\"surface\"}],\"table\":[{\"cells\":{\"fill\":{\"color\":\"#EBF0F8\"},\"line\":{\"color\":\"white\"}},\"header\":{\"fill\":{\"color\":\"#C8D4E3\"},\"line\":{\"color\":\"white\"}},\"type\":\"table\"}]},\"layout\":{\"annotationdefaults\":{\"arrowcolor\":\"#2a3f5f\",\"arrowhead\":0,\"arrowwidth\":1},\"autotypenumbers\":\"strict\",\"coloraxis\":{\"colorbar\":{\"outlinewidth\":0,\"ticks\":\"\"}},\"colorscale\":{\"diverging\":[[0,\"#8e0152\"],[0.1,\"#c51b7d\"],[0.2,\"#de77ae\"],[0.3,\"#f1b6da\"],[0.4,\"#fde0ef\"],[0.5,\"#f7f7f7\"],[0.6,\"#e6f5d0\"],[0.7,\"#b8e186\"],[0.8,\"#7fbc41\"],[0.9,\"#4d9221\"],[1,\"#276419\"]],\"sequential\":[[0.0,\"#0d0887\"],[0.1111111111111111,\"#46039f\"],[0.2222222222222222,\"#7201a8\"],[0.3333333333333333,\"#9c179e\"],[0.4444444444444444,\"#bd3786\"],[0.5555555555555556,\"#d8576b\"],[0.6666666666666666,\"#ed7953\"],[0.7777777777777778,\"#fb9f3a\"],[0.8888888888888888,\"#fdca26\"],[1.0,\"#f0f921\"]],\"sequentialminus\":[[0.0,\"#0d0887\"],[0.1111111111111111,\"#46039f\"],[0.2222222222222222,\"#7201a8\"],[0.3333333333333333,\"#9c179e\"],[0.4444444444444444,\"#bd3786\"],[0.5555555555555556,\"#d8576b\"],[0.6666666666666666,\"#ed7953\"],[0.7777777777777778,\"#fb9f3a\"],[0.8888888888888888,\"#fdca26\"],[1.0,\"#f0f921\"]]},\"colorway\":[\"#636efa\",\"#EF553B\",\"#00cc96\",\"#ab63fa\",\"#FFA15A\",\"#19d3f3\",\"#FF6692\",\"#B6E880\",\"#FF97FF\",\"#FECB52\"],\"font\":{\"color\":\"#2a3f5f\"},\"geo\":{\"bgcolor\":\"white\",\"lakecolor\":\"white\",\"landcolor\":\"#E5ECF6\",\"showlakes\":true,\"showland\":true,\"subunitcolor\":\"white\"},\"hoverlabel\":{\"align\":\"left\"},\"hovermode\":\"closest\",\"mapbox\":{\"style\":\"light\"},\"paper_bgcolor\":\"white\",\"plot_bgcolor\":\"#E5ECF6\",\"polar\":{\"angularaxis\":{\"gridcolor\":\"white\",\"linecolor\":\"white\",\"ticks\":\"\"},\"bgcolor\":\"#E5ECF6\",\"radialaxis\":{\"gridcolor\":\"white\",\"linecolor\":\"white\",\"ticks\":\"\"}},\"scene\":{\"xaxis\":{\"backgroundcolor\":\"#E5ECF6\",\"gridcolor\":\"white\",\"gridwidth\":2,\"linecolor\":\"white\",\"showbackground\":true,\"ticks\":\"\",\"zerolinecolor\":\"white\"},\"yaxis\":{\"backgroundcolor\":\"#E5ECF6\",\"gridcolor\":\"white\",\"gridwidth\":2,\"linecolor\":\"white\",\"showbackground\":true,\"ticks\":\"\",\"zerolinecolor\":\"white\"},\"zaxis\":{\"backgroundcolor\":\"#E5ECF6\",\"gridcolor\":\"white\",\"gridwidth\":2,\"linecolor\":\"white\",\"showbackground\":true,\"ticks\":\"\",\"zerolinecolor\":\"white\"}},\"shapedefaults\":{\"line\":{\"color\":\"#2a3f5f\"}},\"ternary\":{\"aaxis\":{\"gridcolor\":\"white\",\"linecolor\":\"white\",\"ticks\":\"\"},\"baxis\":{\"gridcolor\":\"white\",\"linecolor\":\"white\",\"ticks\":\"\"},\"bgcolor\":\"#E5ECF6\",\"caxis\":{\"gridcolor\":\"white\",\"linecolor\":\"white\",\"ticks\":\"\"}},\"title\":{\"x\":0.05},\"xaxis\":{\"automargin\":true,\"gridcolor\":\"white\",\"linecolor\":\"white\",\"ticks\":\"\",\"title\":{\"standoff\":15},\"zerolinecolor\":\"white\",\"zerolinewidth\":2},\"yaxis\":{\"automargin\":true,\"gridcolor\":\"white\",\"linecolor\":\"white\",\"ticks\":\"\",\"title\":{\"standoff\":15},\"zerolinecolor\":\"white\",\"zerolinewidth\":2}}},\"title\":{\"text\":\"Emission by Top Five Most Populated Countries\"}},                        {\"responsive\": true}                    ).then(function(){\n",
       "                            \n",
       "var gd = document.getElementById('66509212-5d51-4771-937f-39a8484cd12b');\n",
       "var x = new MutationObserver(function (mutations, observer) {{\n",
       "        var display = window.getComputedStyle(gd).display;\n",
       "        if (!display || display === 'none') {{\n",
       "            console.log([gd, 'removed!']);\n",
       "            Plotly.purge(gd);\n",
       "            observer.disconnect();\n",
       "        }}\n",
       "}});\n",
       "\n",
       "// Listen for the removal of the full notebook cells\n",
       "var notebookContainer = gd.closest('#notebook-container');\n",
       "if (notebookContainer) {{\n",
       "    x.observe(notebookContainer, {childList: true});\n",
       "}}\n",
       "\n",
       "// Listen for the clearing of the current output cell\n",
       "var outputEl = gd.closest('.output');\n",
       "if (outputEl) {{\n",
       "    x.observe(outputEl, {childList: true});\n",
       "}}\n",
       "\n",
       "                        })                };                });            </script>        </div>"
      ]
     },
     "metadata": {},
     "output_type": "display_data"
    }
   ],
   "source": [
    "trace00 = go.Scatter(x=top5_country.Year, y=top5_country[\"China\"], name=\"China\")\n",
    "trace11 = go.Scatter(x=top5_country.Year, y=top5_country[\"India\"], name=\"India\")\n",
    "trace22 = go.Scatter(x=top5_country.Year, y=top5_country[\"USA\"], name=\"USA\")\n",
    "trace33 = go.Scatter(x=top5_country.Year, y=top5_country[\"Indonesia\"], name=\"Indonesia\")\n",
    "trace44 = go.Scatter(x=top5_country.Year, y=top5_country[\"Pakistan\"], name=\"Pakistan\")\n",
    "\n",
    "path = [trace00, trace11, trace22, trace33, trace44]\n",
    "layout = {\"title\": \"Emission by Top Five Most Populated Countries\"}\n",
    "\n",
    "fig = go.Figure(data=path, layout=layout)\n",
    "\n",
    "iplot(fig, show_link=False)"
   ]
  },
  {
   "cell_type": "code",
   "execution_count": 13,
   "metadata": {},
   "outputs": [
    {
     "data": {
      "text/html": [
       "<div>\n",
       "<style scoped>\n",
       "    .dataframe tbody tr th:only-of-type {\n",
       "        vertical-align: middle;\n",
       "    }\n",
       "\n",
       "    .dataframe tbody tr th {\n",
       "        vertical-align: top;\n",
       "    }\n",
       "\n",
       "    .dataframe thead th {\n",
       "        text-align: right;\n",
       "    }\n",
       "</style>\n",
       "<table border=\"1\" class=\"dataframe\">\n",
       "  <thead>\n",
       "    <tr style=\"text-align: right;\">\n",
       "      <th></th>\n",
       "      <th>Year</th>\n",
       "      <th>Africa</th>\n",
       "      <th>Asia</th>\n",
       "      <th>Central America</th>\n",
       "      <th>Europe</th>\n",
       "      <th>Middle East</th>\n",
       "      <th>North America</th>\n",
       "      <th>Oceania</th>\n",
       "      <th>South America</th>\n",
       "    </tr>\n",
       "  </thead>\n",
       "  <tbody>\n",
       "    <tr>\n",
       "      <th>0</th>\n",
       "      <td>1959</td>\n",
       "      <td>40.368679</td>\n",
       "      <td>356.227009</td>\n",
       "      <td>11.035273</td>\n",
       "      <td>1013.054177</td>\n",
       "      <td>19.314339</td>\n",
       "      <td>839.235511</td>\n",
       "      <td>25.898496</td>\n",
       "      <td>53.765340</td>\n",
       "    </tr>\n",
       "    <tr>\n",
       "      <th>1</th>\n",
       "      <td>1960</td>\n",
       "      <td>42.751215</td>\n",
       "      <td>395.913772</td>\n",
       "      <td>9.886475</td>\n",
       "      <td>1081.501751</td>\n",
       "      <td>24.638551</td>\n",
       "      <td>860.628784</td>\n",
       "      <td>27.509237</td>\n",
       "      <td>54.356586</td>\n",
       "    </tr>\n",
       "    <tr>\n",
       "      <th>2</th>\n",
       "      <td>1961</td>\n",
       "      <td>44.235426</td>\n",
       "      <td>355.177453</td>\n",
       "      <td>10.462966</td>\n",
       "      <td>1121.014044</td>\n",
       "      <td>25.787066</td>\n",
       "      <td>858.748376</td>\n",
       "      <td>28.241123</td>\n",
       "      <td>55.073799</td>\n",
       "    </tr>\n",
       "    <tr>\n",
       "      <th>3</th>\n",
       "      <td>1962</td>\n",
       "      <td>45.422074</td>\n",
       "      <td>337.271308</td>\n",
       "      <td>12.257956</td>\n",
       "      <td>1182.944420</td>\n",
       "      <td>29.829499</td>\n",
       "      <td>891.084416</td>\n",
       "      <td>29.206067</td>\n",
       "      <td>58.861940</td>\n",
       "    </tr>\n",
       "    <tr>\n",
       "      <th>4</th>\n",
       "      <td>1963</td>\n",
       "      <td>48.157325</td>\n",
       "      <td>355.406750</td>\n",
       "      <td>10.644867</td>\n",
       "      <td>1257.417562</td>\n",
       "      <td>33.731761</td>\n",
       "      <td>929.054815</td>\n",
       "      <td>31.176766</td>\n",
       "      <td>59.888851</td>\n",
       "    </tr>\n",
       "  </tbody>\n",
       "</table>\n",
       "</div>"
      ],
      "text/plain": [
       "   Year     Africa        Asia  Central America       Europe  Middle East  \\\n",
       "0  1959  40.368679  356.227009        11.035273  1013.054177    19.314339   \n",
       "1  1960  42.751215  395.913772         9.886475  1081.501751    24.638551   \n",
       "2  1961  44.235426  355.177453        10.462966  1121.014044    25.787066   \n",
       "3  1962  45.422074  337.271308        12.257956  1182.944420    29.829499   \n",
       "4  1963  48.157325  355.406750        10.644867  1257.417562    33.731761   \n",
       "\n",
       "   North America    Oceania  South America  \n",
       "0     839.235511  25.898496      53.765340  \n",
       "1     860.628784  27.509237      54.356586  \n",
       "2     858.748376  28.241123      55.073799  \n",
       "3     891.084416  29.206067      58.861940  \n",
       "4     929.054815  31.176766      59.888851  "
      ]
     },
     "execution_count": 13,
     "metadata": {},
     "output_type": "execute_result"
    }
   ],
   "source": [
    "region = df2[[\"Year\", \"Africa\", \"Asia\", \"Central America\", \"Europe\", \"Middle East\", \"North America\", \"Oceania\", \"South America\"]]\n",
    "region.head()"
   ]
  },
  {
   "cell_type": "code",
   "execution_count": 14,
   "metadata": {},
   "outputs": [
    {
     "data": {
      "text/html": [
       "<div>\n",
       "<style scoped>\n",
       "    .dataframe tbody tr th:only-of-type {\n",
       "        vertical-align: middle;\n",
       "    }\n",
       "\n",
       "    .dataframe tbody tr th {\n",
       "        vertical-align: top;\n",
       "    }\n",
       "\n",
       "    .dataframe thead th {\n",
       "        text-align: right;\n",
       "    }\n",
       "</style>\n",
       "<table border=\"1\" class=\"dataframe\">\n",
       "  <thead>\n",
       "    <tr style=\"text-align: right;\">\n",
       "      <th></th>\n",
       "      <th>Year</th>\n",
       "      <th>Africa</th>\n",
       "      <th>Asia</th>\n",
       "      <th>Central America</th>\n",
       "      <th>Europe</th>\n",
       "      <th>Middle East</th>\n",
       "      <th>North America</th>\n",
       "      <th>Oceania</th>\n",
       "      <th>South America</th>\n",
       "    </tr>\n",
       "  </thead>\n",
       "  <tbody>\n",
       "    <tr>\n",
       "      <th>count</th>\n",
       "      <td>62.000000</td>\n",
       "      <td>62.000000</td>\n",
       "      <td>62.000000</td>\n",
       "      <td>62.000000</td>\n",
       "      <td>62.000000</td>\n",
       "      <td>62.000000</td>\n",
       "      <td>62.000000</td>\n",
       "      <td>62.000000</td>\n",
       "      <td>62.000000</td>\n",
       "    </tr>\n",
       "    <tr>\n",
       "      <th>mean</th>\n",
       "      <td>1989.500000</td>\n",
       "      <td>197.599101</td>\n",
       "      <td>1975.257048</td>\n",
       "      <td>30.360397</td>\n",
       "      <td>1721.594878</td>\n",
       "      <td>293.800421</td>\n",
       "      <td>1538.672259</td>\n",
       "      <td>81.852245</td>\n",
       "      <td>177.663993</td>\n",
       "    </tr>\n",
       "    <tr>\n",
       "      <th>std</th>\n",
       "      <td>18.041619</td>\n",
       "      <td>106.827037</td>\n",
       "      <td>1457.335531</td>\n",
       "      <td>12.572021</td>\n",
       "      <td>287.640439</td>\n",
       "      <td>219.910008</td>\n",
       "      <td>312.381545</td>\n",
       "      <td>33.185892</td>\n",
       "      <td>85.887342</td>\n",
       "    </tr>\n",
       "    <tr>\n",
       "      <th>min</th>\n",
       "      <td>1959.000000</td>\n",
       "      <td>40.368679</td>\n",
       "      <td>337.271308</td>\n",
       "      <td>9.886475</td>\n",
       "      <td>1013.054177</td>\n",
       "      <td>19.314339</td>\n",
       "      <td>839.235511</td>\n",
       "      <td>25.898496</td>\n",
       "      <td>53.765340</td>\n",
       "    </tr>\n",
       "    <tr>\n",
       "      <th>25%</th>\n",
       "      <td>1974.250000</td>\n",
       "      <td>105.921707</td>\n",
       "      <td>823.369442</td>\n",
       "      <td>23.842923</td>\n",
       "      <td>1528.551339</td>\n",
       "      <td>119.206343</td>\n",
       "      <td>1399.632527</td>\n",
       "      <td>53.416264</td>\n",
       "      <td>112.792890</td>\n",
       "    </tr>\n",
       "    <tr>\n",
       "      <th>50%</th>\n",
       "      <td>1989.500000</td>\n",
       "      <td>188.521661</td>\n",
       "      <td>1553.125532</td>\n",
       "      <td>27.407565</td>\n",
       "      <td>1732.837196</td>\n",
       "      <td>227.475326</td>\n",
       "      <td>1589.914643</td>\n",
       "      <td>83.955092</td>\n",
       "      <td>160.503180</td>\n",
       "    </tr>\n",
       "    <tr>\n",
       "      <th>75%</th>\n",
       "      <td>2004.750000</td>\n",
       "      <td>287.163372</td>\n",
       "      <td>2905.204560</td>\n",
       "      <td>42.084525</td>\n",
       "      <td>1970.282071</td>\n",
       "      <td>456.288852</td>\n",
       "      <td>1782.035966</td>\n",
       "      <td>117.493601</td>\n",
       "      <td>243.843400</td>\n",
       "    </tr>\n",
       "    <tr>\n",
       "      <th>max</th>\n",
       "      <td>2020.000000</td>\n",
       "      <td>384.407261</td>\n",
       "      <td>4917.151247</td>\n",
       "      <td>50.875521</td>\n",
       "      <td>2187.589062</td>\n",
       "      <td>711.948121</td>\n",
       "      <td>1966.750940</td>\n",
       "      <td>126.793561</td>\n",
       "      <td>335.838173</td>\n",
       "    </tr>\n",
       "  </tbody>\n",
       "</table>\n",
       "</div>"
      ],
      "text/plain": [
       "              Year      Africa         Asia  Central America       Europe  \\\n",
       "count    62.000000   62.000000    62.000000        62.000000    62.000000   \n",
       "mean   1989.500000  197.599101  1975.257048        30.360397  1721.594878   \n",
       "std      18.041619  106.827037  1457.335531        12.572021   287.640439   \n",
       "min    1959.000000   40.368679   337.271308         9.886475  1013.054177   \n",
       "25%    1974.250000  105.921707   823.369442        23.842923  1528.551339   \n",
       "50%    1989.500000  188.521661  1553.125532        27.407565  1732.837196   \n",
       "75%    2004.750000  287.163372  2905.204560        42.084525  1970.282071   \n",
       "max    2020.000000  384.407261  4917.151247        50.875521  2187.589062   \n",
       "\n",
       "       Middle East  North America     Oceania  South America  \n",
       "count    62.000000      62.000000   62.000000      62.000000  \n",
       "mean    293.800421    1538.672259   81.852245     177.663993  \n",
       "std     219.910008     312.381545   33.185892      85.887342  \n",
       "min      19.314339     839.235511   25.898496      53.765340  \n",
       "25%     119.206343    1399.632527   53.416264     112.792890  \n",
       "50%     227.475326    1589.914643   83.955092     160.503180  \n",
       "75%     456.288852    1782.035966  117.493601     243.843400  \n",
       "max     711.948121    1966.750940  126.793561     335.838173  "
      ]
     },
     "execution_count": 14,
     "metadata": {},
     "output_type": "execute_result"
    }
   ],
   "source": [
    "region.describe()"
   ]
  },
  {
   "cell_type": "code",
   "execution_count": 15,
   "metadata": {},
   "outputs": [
    {
     "data": {
      "application/vnd.plotly.v1+json": {
       "config": {
        "linkText": "Export to plot.ly",
        "plotlyServerURL": "https://plot.ly",
        "showLink": false
       },
       "data": [
        {
         "name": "Africa",
         "type": "scatter",
         "x": [
          1959,
          1960,
          1961,
          1962,
          1963,
          1964,
          1965,
          1966,
          1967,
          1968,
          1969,
          1970,
          1971,
          1972,
          1973,
          1974,
          1975,
          1976,
          1977,
          1978,
          1979,
          1980,
          1981,
          1982,
          1983,
          1984,
          1985,
          1986,
          1987,
          1988,
          1989,
          1990,
          1991,
          1992,
          1993,
          1994,
          1995,
          1996,
          1997,
          1998,
          1999,
          2000,
          2001,
          2002,
          2003,
          2004,
          2005,
          2006,
          2007,
          2008,
          2009,
          2010,
          2011,
          2012,
          2013,
          2014,
          2015,
          2016,
          2017,
          2018,
          2019,
          2020
         ],
         "y": [
          40.3686788480526,
          42.7512149003148,
          44.2354256043765,
          45.4220737743381,
          48.1573248051638,
          52.8831580207693,
          58.347322806644,
          60.387994867955,
          64.7537288533743,
          70.3047400116632,
          75.911430685681,
          82.680863441618,
          90.6674485049114,
          96.1359584758332,
          103.28236940392,
          106.133387791339,
          105.851146562044,
          114.865800241965,
          118.410776549665,
          126.441468201386,
          136.465248266899,
          146.427335546419,
          149.9405137764,
          156.277129624909,
          162.510213640226,
          177.478611765653,
          181.954214909423,
          188.508765071261,
          188.534557639195,
          198.155224470748,
          190.833405291203,
          179.93646701732,
          188.050822508538,
          182.497203903511,
          193.462698556006,
          196.400550474544,
          210.694086101128,
          213.767269078958,
          221.859305541851,
          228.714807601985,
          226.633809255586,
          241.962577003975,
          241.309293334188,
          243.603626722666,
          263.976166249511,
          282.935191728256,
          288.572765163204,
          297.539282121502,
          309.028990401105,
          322.429068816768,
          325.061205057242,
          332.426937026694,
          343.531089378425,
          342.01234203607,
          343.969812678255,
          372.131210620221,
          361.005481948035,
          370.279703941888,
          377.827816729255,
          378.175191413275,
          384.407260892662,
          361.864684389432
         ]
        },
        {
         "name": "Asia",
         "type": "scatter",
         "x": [
          1959,
          1960,
          1961,
          1962,
          1963,
          1964,
          1965,
          1966,
          1967,
          1968,
          1969,
          1970,
          1971,
          1972,
          1973,
          1974,
          1975,
          1976,
          1977,
          1978,
          1979,
          1980,
          1981,
          1982,
          1983,
          1984,
          1985,
          1986,
          1987,
          1988,
          1989,
          1990,
          1991,
          1992,
          1993,
          1994,
          1995,
          1996,
          1997,
          1998,
          1999,
          2000,
          2001,
          2002,
          2003,
          2004,
          2005,
          2006,
          2007,
          2008,
          2009,
          2010,
          2011,
          2012,
          2013,
          2014,
          2015,
          2016,
          2017,
          2018,
          2019,
          2020
         ],
         "y": [
          356.227009002269,
          395.913772292058,
          355.177453430168,
          337.271308411925,
          355.406749893957,
          372.667726270356,
          403.97053066514,
          437.056169432488,
          442.972816623462,
          486.628723412184,
          552.625659654141,
          659.521271724153,
          715.992753657666,
          756.928600420582,
          799.216040591971,
          811.438511636833,
          859.162234543064,
          900.538708223565,
          960.200341977464,
          1009.16280254346,
          1047.57059975988,
          1050.29322523941,
          1043.78402987866,
          1081.40733774052,
          1122.88197132376,
          1190.13636000013,
          1256.55819445924,
          1306.67372895219,
          1367.04056623783,
          1482.1875766327,
          1529.06257506309,
          1577.18848984287,
          1642.35336380568,
          1704.90591158963,
          1772.01668544884,
          1850.9797726365,
          1950.1428788263,
          2035.47338143417,
          2071.66630268359,
          1986.62910396358,
          2031.34355275344,
          2109.81991549989,
          2150.37281730272,
          2287.60770512718,
          2518.39294366437,
          2746.30712031638,
          2958.17037275045,
          3155.68614264555,
          3353.00820417532,
          3514.87683951278,
          3654.53610473159,
          3933.17064091461,
          4249.70873769854,
          4399.65394290896,
          4483.33096889348,
          4535.88937650807,
          4541.79886628057,
          4558.36681182243,
          4653.73970538843,
          4829.39276012307,
          4917.15124715643,
          4846.5809460364
         ]
        },
        {
         "name": "Central America",
         "type": "scatter",
         "x": [
          1959,
          1960,
          1961,
          1962,
          1963,
          1964,
          1965,
          1966,
          1967,
          1968,
          1969,
          1970,
          1971,
          1972,
          1973,
          1974,
          1975,
          1976,
          1977,
          1978,
          1979,
          1980,
          1981,
          1982,
          1983,
          1984,
          1985,
          1986,
          1987,
          1988,
          1989,
          1990,
          1991,
          1992,
          1993,
          1994,
          1995,
          1996,
          1997,
          1998,
          1999,
          2000,
          2001,
          2002,
          2003,
          2004,
          2005,
          2006,
          2007,
          2008,
          2009,
          2010,
          2011,
          2012,
          2013,
          2014,
          2015,
          2016,
          2017,
          2018,
          2019,
          2020
         ],
         "y": [
          11.035272519685,
          9.88647488145551,
          10.4629655390143,
          12.2579562204724,
          10.644867007874,
          12.4425915374902,
          12.3494382870097,
          12.3332750060641,
          13.6663317322835,
          14.0703419590551,
          15.6599945257072,
          18.5326686539853,
          19.7454142138616,
          20.8432116460894,
          23.7798319572039,
          23.5777228315438,
          24.4575668187292,
          28.6799604971694,
          27.7991476929341,
          26.9922807344376,
          27.9801544104837,
          27.7298797082887,
          26.0508226422516,
          26.6475243750879,
          24.0321943835785,
          26.5939278867944,
          28.1575721303527,
          24.1349543484241,
          25.5828930108199,
          25.6221313124545,
          27.0852505040396,
          26.009532195495,
          25.7230361661031,
          25.3179133914295,
          25.6198030532841,
          27.0431223229226,
          28.9288047825812,
          30.6456281895005,
          32.2114734067483,
          31.9059095590989,
          33.3592008761304,
          36.5319934632642,
          38.0315871663362,
          39.326233368469,
          41.2716772165302,
          40.5183329571274,
          42.3554741448696,
          44.9970433523342,
          46.3766736087893,
          46.698830361981,
          46.2290184084719,
          48.2151551444998,
          48.2039028657332,
          47.8680908313568,
          48.0955718801993,
          48.81754463826,
          50.5782797596648,
          49.2342772536596,
          47.8777465638311,
          48.5167484525497,
          50.8755208275072,
          46.1258562124161
         ]
        },
        {
         "name": "Europe",
         "type": "scatter",
         "x": [
          1959,
          1960,
          1961,
          1962,
          1963,
          1964,
          1965,
          1966,
          1967,
          1968,
          1969,
          1970,
          1971,
          1972,
          1973,
          1974,
          1975,
          1976,
          1977,
          1978,
          1979,
          1980,
          1981,
          1982,
          1983,
          1984,
          1985,
          1986,
          1987,
          1988,
          1989,
          1990,
          1991,
          1992,
          1993,
          1994,
          1995,
          1996,
          1997,
          1998,
          1999,
          2000,
          2001,
          2002,
          2003,
          2004,
          2005,
          2006,
          2007,
          2008,
          2009,
          2010,
          2011,
          2012,
          2013,
          2014,
          2015,
          2016,
          2017,
          2018,
          2019,
          2020
         ],
         "y": [
          1013.05417749385,
          1081.50175127511,
          1121.01404437726,
          1182.94442003956,
          1257.41756206356,
          1320.09043296562,
          1358.88778978957,
          1405.65818505586,
          1436.69883387095,
          1503.67122449961,
          1585.53958561741,
          1662.42897982611,
          1723.23144946496,
          1785.61442066745,
          1865.36610575853,
          1870.22031609634,
          1880.8917742905,
          1983.07203944585,
          1998.3549327278,
          2061.69043071401,
          2110.6966665152,
          2111.71869730342,
          2034.83795164781,
          2018.55311286469,
          2020.3026206202,
          2034.24973661449,
          2122.67331456608,
          2126.16047559445,
          2132.89756046757,
          2142.11229845682,
          2133.35373517699,
          2187.58906235763,
          2105.38133598858,
          1931.91216667513,
          1853.62997479693,
          1755.86736315473,
          1750.80714060027,
          1764.20663716427,
          1707.92343958085,
          1700.84638253126,
          1677.75788873747,
          1678.150248529,
          1712.79041423815,
          1703.42765611,
          1743.32714934123,
          1751.86567729327,
          1749.46789115749,
          1776.51871593311,
          1762.30456324341,
          1742.44294162884,
          1602.32460782822,
          1664.3891403552,
          1643.95262677702,
          1629.90769905057,
          1587.14845548191,
          1525.52635603824,
          1526.78914735929,
          1525.66023194243,
          1533.8379139481,
          1526.41438709144,
          1481.97814712254,
          1349.83244088653
         ]
        },
        {
         "name": "Middle East",
         "type": "scatter",
         "x": [
          1959,
          1960,
          1961,
          1962,
          1963,
          1964,
          1965,
          1966,
          1967,
          1968,
          1969,
          1970,
          1971,
          1972,
          1973,
          1974,
          1975,
          1976,
          1977,
          1978,
          1979,
          1980,
          1981,
          1982,
          1983,
          1984,
          1985,
          1986,
          1987,
          1988,
          1989,
          1990,
          1991,
          1992,
          1993,
          1994,
          1995,
          1996,
          1997,
          1998,
          1999,
          2000,
          2001,
          2002,
          2003,
          2004,
          2005,
          2006,
          2007,
          2008,
          2009,
          2010,
          2011,
          2012,
          2013,
          2014,
          2015,
          2016,
          2017,
          2018,
          2019,
          2020
         ],
         "y": [
          19.3143386477572,
          24.638551109848,
          25.7870655491281,
          29.8294988008099,
          33.7317606914744,
          39.5112252085542,
          47.1602273284694,
          54.2988398790237,
          56.0968489379078,
          64.5968204271349,
          73.270413086963,
          77.8821231053971,
          91.275119439042,
          98.4818931635803,
          116.950759424331,
          121.103871675724,
          118.573833776329,
          138.651462223382,
          145.824553714354,
          146.361375475399,
          155.386852032203,
          151.299036660821,
          150.686030063798,
          153.961713500498,
          162.244149158417,
          169.882709957815,
          183.079648402906,
          194.778078287118,
          199.118861788763,
          212.112903832046,
          224.286895937718,
          230.663756088922,
          255.601602896574,
          278.389255920169,
          301.514250314331,
          312.881941457441,
          301.097451885811,
          305.152536240792,
          300.663977865238,
          312.595314451218,
          337.869830864805,
          372.089388989164,
          377.567902109016,
          382.429272287866,
          407.385144314845,
          443.098683996354,
          460.685575056423,
          492.628980918777,
          491.702225128056,
          528.790886816173,
          553.236475233008,
          579.841115492443,
          595.229391243462,
          638.902696707926,
          625.746838910167,
          656.475728778596,
          682.61955871749,
          688.574739641665,
          711.948121168172,
          700.182333119784,
          709.059967537056,
          700.823709777419
         ]
        },
        {
         "name": "North America",
         "type": "scatter",
         "x": [
          1959,
          1960,
          1961,
          1962,
          1963,
          1964,
          1965,
          1966,
          1967,
          1968,
          1969,
          1970,
          1971,
          1972,
          1973,
          1974,
          1975,
          1976,
          1977,
          1978,
          1979,
          1980,
          1981,
          1982,
          1983,
          1984,
          1985,
          1986,
          1987,
          1988,
          1989,
          1990,
          1991,
          1992,
          1993,
          1994,
          1995,
          1996,
          1997,
          1998,
          1999,
          2000,
          2001,
          2002,
          2003,
          2004,
          2005,
          2006,
          2007,
          2008,
          2009,
          2010,
          2011,
          2012,
          2013,
          2014,
          2015,
          2016,
          2017,
          2018,
          2019,
          2020
         ],
         "y": [
          839.235510926673,
          860.628784483727,
          858.748375851059,
          891.084416198134,
          929.054814540955,
          976.106550066588,
          1017.19879026016,
          1067.62352819669,
          1112.87459394247,
          1156.83698215846,
          1213.12238396017,
          1308.74224806454,
          1322.1768793993,
          1388.2918132202,
          1449.50296142798,
          1409.93228873097,
          1375.46134847358,
          1454.89402902174,
          1498.51267092847,
          1522.7706278958,
          1553.25423507193,
          1506.46560002515,
          1473.8737103829,
          1409.98139821454,
          1396.19927245248,
          1464.14027803743,
          1463.48511489245,
          1463.390151999,
          1518.26898592876,
          1586.35888115831,
          1615.46724814383,
          1607.32001748799,
          1593.47040512123,
          1627.85832053077,
          1656.66554798368,
          1689.18794463091,
          1704.32701730324,
          1764.195873106,
          1795.0473485832,
          1814.69579468991,
          1839.4008793019,
          1903.34319772352,
          1876.445067682,
          1889.75048376523,
          1919.39156241283,
          1947.13998158129,
          1958.2624048119,
          1937.87424427711,
          1966.75094004706,
          1906.97824376704,
          1774.39467401924,
          1828.36182930448,
          1799.94536121412,
          1748.06361325022,
          1784.58306356664,
          1794.51042393079,
          1754.20204464505,
          1716.97047523771,
          1702.39323684949,
          1749.69310363756,
          1712.42605346664,
          1530.34641077816
         ]
        },
        {
         "name": "Oceania",
         "type": "scatter",
         "x": [
          1959,
          1960,
          1961,
          1962,
          1963,
          1964,
          1965,
          1966,
          1967,
          1968,
          1969,
          1970,
          1971,
          1972,
          1973,
          1974,
          1975,
          1976,
          1977,
          1978,
          1979,
          1980,
          1981,
          1982,
          1983,
          1984,
          1985,
          1986,
          1987,
          1988,
          1989,
          1990,
          1991,
          1992,
          1993,
          1994,
          1995,
          1996,
          1997,
          1998,
          1999,
          2000,
          2001,
          2002,
          2003,
          2004,
          2005,
          2006,
          2007,
          2008,
          2009,
          2010,
          2011,
          2012,
          2013,
          2014,
          2015,
          2016,
          2017,
          2018,
          2019,
          2020
         ],
         "y": [
          25.8984963779528,
          27.5092368503937,
          28.2411231793741,
          29.2060665354331,
          31.1767664566929,
          33.7831015518567,
          37.2328335298148,
          37.2329305430356,
          39.5848332726378,
          41.1187691269024,
          43.3603070912459,
          45.0900472101101,
          46.7838538394708,
          48.1917003611475,
          52.682888921527,
          53.2965044492689,
          54.0499510033971,
          53.775541921111,
          57.7998491083538,
          60.8726105558239,
          61.3583068464216,
          66.0004965747833,
          68.3116016628841,
          69.6831652495249,
          67.0914553094386,
          70.5756038643098,
          72.652643554693,
          72.5965114414165,
          77.3134237593777,
          79.0757864343407,
          83.6711068500417,
          84.2390763493286,
          85.1286460353069,
          86.8746328622665,
          88.2082583042338,
          90.6885526721254,
          92.9269910809483,
          95.5843645270585,
          98.9640448656893,
          101.74185198944,
          104.421682980519,
          106.153307748694,
          109.103201336441,
          111.072050056555,
          113.345281322407,
          116.97341919343,
          117.666994824757,
          120.317480105028,
          121.402584142078,
          123.695006558646,
          120.665107188209,
          121.869140053356,
          121.911531994949,
          121.644156286117,
          118.916253770032,
          120.957680371656,
          122.174048729315,
          125.300260109863,
          125.450509498216,
          125.905089079336,
          126.793561237818,
          119.526917281605
         ]
        },
        {
         "name": "South America",
         "type": "scatter",
         "x": [
          1959,
          1960,
          1961,
          1962,
          1963,
          1964,
          1965,
          1966,
          1967,
          1968,
          1969,
          1970,
          1971,
          1972,
          1973,
          1974,
          1975,
          1976,
          1977,
          1978,
          1979,
          1980,
          1981,
          1982,
          1983,
          1984,
          1985,
          1986,
          1987,
          1988,
          1989,
          1990,
          1991,
          1992,
          1993,
          1994,
          1995,
          1996,
          1997,
          1998,
          1999,
          2000,
          2001,
          2002,
          2003,
          2004,
          2005,
          2006,
          2007,
          2008,
          2009,
          2010,
          2011,
          2012,
          2013,
          2014,
          2015,
          2016,
          2017,
          2018,
          2019,
          2020
         ],
         "y": [
          53.7653401464982,
          54.3565859675153,
          55.0737985889097,
          58.8619396891093,
          59.8888506060953,
          62.8322209470948,
          65.5512299485161,
          68.8041524305253,
          73.0016729898182,
          78.5463215561141,
          85.0015999033178,
          92.2731923908395,
          94.6463259504429,
          99.0141817643952,
          107.230095302542,
          113.72778134192,
          112.481258956118,
          114.51097886202,
          118.733878606078,
          125.934956944008,
          134.94118680674,
          138.773798705481,
          133.55191275248,
          133.911332900872,
          132.597572557079,
          134.259422928699,
          137.023530394253,
          144.697074608428,
          152.164313908667,
          158.448069477601,
          158.347100842366,
          162.558290791086,
          164.575317868849,
          167.863295429829,
          177.511112077362,
          182.221132613108,
          190.817707719851,
          198.027895855682,
          209.83880986492,
          224.161787139587,
          229.132791671609,
          224.178368309444,
          227.141484285499,
          231.208490402764,
          234.233740892954,
          236.833813289731,
          246.179929416938,
          249.107419171609,
          256.754548767431,
          274.978261612886,
          270.729272001165,
          295.419002993751,
          301.300080266966,
          316.511916194364,
          332.625606171898,
          335.838172986962,
          328.865021260591,
          317.930620111772,
          315.702508657687,
          297.884848629091,
          290.805035454524,
          271.279584356598
         ]
        }
       ],
       "layout": {
        "template": {
         "data": {
          "bar": [
           {
            "error_x": {
             "color": "#2a3f5f"
            },
            "error_y": {
             "color": "#2a3f5f"
            },
            "marker": {
             "line": {
              "color": "#E5ECF6",
              "width": 0.5
             },
             "pattern": {
              "fillmode": "overlay",
              "size": 10,
              "solidity": 0.2
             }
            },
            "type": "bar"
           }
          ],
          "barpolar": [
           {
            "marker": {
             "line": {
              "color": "#E5ECF6",
              "width": 0.5
             },
             "pattern": {
              "fillmode": "overlay",
              "size": 10,
              "solidity": 0.2
             }
            },
            "type": "barpolar"
           }
          ],
          "carpet": [
           {
            "aaxis": {
             "endlinecolor": "#2a3f5f",
             "gridcolor": "white",
             "linecolor": "white",
             "minorgridcolor": "white",
             "startlinecolor": "#2a3f5f"
            },
            "baxis": {
             "endlinecolor": "#2a3f5f",
             "gridcolor": "white",
             "linecolor": "white",
             "minorgridcolor": "white",
             "startlinecolor": "#2a3f5f"
            },
            "type": "carpet"
           }
          ],
          "choropleth": [
           {
            "colorbar": {
             "outlinewidth": 0,
             "ticks": ""
            },
            "type": "choropleth"
           }
          ],
          "contour": [
           {
            "colorbar": {
             "outlinewidth": 0,
             "ticks": ""
            },
            "colorscale": [
             [
              0,
              "#0d0887"
             ],
             [
              0.1111111111111111,
              "#46039f"
             ],
             [
              0.2222222222222222,
              "#7201a8"
             ],
             [
              0.3333333333333333,
              "#9c179e"
             ],
             [
              0.4444444444444444,
              "#bd3786"
             ],
             [
              0.5555555555555556,
              "#d8576b"
             ],
             [
              0.6666666666666666,
              "#ed7953"
             ],
             [
              0.7777777777777778,
              "#fb9f3a"
             ],
             [
              0.8888888888888888,
              "#fdca26"
             ],
             [
              1,
              "#f0f921"
             ]
            ],
            "type": "contour"
           }
          ],
          "contourcarpet": [
           {
            "colorbar": {
             "outlinewidth": 0,
             "ticks": ""
            },
            "type": "contourcarpet"
           }
          ],
          "heatmap": [
           {
            "colorbar": {
             "outlinewidth": 0,
             "ticks": ""
            },
            "colorscale": [
             [
              0,
              "#0d0887"
             ],
             [
              0.1111111111111111,
              "#46039f"
             ],
             [
              0.2222222222222222,
              "#7201a8"
             ],
             [
              0.3333333333333333,
              "#9c179e"
             ],
             [
              0.4444444444444444,
              "#bd3786"
             ],
             [
              0.5555555555555556,
              "#d8576b"
             ],
             [
              0.6666666666666666,
              "#ed7953"
             ],
             [
              0.7777777777777778,
              "#fb9f3a"
             ],
             [
              0.8888888888888888,
              "#fdca26"
             ],
             [
              1,
              "#f0f921"
             ]
            ],
            "type": "heatmap"
           }
          ],
          "heatmapgl": [
           {
            "colorbar": {
             "outlinewidth": 0,
             "ticks": ""
            },
            "colorscale": [
             [
              0,
              "#0d0887"
             ],
             [
              0.1111111111111111,
              "#46039f"
             ],
             [
              0.2222222222222222,
              "#7201a8"
             ],
             [
              0.3333333333333333,
              "#9c179e"
             ],
             [
              0.4444444444444444,
              "#bd3786"
             ],
             [
              0.5555555555555556,
              "#d8576b"
             ],
             [
              0.6666666666666666,
              "#ed7953"
             ],
             [
              0.7777777777777778,
              "#fb9f3a"
             ],
             [
              0.8888888888888888,
              "#fdca26"
             ],
             [
              1,
              "#f0f921"
             ]
            ],
            "type": "heatmapgl"
           }
          ],
          "histogram": [
           {
            "marker": {
             "pattern": {
              "fillmode": "overlay",
              "size": 10,
              "solidity": 0.2
             }
            },
            "type": "histogram"
           }
          ],
          "histogram2d": [
           {
            "colorbar": {
             "outlinewidth": 0,
             "ticks": ""
            },
            "colorscale": [
             [
              0,
              "#0d0887"
             ],
             [
              0.1111111111111111,
              "#46039f"
             ],
             [
              0.2222222222222222,
              "#7201a8"
             ],
             [
              0.3333333333333333,
              "#9c179e"
             ],
             [
              0.4444444444444444,
              "#bd3786"
             ],
             [
              0.5555555555555556,
              "#d8576b"
             ],
             [
              0.6666666666666666,
              "#ed7953"
             ],
             [
              0.7777777777777778,
              "#fb9f3a"
             ],
             [
              0.8888888888888888,
              "#fdca26"
             ],
             [
              1,
              "#f0f921"
             ]
            ],
            "type": "histogram2d"
           }
          ],
          "histogram2dcontour": [
           {
            "colorbar": {
             "outlinewidth": 0,
             "ticks": ""
            },
            "colorscale": [
             [
              0,
              "#0d0887"
             ],
             [
              0.1111111111111111,
              "#46039f"
             ],
             [
              0.2222222222222222,
              "#7201a8"
             ],
             [
              0.3333333333333333,
              "#9c179e"
             ],
             [
              0.4444444444444444,
              "#bd3786"
             ],
             [
              0.5555555555555556,
              "#d8576b"
             ],
             [
              0.6666666666666666,
              "#ed7953"
             ],
             [
              0.7777777777777778,
              "#fb9f3a"
             ],
             [
              0.8888888888888888,
              "#fdca26"
             ],
             [
              1,
              "#f0f921"
             ]
            ],
            "type": "histogram2dcontour"
           }
          ],
          "mesh3d": [
           {
            "colorbar": {
             "outlinewidth": 0,
             "ticks": ""
            },
            "type": "mesh3d"
           }
          ],
          "parcoords": [
           {
            "line": {
             "colorbar": {
              "outlinewidth": 0,
              "ticks": ""
             }
            },
            "type": "parcoords"
           }
          ],
          "pie": [
           {
            "automargin": true,
            "type": "pie"
           }
          ],
          "scatter": [
           {
            "fillpattern": {
             "fillmode": "overlay",
             "size": 10,
             "solidity": 0.2
            },
            "type": "scatter"
           }
          ],
          "scatter3d": [
           {
            "line": {
             "colorbar": {
              "outlinewidth": 0,
              "ticks": ""
             }
            },
            "marker": {
             "colorbar": {
              "outlinewidth": 0,
              "ticks": ""
             }
            },
            "type": "scatter3d"
           }
          ],
          "scattercarpet": [
           {
            "marker": {
             "colorbar": {
              "outlinewidth": 0,
              "ticks": ""
             }
            },
            "type": "scattercarpet"
           }
          ],
          "scattergeo": [
           {
            "marker": {
             "colorbar": {
              "outlinewidth": 0,
              "ticks": ""
             }
            },
            "type": "scattergeo"
           }
          ],
          "scattergl": [
           {
            "marker": {
             "colorbar": {
              "outlinewidth": 0,
              "ticks": ""
             }
            },
            "type": "scattergl"
           }
          ],
          "scattermapbox": [
           {
            "marker": {
             "colorbar": {
              "outlinewidth": 0,
              "ticks": ""
             }
            },
            "type": "scattermapbox"
           }
          ],
          "scatterpolar": [
           {
            "marker": {
             "colorbar": {
              "outlinewidth": 0,
              "ticks": ""
             }
            },
            "type": "scatterpolar"
           }
          ],
          "scatterpolargl": [
           {
            "marker": {
             "colorbar": {
              "outlinewidth": 0,
              "ticks": ""
             }
            },
            "type": "scatterpolargl"
           }
          ],
          "scatterternary": [
           {
            "marker": {
             "colorbar": {
              "outlinewidth": 0,
              "ticks": ""
             }
            },
            "type": "scatterternary"
           }
          ],
          "surface": [
           {
            "colorbar": {
             "outlinewidth": 0,
             "ticks": ""
            },
            "colorscale": [
             [
              0,
              "#0d0887"
             ],
             [
              0.1111111111111111,
              "#46039f"
             ],
             [
              0.2222222222222222,
              "#7201a8"
             ],
             [
              0.3333333333333333,
              "#9c179e"
             ],
             [
              0.4444444444444444,
              "#bd3786"
             ],
             [
              0.5555555555555556,
              "#d8576b"
             ],
             [
              0.6666666666666666,
              "#ed7953"
             ],
             [
              0.7777777777777778,
              "#fb9f3a"
             ],
             [
              0.8888888888888888,
              "#fdca26"
             ],
             [
              1,
              "#f0f921"
             ]
            ],
            "type": "surface"
           }
          ],
          "table": [
           {
            "cells": {
             "fill": {
              "color": "#EBF0F8"
             },
             "line": {
              "color": "white"
             }
            },
            "header": {
             "fill": {
              "color": "#C8D4E3"
             },
             "line": {
              "color": "white"
             }
            },
            "type": "table"
           }
          ]
         },
         "layout": {
          "annotationdefaults": {
           "arrowcolor": "#2a3f5f",
           "arrowhead": 0,
           "arrowwidth": 1
          },
          "autotypenumbers": "strict",
          "coloraxis": {
           "colorbar": {
            "outlinewidth": 0,
            "ticks": ""
           }
          },
          "colorscale": {
           "diverging": [
            [
             0,
             "#8e0152"
            ],
            [
             0.1,
             "#c51b7d"
            ],
            [
             0.2,
             "#de77ae"
            ],
            [
             0.3,
             "#f1b6da"
            ],
            [
             0.4,
             "#fde0ef"
            ],
            [
             0.5,
             "#f7f7f7"
            ],
            [
             0.6,
             "#e6f5d0"
            ],
            [
             0.7,
             "#b8e186"
            ],
            [
             0.8,
             "#7fbc41"
            ],
            [
             0.9,
             "#4d9221"
            ],
            [
             1,
             "#276419"
            ]
           ],
           "sequential": [
            [
             0,
             "#0d0887"
            ],
            [
             0.1111111111111111,
             "#46039f"
            ],
            [
             0.2222222222222222,
             "#7201a8"
            ],
            [
             0.3333333333333333,
             "#9c179e"
            ],
            [
             0.4444444444444444,
             "#bd3786"
            ],
            [
             0.5555555555555556,
             "#d8576b"
            ],
            [
             0.6666666666666666,
             "#ed7953"
            ],
            [
             0.7777777777777778,
             "#fb9f3a"
            ],
            [
             0.8888888888888888,
             "#fdca26"
            ],
            [
             1,
             "#f0f921"
            ]
           ],
           "sequentialminus": [
            [
             0,
             "#0d0887"
            ],
            [
             0.1111111111111111,
             "#46039f"
            ],
            [
             0.2222222222222222,
             "#7201a8"
            ],
            [
             0.3333333333333333,
             "#9c179e"
            ],
            [
             0.4444444444444444,
             "#bd3786"
            ],
            [
             0.5555555555555556,
             "#d8576b"
            ],
            [
             0.6666666666666666,
             "#ed7953"
            ],
            [
             0.7777777777777778,
             "#fb9f3a"
            ],
            [
             0.8888888888888888,
             "#fdca26"
            ],
            [
             1,
             "#f0f921"
            ]
           ]
          },
          "colorway": [
           "#636efa",
           "#EF553B",
           "#00cc96",
           "#ab63fa",
           "#FFA15A",
           "#19d3f3",
           "#FF6692",
           "#B6E880",
           "#FF97FF",
           "#FECB52"
          ],
          "font": {
           "color": "#2a3f5f"
          },
          "geo": {
           "bgcolor": "white",
           "lakecolor": "white",
           "landcolor": "#E5ECF6",
           "showlakes": true,
           "showland": true,
           "subunitcolor": "white"
          },
          "hoverlabel": {
           "align": "left"
          },
          "hovermode": "closest",
          "mapbox": {
           "style": "light"
          },
          "paper_bgcolor": "white",
          "plot_bgcolor": "#E5ECF6",
          "polar": {
           "angularaxis": {
            "gridcolor": "white",
            "linecolor": "white",
            "ticks": ""
           },
           "bgcolor": "#E5ECF6",
           "radialaxis": {
            "gridcolor": "white",
            "linecolor": "white",
            "ticks": ""
           }
          },
          "scene": {
           "xaxis": {
            "backgroundcolor": "#E5ECF6",
            "gridcolor": "white",
            "gridwidth": 2,
            "linecolor": "white",
            "showbackground": true,
            "ticks": "",
            "zerolinecolor": "white"
           },
           "yaxis": {
            "backgroundcolor": "#E5ECF6",
            "gridcolor": "white",
            "gridwidth": 2,
            "linecolor": "white",
            "showbackground": true,
            "ticks": "",
            "zerolinecolor": "white"
           },
           "zaxis": {
            "backgroundcolor": "#E5ECF6",
            "gridcolor": "white",
            "gridwidth": 2,
            "linecolor": "white",
            "showbackground": true,
            "ticks": "",
            "zerolinecolor": "white"
           }
          },
          "shapedefaults": {
           "line": {
            "color": "#2a3f5f"
           }
          },
          "ternary": {
           "aaxis": {
            "gridcolor": "white",
            "linecolor": "white",
            "ticks": ""
           },
           "baxis": {
            "gridcolor": "white",
            "linecolor": "white",
            "ticks": ""
           },
           "bgcolor": "#E5ECF6",
           "caxis": {
            "gridcolor": "white",
            "linecolor": "white",
            "ticks": ""
           }
          },
          "title": {
           "x": 0.05
          },
          "xaxis": {
           "automargin": true,
           "gridcolor": "white",
           "linecolor": "white",
           "ticks": "",
           "title": {
            "standoff": 15
           },
           "zerolinecolor": "white",
           "zerolinewidth": 2
          },
          "yaxis": {
           "automargin": true,
           "gridcolor": "white",
           "linecolor": "white",
           "ticks": "",
           "title": {
            "standoff": 15
           },
           "zerolinecolor": "white",
           "zerolinewidth": 2
          }
         }
        },
        "title": {
         "text": "Emission by Region"
        }
       }
      },
      "text/html": [
       "<div>                            <div id=\"0130b2dd-0e8e-4e9f-ad6e-a52c1656f324\" class=\"plotly-graph-div\" style=\"height:525px; width:100%;\"></div>            <script type=\"text/javascript\">                require([\"plotly\"], function(Plotly) {                    window.PLOTLYENV=window.PLOTLYENV || {};                                    if (document.getElementById(\"0130b2dd-0e8e-4e9f-ad6e-a52c1656f324\")) {                    Plotly.newPlot(                        \"0130b2dd-0e8e-4e9f-ad6e-a52c1656f324\",                        [{\"name\":\"Africa\",\"x\":[1959,1960,1961,1962,1963,1964,1965,1966,1967,1968,1969,1970,1971,1972,1973,1974,1975,1976,1977,1978,1979,1980,1981,1982,1983,1984,1985,1986,1987,1988,1989,1990,1991,1992,1993,1994,1995,1996,1997,1998,1999,2000,2001,2002,2003,2004,2005,2006,2007,2008,2009,2010,2011,2012,2013,2014,2015,2016,2017,2018,2019,2020],\"y\":[40.3686788480526,42.7512149003148,44.2354256043765,45.4220737743381,48.1573248051638,52.8831580207693,58.347322806644,60.387994867955,64.7537288533743,70.3047400116632,75.911430685681,82.680863441618,90.6674485049114,96.1359584758332,103.28236940392,106.133387791339,105.851146562044,114.865800241965,118.410776549665,126.441468201386,136.465248266899,146.427335546419,149.9405137764,156.277129624909,162.510213640226,177.478611765653,181.954214909423,188.508765071261,188.534557639195,198.155224470748,190.833405291203,179.93646701732,188.050822508538,182.497203903511,193.462698556006,196.400550474544,210.694086101128,213.767269078958,221.859305541851,228.714807601985,226.633809255586,241.962577003975,241.309293334188,243.603626722666,263.976166249511,282.935191728256,288.572765163204,297.539282121502,309.028990401105,322.429068816768,325.061205057242,332.426937026694,343.531089378425,342.01234203607,343.969812678255,372.131210620221,361.005481948035,370.279703941888,377.827816729255,378.175191413275,384.407260892662,361.864684389432],\"type\":\"scatter\"},{\"name\":\"Asia\",\"x\":[1959,1960,1961,1962,1963,1964,1965,1966,1967,1968,1969,1970,1971,1972,1973,1974,1975,1976,1977,1978,1979,1980,1981,1982,1983,1984,1985,1986,1987,1988,1989,1990,1991,1992,1993,1994,1995,1996,1997,1998,1999,2000,2001,2002,2003,2004,2005,2006,2007,2008,2009,2010,2011,2012,2013,2014,2015,2016,2017,2018,2019,2020],\"y\":[356.227009002269,395.913772292058,355.177453430168,337.271308411925,355.406749893957,372.667726270356,403.97053066514,437.056169432488,442.972816623462,486.628723412184,552.625659654141,659.521271724153,715.992753657666,756.928600420582,799.216040591971,811.438511636833,859.162234543064,900.538708223565,960.200341977464,1009.16280254346,1047.57059975988,1050.29322523941,1043.78402987866,1081.40733774052,1122.88197132376,1190.13636000013,1256.55819445924,1306.67372895219,1367.04056623783,1482.1875766327,1529.06257506309,1577.18848984287,1642.35336380568,1704.90591158963,1772.01668544884,1850.9797726365,1950.1428788263,2035.47338143417,2071.66630268359,1986.62910396358,2031.34355275344,2109.81991549989,2150.37281730272,2287.60770512718,2518.39294366437,2746.30712031638,2958.17037275045,3155.68614264555,3353.00820417532,3514.87683951278,3654.53610473159,3933.17064091461,4249.70873769854,4399.65394290896,4483.33096889348,4535.88937650807,4541.79886628057,4558.36681182243,4653.73970538843,4829.39276012307,4917.15124715643,4846.5809460364],\"type\":\"scatter\"},{\"name\":\"Central America\",\"x\":[1959,1960,1961,1962,1963,1964,1965,1966,1967,1968,1969,1970,1971,1972,1973,1974,1975,1976,1977,1978,1979,1980,1981,1982,1983,1984,1985,1986,1987,1988,1989,1990,1991,1992,1993,1994,1995,1996,1997,1998,1999,2000,2001,2002,2003,2004,2005,2006,2007,2008,2009,2010,2011,2012,2013,2014,2015,2016,2017,2018,2019,2020],\"y\":[11.035272519685,9.88647488145551,10.4629655390143,12.2579562204724,10.644867007874,12.4425915374902,12.3494382870097,12.3332750060641,13.6663317322835,14.0703419590551,15.6599945257072,18.5326686539853,19.7454142138616,20.8432116460894,23.7798319572039,23.5777228315438,24.4575668187292,28.6799604971694,27.7991476929341,26.9922807344376,27.9801544104837,27.7298797082887,26.0508226422516,26.6475243750879,24.0321943835785,26.5939278867944,28.1575721303527,24.1349543484241,25.5828930108199,25.6221313124545,27.0852505040396,26.009532195495,25.7230361661031,25.3179133914295,25.6198030532841,27.0431223229226,28.9288047825812,30.6456281895005,32.2114734067483,31.9059095590989,33.3592008761304,36.5319934632642,38.0315871663362,39.326233368469,41.2716772165302,40.5183329571274,42.3554741448696,44.9970433523342,46.3766736087893,46.698830361981,46.2290184084719,48.2151551444998,48.2039028657332,47.8680908313568,48.0955718801993,48.81754463826,50.5782797596648,49.2342772536596,47.8777465638311,48.5167484525497,50.8755208275072,46.1258562124161],\"type\":\"scatter\"},{\"name\":\"Europe\",\"x\":[1959,1960,1961,1962,1963,1964,1965,1966,1967,1968,1969,1970,1971,1972,1973,1974,1975,1976,1977,1978,1979,1980,1981,1982,1983,1984,1985,1986,1987,1988,1989,1990,1991,1992,1993,1994,1995,1996,1997,1998,1999,2000,2001,2002,2003,2004,2005,2006,2007,2008,2009,2010,2011,2012,2013,2014,2015,2016,2017,2018,2019,2020],\"y\":[1013.05417749385,1081.50175127511,1121.01404437726,1182.94442003956,1257.41756206356,1320.09043296562,1358.88778978957,1405.65818505586,1436.69883387095,1503.67122449961,1585.53958561741,1662.42897982611,1723.23144946496,1785.61442066745,1865.36610575853,1870.22031609634,1880.8917742905,1983.07203944585,1998.3549327278,2061.69043071401,2110.6966665152,2111.71869730342,2034.83795164781,2018.55311286469,2020.3026206202,2034.24973661449,2122.67331456608,2126.16047559445,2132.89756046757,2142.11229845682,2133.35373517699,2187.58906235763,2105.38133598858,1931.91216667513,1853.62997479693,1755.86736315473,1750.80714060027,1764.20663716427,1707.92343958085,1700.84638253126,1677.75788873747,1678.150248529,1712.79041423815,1703.42765611,1743.32714934123,1751.86567729327,1749.46789115749,1776.51871593311,1762.30456324341,1742.44294162884,1602.32460782822,1664.3891403552,1643.95262677702,1629.90769905057,1587.14845548191,1525.52635603824,1526.78914735929,1525.66023194243,1533.8379139481,1526.41438709144,1481.97814712254,1349.83244088653],\"type\":\"scatter\"},{\"name\":\"Middle East\",\"x\":[1959,1960,1961,1962,1963,1964,1965,1966,1967,1968,1969,1970,1971,1972,1973,1974,1975,1976,1977,1978,1979,1980,1981,1982,1983,1984,1985,1986,1987,1988,1989,1990,1991,1992,1993,1994,1995,1996,1997,1998,1999,2000,2001,2002,2003,2004,2005,2006,2007,2008,2009,2010,2011,2012,2013,2014,2015,2016,2017,2018,2019,2020],\"y\":[19.3143386477572,24.638551109848,25.7870655491281,29.8294988008099,33.7317606914744,39.5112252085542,47.1602273284694,54.2988398790237,56.0968489379078,64.5968204271349,73.270413086963,77.8821231053971,91.275119439042,98.4818931635803,116.950759424331,121.103871675724,118.573833776329,138.651462223382,145.824553714354,146.361375475399,155.386852032203,151.299036660821,150.686030063798,153.961713500498,162.244149158417,169.882709957815,183.079648402906,194.778078287118,199.118861788763,212.112903832046,224.286895937718,230.663756088922,255.601602896574,278.389255920169,301.514250314331,312.881941457441,301.097451885811,305.152536240792,300.663977865238,312.595314451218,337.869830864805,372.089388989164,377.567902109016,382.429272287866,407.385144314845,443.098683996354,460.685575056423,492.628980918777,491.702225128056,528.790886816173,553.236475233008,579.841115492443,595.229391243462,638.902696707926,625.746838910167,656.475728778596,682.61955871749,688.574739641665,711.948121168172,700.182333119784,709.059967537056,700.823709777419],\"type\":\"scatter\"},{\"name\":\"North America\",\"x\":[1959,1960,1961,1962,1963,1964,1965,1966,1967,1968,1969,1970,1971,1972,1973,1974,1975,1976,1977,1978,1979,1980,1981,1982,1983,1984,1985,1986,1987,1988,1989,1990,1991,1992,1993,1994,1995,1996,1997,1998,1999,2000,2001,2002,2003,2004,2005,2006,2007,2008,2009,2010,2011,2012,2013,2014,2015,2016,2017,2018,2019,2020],\"y\":[839.235510926673,860.628784483727,858.748375851059,891.084416198134,929.054814540955,976.106550066588,1017.19879026016,1067.62352819669,1112.87459394247,1156.83698215846,1213.12238396017,1308.74224806454,1322.1768793993,1388.2918132202,1449.50296142798,1409.93228873097,1375.46134847358,1454.89402902174,1498.51267092847,1522.7706278958,1553.25423507193,1506.46560002515,1473.8737103829,1409.98139821454,1396.19927245248,1464.14027803743,1463.48511489245,1463.390151999,1518.26898592876,1586.35888115831,1615.46724814383,1607.32001748799,1593.47040512123,1627.85832053077,1656.66554798368,1689.18794463091,1704.32701730324,1764.195873106,1795.0473485832,1814.69579468991,1839.4008793019,1903.34319772352,1876.445067682,1889.75048376523,1919.39156241283,1947.13998158129,1958.2624048119,1937.87424427711,1966.75094004706,1906.97824376704,1774.39467401924,1828.36182930448,1799.94536121412,1748.06361325022,1784.58306356664,1794.51042393079,1754.20204464505,1716.97047523771,1702.39323684949,1749.69310363756,1712.42605346664,1530.34641077816],\"type\":\"scatter\"},{\"name\":\"Oceania\",\"x\":[1959,1960,1961,1962,1963,1964,1965,1966,1967,1968,1969,1970,1971,1972,1973,1974,1975,1976,1977,1978,1979,1980,1981,1982,1983,1984,1985,1986,1987,1988,1989,1990,1991,1992,1993,1994,1995,1996,1997,1998,1999,2000,2001,2002,2003,2004,2005,2006,2007,2008,2009,2010,2011,2012,2013,2014,2015,2016,2017,2018,2019,2020],\"y\":[25.8984963779528,27.5092368503937,28.2411231793741,29.2060665354331,31.1767664566929,33.7831015518567,37.2328335298148,37.2329305430356,39.5848332726378,41.1187691269024,43.3603070912459,45.0900472101101,46.7838538394708,48.1917003611475,52.682888921527,53.2965044492689,54.0499510033971,53.775541921111,57.7998491083538,60.8726105558239,61.3583068464216,66.0004965747833,68.3116016628841,69.6831652495249,67.0914553094386,70.5756038643098,72.652643554693,72.5965114414165,77.3134237593777,79.0757864343407,83.6711068500417,84.2390763493286,85.1286460353069,86.8746328622665,88.2082583042338,90.6885526721254,92.9269910809483,95.5843645270585,98.9640448656893,101.74185198944,104.421682980519,106.153307748694,109.103201336441,111.072050056555,113.345281322407,116.97341919343,117.666994824757,120.317480105028,121.402584142078,123.695006558646,120.665107188209,121.869140053356,121.911531994949,121.644156286117,118.916253770032,120.957680371656,122.174048729315,125.300260109863,125.450509498216,125.905089079336,126.793561237818,119.526917281605],\"type\":\"scatter\"},{\"name\":\"South America\",\"x\":[1959,1960,1961,1962,1963,1964,1965,1966,1967,1968,1969,1970,1971,1972,1973,1974,1975,1976,1977,1978,1979,1980,1981,1982,1983,1984,1985,1986,1987,1988,1989,1990,1991,1992,1993,1994,1995,1996,1997,1998,1999,2000,2001,2002,2003,2004,2005,2006,2007,2008,2009,2010,2011,2012,2013,2014,2015,2016,2017,2018,2019,2020],\"y\":[53.7653401464982,54.3565859675153,55.0737985889097,58.8619396891093,59.8888506060953,62.8322209470948,65.5512299485161,68.8041524305253,73.0016729898182,78.5463215561141,85.0015999033178,92.2731923908395,94.6463259504429,99.0141817643952,107.230095302542,113.72778134192,112.481258956118,114.51097886202,118.733878606078,125.934956944008,134.94118680674,138.773798705481,133.55191275248,133.911332900872,132.597572557079,134.259422928699,137.023530394253,144.697074608428,152.164313908667,158.448069477601,158.347100842366,162.558290791086,164.575317868849,167.863295429829,177.511112077362,182.221132613108,190.817707719851,198.027895855682,209.83880986492,224.161787139587,229.132791671609,224.178368309444,227.141484285499,231.208490402764,234.233740892954,236.833813289731,246.179929416938,249.107419171609,256.754548767431,274.978261612886,270.729272001165,295.419002993751,301.300080266966,316.511916194364,332.625606171898,335.838172986962,328.865021260591,317.930620111772,315.702508657687,297.884848629091,290.805035454524,271.279584356598],\"type\":\"scatter\"}],                        {\"template\":{\"data\":{\"barpolar\":[{\"marker\":{\"line\":{\"color\":\"#E5ECF6\",\"width\":0.5},\"pattern\":{\"fillmode\":\"overlay\",\"size\":10,\"solidity\":0.2}},\"type\":\"barpolar\"}],\"bar\":[{\"error_x\":{\"color\":\"#2a3f5f\"},\"error_y\":{\"color\":\"#2a3f5f\"},\"marker\":{\"line\":{\"color\":\"#E5ECF6\",\"width\":0.5},\"pattern\":{\"fillmode\":\"overlay\",\"size\":10,\"solidity\":0.2}},\"type\":\"bar\"}],\"carpet\":[{\"aaxis\":{\"endlinecolor\":\"#2a3f5f\",\"gridcolor\":\"white\",\"linecolor\":\"white\",\"minorgridcolor\":\"white\",\"startlinecolor\":\"#2a3f5f\"},\"baxis\":{\"endlinecolor\":\"#2a3f5f\",\"gridcolor\":\"white\",\"linecolor\":\"white\",\"minorgridcolor\":\"white\",\"startlinecolor\":\"#2a3f5f\"},\"type\":\"carpet\"}],\"choropleth\":[{\"colorbar\":{\"outlinewidth\":0,\"ticks\":\"\"},\"type\":\"choropleth\"}],\"contourcarpet\":[{\"colorbar\":{\"outlinewidth\":0,\"ticks\":\"\"},\"type\":\"contourcarpet\"}],\"contour\":[{\"colorbar\":{\"outlinewidth\":0,\"ticks\":\"\"},\"colorscale\":[[0.0,\"#0d0887\"],[0.1111111111111111,\"#46039f\"],[0.2222222222222222,\"#7201a8\"],[0.3333333333333333,\"#9c179e\"],[0.4444444444444444,\"#bd3786\"],[0.5555555555555556,\"#d8576b\"],[0.6666666666666666,\"#ed7953\"],[0.7777777777777778,\"#fb9f3a\"],[0.8888888888888888,\"#fdca26\"],[1.0,\"#f0f921\"]],\"type\":\"contour\"}],\"heatmapgl\":[{\"colorbar\":{\"outlinewidth\":0,\"ticks\":\"\"},\"colorscale\":[[0.0,\"#0d0887\"],[0.1111111111111111,\"#46039f\"],[0.2222222222222222,\"#7201a8\"],[0.3333333333333333,\"#9c179e\"],[0.4444444444444444,\"#bd3786\"],[0.5555555555555556,\"#d8576b\"],[0.6666666666666666,\"#ed7953\"],[0.7777777777777778,\"#fb9f3a\"],[0.8888888888888888,\"#fdca26\"],[1.0,\"#f0f921\"]],\"type\":\"heatmapgl\"}],\"heatmap\":[{\"colorbar\":{\"outlinewidth\":0,\"ticks\":\"\"},\"colorscale\":[[0.0,\"#0d0887\"],[0.1111111111111111,\"#46039f\"],[0.2222222222222222,\"#7201a8\"],[0.3333333333333333,\"#9c179e\"],[0.4444444444444444,\"#bd3786\"],[0.5555555555555556,\"#d8576b\"],[0.6666666666666666,\"#ed7953\"],[0.7777777777777778,\"#fb9f3a\"],[0.8888888888888888,\"#fdca26\"],[1.0,\"#f0f921\"]],\"type\":\"heatmap\"}],\"histogram2dcontour\":[{\"colorbar\":{\"outlinewidth\":0,\"ticks\":\"\"},\"colorscale\":[[0.0,\"#0d0887\"],[0.1111111111111111,\"#46039f\"],[0.2222222222222222,\"#7201a8\"],[0.3333333333333333,\"#9c179e\"],[0.4444444444444444,\"#bd3786\"],[0.5555555555555556,\"#d8576b\"],[0.6666666666666666,\"#ed7953\"],[0.7777777777777778,\"#fb9f3a\"],[0.8888888888888888,\"#fdca26\"],[1.0,\"#f0f921\"]],\"type\":\"histogram2dcontour\"}],\"histogram2d\":[{\"colorbar\":{\"outlinewidth\":0,\"ticks\":\"\"},\"colorscale\":[[0.0,\"#0d0887\"],[0.1111111111111111,\"#46039f\"],[0.2222222222222222,\"#7201a8\"],[0.3333333333333333,\"#9c179e\"],[0.4444444444444444,\"#bd3786\"],[0.5555555555555556,\"#d8576b\"],[0.6666666666666666,\"#ed7953\"],[0.7777777777777778,\"#fb9f3a\"],[0.8888888888888888,\"#fdca26\"],[1.0,\"#f0f921\"]],\"type\":\"histogram2d\"}],\"histogram\":[{\"marker\":{\"pattern\":{\"fillmode\":\"overlay\",\"size\":10,\"solidity\":0.2}},\"type\":\"histogram\"}],\"mesh3d\":[{\"colorbar\":{\"outlinewidth\":0,\"ticks\":\"\"},\"type\":\"mesh3d\"}],\"parcoords\":[{\"line\":{\"colorbar\":{\"outlinewidth\":0,\"ticks\":\"\"}},\"type\":\"parcoords\"}],\"pie\":[{\"automargin\":true,\"type\":\"pie\"}],\"scatter3d\":[{\"line\":{\"colorbar\":{\"outlinewidth\":0,\"ticks\":\"\"}},\"marker\":{\"colorbar\":{\"outlinewidth\":0,\"ticks\":\"\"}},\"type\":\"scatter3d\"}],\"scattercarpet\":[{\"marker\":{\"colorbar\":{\"outlinewidth\":0,\"ticks\":\"\"}},\"type\":\"scattercarpet\"}],\"scattergeo\":[{\"marker\":{\"colorbar\":{\"outlinewidth\":0,\"ticks\":\"\"}},\"type\":\"scattergeo\"}],\"scattergl\":[{\"marker\":{\"colorbar\":{\"outlinewidth\":0,\"ticks\":\"\"}},\"type\":\"scattergl\"}],\"scattermapbox\":[{\"marker\":{\"colorbar\":{\"outlinewidth\":0,\"ticks\":\"\"}},\"type\":\"scattermapbox\"}],\"scatterpolargl\":[{\"marker\":{\"colorbar\":{\"outlinewidth\":0,\"ticks\":\"\"}},\"type\":\"scatterpolargl\"}],\"scatterpolar\":[{\"marker\":{\"colorbar\":{\"outlinewidth\":0,\"ticks\":\"\"}},\"type\":\"scatterpolar\"}],\"scatter\":[{\"fillpattern\":{\"fillmode\":\"overlay\",\"size\":10,\"solidity\":0.2},\"type\":\"scatter\"}],\"scatterternary\":[{\"marker\":{\"colorbar\":{\"outlinewidth\":0,\"ticks\":\"\"}},\"type\":\"scatterternary\"}],\"surface\":[{\"colorbar\":{\"outlinewidth\":0,\"ticks\":\"\"},\"colorscale\":[[0.0,\"#0d0887\"],[0.1111111111111111,\"#46039f\"],[0.2222222222222222,\"#7201a8\"],[0.3333333333333333,\"#9c179e\"],[0.4444444444444444,\"#bd3786\"],[0.5555555555555556,\"#d8576b\"],[0.6666666666666666,\"#ed7953\"],[0.7777777777777778,\"#fb9f3a\"],[0.8888888888888888,\"#fdca26\"],[1.0,\"#f0f921\"]],\"type\":\"surface\"}],\"table\":[{\"cells\":{\"fill\":{\"color\":\"#EBF0F8\"},\"line\":{\"color\":\"white\"}},\"header\":{\"fill\":{\"color\":\"#C8D4E3\"},\"line\":{\"color\":\"white\"}},\"type\":\"table\"}]},\"layout\":{\"annotationdefaults\":{\"arrowcolor\":\"#2a3f5f\",\"arrowhead\":0,\"arrowwidth\":1},\"autotypenumbers\":\"strict\",\"coloraxis\":{\"colorbar\":{\"outlinewidth\":0,\"ticks\":\"\"}},\"colorscale\":{\"diverging\":[[0,\"#8e0152\"],[0.1,\"#c51b7d\"],[0.2,\"#de77ae\"],[0.3,\"#f1b6da\"],[0.4,\"#fde0ef\"],[0.5,\"#f7f7f7\"],[0.6,\"#e6f5d0\"],[0.7,\"#b8e186\"],[0.8,\"#7fbc41\"],[0.9,\"#4d9221\"],[1,\"#276419\"]],\"sequential\":[[0.0,\"#0d0887\"],[0.1111111111111111,\"#46039f\"],[0.2222222222222222,\"#7201a8\"],[0.3333333333333333,\"#9c179e\"],[0.4444444444444444,\"#bd3786\"],[0.5555555555555556,\"#d8576b\"],[0.6666666666666666,\"#ed7953\"],[0.7777777777777778,\"#fb9f3a\"],[0.8888888888888888,\"#fdca26\"],[1.0,\"#f0f921\"]],\"sequentialminus\":[[0.0,\"#0d0887\"],[0.1111111111111111,\"#46039f\"],[0.2222222222222222,\"#7201a8\"],[0.3333333333333333,\"#9c179e\"],[0.4444444444444444,\"#bd3786\"],[0.5555555555555556,\"#d8576b\"],[0.6666666666666666,\"#ed7953\"],[0.7777777777777778,\"#fb9f3a\"],[0.8888888888888888,\"#fdca26\"],[1.0,\"#f0f921\"]]},\"colorway\":[\"#636efa\",\"#EF553B\",\"#00cc96\",\"#ab63fa\",\"#FFA15A\",\"#19d3f3\",\"#FF6692\",\"#B6E880\",\"#FF97FF\",\"#FECB52\"],\"font\":{\"color\":\"#2a3f5f\"},\"geo\":{\"bgcolor\":\"white\",\"lakecolor\":\"white\",\"landcolor\":\"#E5ECF6\",\"showlakes\":true,\"showland\":true,\"subunitcolor\":\"white\"},\"hoverlabel\":{\"align\":\"left\"},\"hovermode\":\"closest\",\"mapbox\":{\"style\":\"light\"},\"paper_bgcolor\":\"white\",\"plot_bgcolor\":\"#E5ECF6\",\"polar\":{\"angularaxis\":{\"gridcolor\":\"white\",\"linecolor\":\"white\",\"ticks\":\"\"},\"bgcolor\":\"#E5ECF6\",\"radialaxis\":{\"gridcolor\":\"white\",\"linecolor\":\"white\",\"ticks\":\"\"}},\"scene\":{\"xaxis\":{\"backgroundcolor\":\"#E5ECF6\",\"gridcolor\":\"white\",\"gridwidth\":2,\"linecolor\":\"white\",\"showbackground\":true,\"ticks\":\"\",\"zerolinecolor\":\"white\"},\"yaxis\":{\"backgroundcolor\":\"#E5ECF6\",\"gridcolor\":\"white\",\"gridwidth\":2,\"linecolor\":\"white\",\"showbackground\":true,\"ticks\":\"\",\"zerolinecolor\":\"white\"},\"zaxis\":{\"backgroundcolor\":\"#E5ECF6\",\"gridcolor\":\"white\",\"gridwidth\":2,\"linecolor\":\"white\",\"showbackground\":true,\"ticks\":\"\",\"zerolinecolor\":\"white\"}},\"shapedefaults\":{\"line\":{\"color\":\"#2a3f5f\"}},\"ternary\":{\"aaxis\":{\"gridcolor\":\"white\",\"linecolor\":\"white\",\"ticks\":\"\"},\"baxis\":{\"gridcolor\":\"white\",\"linecolor\":\"white\",\"ticks\":\"\"},\"bgcolor\":\"#E5ECF6\",\"caxis\":{\"gridcolor\":\"white\",\"linecolor\":\"white\",\"ticks\":\"\"}},\"title\":{\"x\":0.05},\"xaxis\":{\"automargin\":true,\"gridcolor\":\"white\",\"linecolor\":\"white\",\"ticks\":\"\",\"title\":{\"standoff\":15},\"zerolinecolor\":\"white\",\"zerolinewidth\":2},\"yaxis\":{\"automargin\":true,\"gridcolor\":\"white\",\"linecolor\":\"white\",\"ticks\":\"\",\"title\":{\"standoff\":15},\"zerolinecolor\":\"white\",\"zerolinewidth\":2}}},\"title\":{\"text\":\"Emission by Region\"}},                        {\"responsive\": true}                    ).then(function(){\n",
       "                            \n",
       "var gd = document.getElementById('0130b2dd-0e8e-4e9f-ad6e-a52c1656f324');\n",
       "var x = new MutationObserver(function (mutations, observer) {{\n",
       "        var display = window.getComputedStyle(gd).display;\n",
       "        if (!display || display === 'none') {{\n",
       "            console.log([gd, 'removed!']);\n",
       "            Plotly.purge(gd);\n",
       "            observer.disconnect();\n",
       "        }}\n",
       "}});\n",
       "\n",
       "// Listen for the removal of the full notebook cells\n",
       "var notebookContainer = gd.closest('#notebook-container');\n",
       "if (notebookContainer) {{\n",
       "    x.observe(notebookContainer, {childList: true});\n",
       "}}\n",
       "\n",
       "// Listen for the clearing of the current output cell\n",
       "var outputEl = gd.closest('.output');\n",
       "if (outputEl) {{\n",
       "    x.observe(outputEl, {childList: true});\n",
       "}}\n",
       "\n",
       "                        })                };                });            </script>        </div>"
      ]
     },
     "metadata": {},
     "output_type": "display_data"
    }
   ],
   "source": [
    "trace000 = go.Scatter(x=region.Year, y=region[\"Africa\"], name=\"Africa\")\n",
    "trace111 = go.Scatter(x=region.Year, y=region[\"Asia\"], name=\"Asia\")\n",
    "trace222 = go.Scatter(x=region.Year, y=region[\"Central America\"], name=\"Central America\")\n",
    "trace333 = go.Scatter(x=region.Year, y=region[\"Europe\"], name=\"Europe\")\n",
    "trace444 = go.Scatter(x=region.Year, y=region[\"Middle East\"], name=\"Middle East\")\n",
    "trace555 = go.Scatter(x=region.Year, y=region[\"North America\"], name=\"North America\")\n",
    "trace666 = go.Scatter(x=region.Year, y=region[\"Oceania\"], name=\"Oceania\")\n",
    "trace777 = go.Scatter(x=region.Year, y=region[\"South America\"], name=\"South America\")\n",
    "\n",
    "link = [trace000, trace111, trace222, trace333, trace444, trace555, trace666, trace777]\n",
    "layout = {\"title\": \"Emission by Region\"}\n",
    "\n",
    "fig = go.Figure(data=link, layout=layout)\n",
    "\n",
    "iplot(fig, show_link=False)"
   ]
  }
 ],
 "metadata": {
  "kernelspec": {
   "display_name": "Python 3",
   "language": "python",
   "name": "python3"
  },
  "language_info": {
   "codemirror_mode": {
    "name": "ipython",
    "version": 3
   },
   "file_extension": ".py",
   "mimetype": "text/x-python",
   "name": "python",
   "nbconvert_exporter": "python",
   "pygments_lexer": "ipython3",
   "version": "3.11.2"
  },
  "orig_nbformat": 4
 },
 "nbformat": 4,
 "nbformat_minor": 2
}
